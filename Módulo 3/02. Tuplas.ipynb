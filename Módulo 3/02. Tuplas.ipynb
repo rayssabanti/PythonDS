{
 "cells": [
  {
   "cell_type": "markdown",
   "id": "c383e8a7-336f-40dd-8400-65f1e20a684d",
   "metadata": {},
   "source": [
    "## Tuplas"
   ]
  },
  {
   "cell_type": "markdown",
   "id": "08d49d0b-860d-4c40-8b4c-e8dd9bb07dab",
   "metadata": {
    "jp-MarkdownHeadingCollapsed": true,
    "tags": []
   },
   "source": [
    "### Conhecendo as tuplas"
   ]
  },
  {
   "cell_type": "markdown",
   "id": "8a5b591f-95f3-432d-9c39-49b38a356c72",
   "metadata": {},
   "source": [
    "São sequências imutáveis que são utilizadas para armazenar itens, normalmente heterogêneos.\n",
    "São criadas de várias formas:\n"
   ]
  },
  {
   "cell_type": "markdown",
   "id": "688281d1-33a9-4ea8-a897-efbab83b0256",
   "metadata": {},
   "source": [
    "##### Utilizando parênteses"
   ]
  },
  {
   "cell_type": "code",
   "execution_count": 1,
   "id": "8099213c-b80c-42c2-ae24-cd3b46384d3f",
   "metadata": {},
   "outputs": [
    {
     "data": {
      "text/plain": [
       "(1, 2, 3)"
      ]
     },
     "execution_count": 1,
     "metadata": {},
     "output_type": "execute_result"
    }
   ],
   "source": [
    "(1,2,3)"
   ]
  },
  {
   "cell_type": "markdown",
   "id": "cb352e1c-f1eb-4fcf-a91b-3701b3d22e8f",
   "metadata": {},
   "source": [
    "##### Utilizando vírgula a direita"
   ]
  },
  {
   "cell_type": "code",
   "execution_count": 4,
   "id": "527772c7-f7f0-493f-9a3d-7c41283e381a",
   "metadata": {},
   "outputs": [
    {
     "data": {
      "text/plain": [
       "('Passat', 153000)"
      ]
     },
     "execution_count": 4,
     "metadata": {},
     "output_type": "execute_result"
    }
   ],
   "source": [
    "nome = 'Passat'\n",
    "valor = 153000\n",
    "(nome, valor)"
   ]
  },
  {
   "cell_type": "markdown",
   "id": "8fe18d86-0cd3-4d33-b785-198f62184190",
   "metadata": {},
   "source": [
    "##### Utilizando o tuple"
   ]
  },
  {
   "cell_type": "code",
   "execution_count": 5,
   "id": "8145c495-282f-4063-a506-188b62a23f9e",
   "metadata": {},
   "outputs": [
    {
     "data": {
      "text/plain": [
       "('Jetta Variant', 'Passat', 'Crossfox', 'DS5')"
      ]
     },
     "execution_count": 5,
     "metadata": {},
     "output_type": "execute_result"
    }
   ],
   "source": [
    "nomes_carros = tuple(['Jetta Variant', 'Passat', 'Crossfox', 'DS5'])\n",
    "nomes_carros"
   ]
  },
  {
   "cell_type": "markdown",
   "id": "1ca4724f-f467-4168-a768-6a2622c7de10",
   "metadata": {
    "jp-MarkdownHeadingCollapsed": true,
    "tags": []
   },
   "source": [
    "### Seleções com tuplas"
   ]
  },
  {
   "cell_type": "code",
   "execution_count": 6,
   "id": "5705805f-65f4-480e-8a6a-38f717649476",
   "metadata": {},
   "outputs": [
    {
     "data": {
      "text/plain": [
       "('Jetta Variant', 'Passat', 'Crossfox', 'DS5')"
      ]
     },
     "execution_count": 6,
     "metadata": {},
     "output_type": "execute_result"
    }
   ],
   "source": [
    "nomes_carros = tuple(['Jetta Variant', 'Passat', 'Crossfox', 'DS5'])\n",
    "nomes_carros"
   ]
  },
  {
   "cell_type": "markdown",
   "id": "3ff29aa7-41a9-426b-8e53-55bfbad73c86",
   "metadata": {},
   "source": [
    "Como acessar o primeiro item?"
   ]
  },
  {
   "cell_type": "code",
   "execution_count": 7,
   "id": "83ee5a12-9b3b-45f3-9a3c-e2356030378d",
   "metadata": {},
   "outputs": [
    {
     "data": {
      "text/plain": [
       "'Jetta Variant'"
      ]
     },
     "execution_count": 7,
     "metadata": {},
     "output_type": "execute_result"
    }
   ],
   "source": [
    "nomes_carros[0]"
   ]
  },
  {
   "cell_type": "markdown",
   "id": "2271c16d-bc4c-40d7-90d9-d8dd86d54507",
   "metadata": {},
   "source": [
    "Como acessar o segundo item?"
   ]
  },
  {
   "cell_type": "code",
   "execution_count": 8,
   "id": "ac2fb4eb-adca-4e4b-a044-bd035c7ce2ff",
   "metadata": {},
   "outputs": [
    {
     "data": {
      "text/plain": [
       "'Passat'"
      ]
     },
     "execution_count": 8,
     "metadata": {},
     "output_type": "execute_result"
    }
   ],
   "source": [
    "nomes_carros[1]"
   ]
  },
  {
   "cell_type": "markdown",
   "id": "5af37cd2-6a04-46b9-8494-46d4c0a47614",
   "metadata": {},
   "source": [
    "Como acessar o último item?"
   ]
  },
  {
   "cell_type": "code",
   "execution_count": 9,
   "id": "c81288be-b908-48a8-9c72-99308b45bbc0",
   "metadata": {},
   "outputs": [
    {
     "data": {
      "text/plain": [
       "'DS5'"
      ]
     },
     "execution_count": 9,
     "metadata": {},
     "output_type": "execute_result"
    }
   ],
   "source": [
    "nomes_carros[-1]"
   ]
  },
  {
   "cell_type": "markdown",
   "id": "c6333399-a1a1-4302-b735-1392312dd5de",
   "metadata": {},
   "source": [
    "#### Utilizando o slice com tuplas"
   ]
  },
  {
   "cell_type": "markdown",
   "id": "13366fb8-14cb-4b4c-a653-50777589b6d0",
   "metadata": {},
   "source": [
    "Selecionar os dois caras do meio"
   ]
  },
  {
   "cell_type": "code",
   "execution_count": 12,
   "id": "dd0251fd-48be-406c-8f2a-dfa54c41d645",
   "metadata": {},
   "outputs": [
    {
     "data": {
      "text/plain": [
       "('Passat', 'Crossfox')"
      ]
     },
     "execution_count": 12,
     "metadata": {},
     "output_type": "execute_result"
    }
   ],
   "source": [
    "nomes_carros[1:3] #primeiro vai aparecer o último não vai aparecer"
   ]
  },
  {
   "cell_type": "markdown",
   "id": "be2444c5-7fe0-40c9-b18c-3adaa4b672f1",
   "metadata": {},
   "source": [
    "#### Acessando tupla dentro de tupla"
   ]
  },
  {
   "cell_type": "code",
   "execution_count": 13,
   "id": "252075df-7688-4865-9c53-a5bbf8bca19e",
   "metadata": {},
   "outputs": [
    {
     "data": {
      "text/plain": [
       "('Jetta Variant', 'Passat', 'Crossfox', 'DS5', ('Fusca', 'Gol', 'C4'))"
      ]
     },
     "execution_count": 13,
     "metadata": {},
     "output_type": "execute_result"
    }
   ],
   "source": [
    "nomes_carros = ('Jetta Variant', 'Passat', 'Crossfox', 'DS5', ('Fusca', 'Gol', 'C4'))\n",
    "nomes_carros"
   ]
  },
  {
   "cell_type": "code",
   "execution_count": 14,
   "id": "8b5dd034-edac-4f1f-85a1-462e1d22bbd5",
   "metadata": {},
   "outputs": [
    {
     "data": {
      "text/plain": [
       "('Fusca', 'Gol', 'C4')"
      ]
     },
     "execution_count": 14,
     "metadata": {},
     "output_type": "execute_result"
    }
   ],
   "source": [
    "nomes_carros[-1]"
   ]
  },
  {
   "cell_type": "code",
   "execution_count": 15,
   "id": "c266eb79-cc17-432c-b1a4-a3dabad3a3b3",
   "metadata": {},
   "outputs": [
    {
     "data": {
      "text/plain": [
       "'Gol'"
      ]
     },
     "execution_count": 15,
     "metadata": {},
     "output_type": "execute_result"
    }
   ],
   "source": [
    "nomes_carros[-1][1]"
   ]
  },
  {
   "cell_type": "markdown",
   "id": "db72a858-ebac-4b41-a18a-ae90c80728ad",
   "metadata": {
    "tags": []
   },
   "source": [
    "### Como fazer iterações com tuplas"
   ]
  },
  {
   "cell_type": "code",
   "execution_count": 21,
   "id": "fb42bac3-1b2f-42ea-ac41-32defae38454",
   "metadata": {},
   "outputs": [
    {
     "data": {
      "text/plain": [
       "('Jetta Variant', 'Passat', 'Crossfox', 'DS5')"
      ]
     },
     "execution_count": 21,
     "metadata": {},
     "output_type": "execute_result"
    }
   ],
   "source": [
    "nomes_carros = ('Jetta Variant', 'Passat', 'Crossfox', 'DS5')\n",
    "nomes_carros"
   ]
  },
  {
   "cell_type": "code",
   "execution_count": 22,
   "id": "422294e7-b2e2-46c6-89fb-044098bf4239",
   "metadata": {},
   "outputs": [
    {
     "name": "stdout",
     "output_type": "stream",
     "text": [
      "Jetta Variant\n",
      "Passat\n",
      "Crossfox\n",
      "DS5\n"
     ]
    }
   ],
   "source": [
    "for item in nomes_carros:\n",
    "    print(item)"
   ]
  },
  {
   "cell_type": "markdown",
   "id": "2660f089-d19e-4929-9a37-602baf2fab95",
   "metadata": {},
   "source": [
    "#### Desempacotamento"
   ]
  },
  {
   "cell_type": "code",
   "execution_count": 24,
   "id": "cab757cc-cbe0-4900-8236-0e49df8c15f8",
   "metadata": {},
   "outputs": [],
   "source": [
    "carro_1, carro_2, carro_3, carro_4 = nomes_carros"
   ]
  },
  {
   "cell_type": "code",
   "execution_count": 25,
   "id": "74ef754b-89bb-453e-a69a-e735c13b673e",
   "metadata": {},
   "outputs": [
    {
     "data": {
      "text/plain": [
       "'Jetta Variant'"
      ]
     },
     "execution_count": 25,
     "metadata": {},
     "output_type": "execute_result"
    }
   ],
   "source": [
    "carro_1"
   ]
  },
  {
   "cell_type": "markdown",
   "id": "1a9a7f04-7e98-4971-9950-d027ec14dad2",
   "metadata": {},
   "source": [
    "#### Como pegar apenas os dois últimos no desempacotamento?"
   ]
  },
  {
   "cell_type": "code",
   "execution_count": 26,
   "id": "dbe10881-b95b-41d4-9fc6-d9c8d3d3195b",
   "metadata": {},
   "outputs": [],
   "source": [
    "_, A, _, B = nomes_carros"
   ]
  },
  {
   "cell_type": "code",
   "execution_count": 27,
   "id": "0bfd17db-dde9-431f-847a-5ee3ba082db6",
   "metadata": {},
   "outputs": [
    {
     "data": {
      "text/plain": [
       "'Passat'"
      ]
     },
     "execution_count": 27,
     "metadata": {},
     "output_type": "execute_result"
    }
   ],
   "source": [
    "A"
   ]
  },
  {
   "cell_type": "code",
   "execution_count": 28,
   "id": "40c60535-dc4a-4de6-8d0e-515c84337567",
   "metadata": {},
   "outputs": [
    {
     "data": {
      "text/plain": [
       "'DS5'"
      ]
     },
     "execution_count": 28,
     "metadata": {},
     "output_type": "execute_result"
    }
   ],
   "source": [
    "B"
   ]
  },
  {
   "cell_type": "markdown",
   "id": "577f30de-44c1-4890-b2b3-1ee0652a3782",
   "metadata": {},
   "source": [
    "#### Quando quer apenas um valor"
   ]
  },
  {
   "cell_type": "code",
   "execution_count": 29,
   "id": "b0361d97-2191-4488-88f8-c80ee6a44587",
   "metadata": {},
   "outputs": [],
   "source": [
    "_, C, *_ =nomes_carros"
   ]
  },
  {
   "cell_type": "code",
   "execution_count": 30,
   "id": "93a65f54-0660-4e06-8ebd-c46c64863fc9",
   "metadata": {},
   "outputs": [
    {
     "data": {
      "text/plain": [
       "'Passat'"
      ]
     },
     "execution_count": 30,
     "metadata": {},
     "output_type": "execute_result"
    }
   ],
   "source": [
    "C"
   ]
  },
  {
   "cell_type": "markdown",
   "id": "2b1916dc-f31f-4064-8918-1f5ddf2d9939",
   "metadata": {
    "tags": []
   },
   "source": [
    "#### Utilizando o Zip()"
   ]
  },
  {
   "cell_type": "code",
   "execution_count": 32,
   "id": "c6f9e953-378f-44d6-9c62-2aff2d8bba59",
   "metadata": {},
   "outputs": [
    {
     "data": {
      "text/plain": [
       "['Jetta Variant', 'Passat', 'Crossfox', 'DS5']"
      ]
     },
     "execution_count": 32,
     "metadata": {},
     "output_type": "execute_result"
    }
   ],
   "source": [
    "carros = ['Jetta Variant', 'Passat', 'Crossfox', 'DS5']\n",
    "carros"
   ]
  },
  {
   "cell_type": "code",
   "execution_count": 33,
   "id": "0e421068-8d07-4d42-beb6-26b34ff1c3ae",
   "metadata": {},
   "outputs": [
    {
     "data": {
      "text/plain": [
       "[88078.64, 106161.94, 72832.16, 124549.07]"
      ]
     },
     "execution_count": 33,
     "metadata": {},
     "output_type": "execute_result"
    }
   ],
   "source": [
    "valores = [88078.64, 106161.94, 72832.16, 124549.07]\n",
    "valores"
   ]
  },
  {
   "cell_type": "code",
   "execution_count": 35,
   "id": "edb4fa5e-0c19-4e9f-9e2e-4ae3285b7771",
   "metadata": {},
   "outputs": [
    {
     "data": {
      "text/plain": [
       "[('Jetta Variant', 88078.64),\n",
       " ('Passat', 106161.94),\n",
       " ('Crossfox', 72832.16),\n",
       " ('DS5', 124549.07)]"
      ]
     },
     "execution_count": 35,
     "metadata": {},
     "output_type": "execute_result"
    }
   ],
   "source": [
    "list(zip(carros, valores))"
   ]
  },
  {
   "cell_type": "code",
   "execution_count": 36,
   "id": "2c92573d-f6ed-4c36-94ab-4c669731e240",
   "metadata": {},
   "outputs": [
    {
     "name": "stdout",
     "output_type": "stream",
     "text": [
      "('Jetta Variant', 88078.64)\n",
      "('Passat', 106161.94)\n",
      "('Crossfox', 72832.16)\n",
      "('DS5', 124549.07)\n"
     ]
    }
   ],
   "source": [
    "for  item in zip(carros, valores):\n",
    "    print(item)"
   ]
  },
  {
   "cell_type": "code",
   "execution_count": 37,
   "id": "9fce732e-dee6-44cd-a742-7f965a332d59",
   "metadata": {},
   "outputs": [
    {
     "name": "stdout",
     "output_type": "stream",
     "text": [
      "Jetta Variant 88078.64\n",
      "Passat 106161.94\n",
      "Crossfox 72832.16\n",
      "DS5 124549.07\n"
     ]
    }
   ],
   "source": [
    "for  carro, valor in zip(carros, valores):\n",
    "    print(carro, valor)"
   ]
  },
  {
   "cell_type": "code",
   "execution_count": null,
   "id": "7a07529e-43f8-4977-b88d-951542e41513",
   "metadata": {},
   "outputs": [],
   "source": []
  }
 ],
 "metadata": {
  "kernelspec": {
   "display_name": "Python 3 (ipykernel)",
   "language": "python",
   "name": "python3"
  },
  "language_info": {
   "codemirror_mode": {
    "name": "ipython",
    "version": 3
   },
   "file_extension": ".py",
   "mimetype": "text/x-python",
   "name": "python",
   "nbconvert_exporter": "python",
   "pygments_lexer": "ipython3",
   "version": "3.9.7"
  }
 },
 "nbformat": 4,
 "nbformat_minor": 5
}
