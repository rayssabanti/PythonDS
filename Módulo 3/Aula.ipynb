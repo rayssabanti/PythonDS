{
 "cells": [
  {
   "cell_type": "markdown",
   "id": "50954ced-074a-4d56-a1c9-379e1e630399",
   "metadata": {},
   "source": [
    "# Estruturas de repetição e condicionais\n",
    "\n",
    "### Formato padrão \n",
    "\n",
    "for <variavel> in <coleção>:\n",
    "    <instruções>"
   ]
  },
  {
   "cell_type": "markdown",
   "id": "d31d0ea3-118a-423d-8bd1-a7de52f6158c",
   "metadata": {},
   "source": [
    "### Loop com listas"
   ]
  },
  {
   "cell_type": "code",
   "execution_count": 1,
   "id": "1e48ae9f-16ac-4395-a993-9e5003eef3a1",
   "metadata": {},
   "outputs": [
    {
     "data": {
      "text/plain": [
       "['Rodas de liga',\n",
       " 'Travas elétricas',\n",
       " 'Piloto automático',\n",
       " 'Bancos de couro',\n",
       " 'Ar condicionado',\n",
       " 'Sensor de estacionamento',\n",
       " 'Sensor crepuscular',\n",
       " 'Sensor de chuva']"
      ]
     },
     "execution_count": 1,
     "metadata": {},
     "output_type": "execute_result"
    }
   ],
   "source": [
    "Acessorios = ['Rodas de liga', 'Travas elétricas', 'Piloto automático', 'Bancos de couro', 'Ar condicionado', 'Sensor de estacionamento', 'Sensor crepuscular', 'Sensor de chuva']\n",
    "Acessorios"
   ]
  },
  {
   "cell_type": "code",
   "execution_count": 2,
   "id": "5e892ae9-b810-47fb-a4c8-e4bd43218b70",
   "metadata": {},
   "outputs": [
    {
     "name": "stdout",
     "output_type": "stream",
     "text": [
      "Rodas de liga\n",
      "Travas elétricas\n",
      "Piloto automático\n",
      "Bancos de couro\n",
      "Ar condicionado\n",
      "Sensor de estacionamento\n",
      "Sensor crepuscular\n",
      "Sensor de chuva\n"
     ]
    }
   ],
   "source": [
    "for item  in Acessorios:\n",
    "    print(item)"
   ]
  },
  {
   "cell_type": "markdown",
   "id": "37c7f337-fdd2-4512-82f1-d74ede84cea7",
   "metadata": {},
   "source": [
    "### List Comprehensions"
   ]
  },
  {
   "cell_type": "code",
   "execution_count": 5,
   "id": "7f958a7c-05b6-4246-95de-a0f3ec31b06b",
   "metadata": {},
   "outputs": [
    {
     "data": {
      "text/plain": [
       "range(0, 10)"
      ]
     },
     "execution_count": 5,
     "metadata": {},
     "output_type": "execute_result"
    }
   ],
   "source": [
    "range(10) #de tamanho 10 "
   ]
  },
  {
   "cell_type": "code",
   "execution_count": 6,
   "id": "90a3adcd-f6e3-4be0-8ddb-e38d3e9273a3",
   "metadata": {},
   "outputs": [
    {
     "data": {
      "text/plain": [
       "[0, 1, 2, 3, 4, 5, 6, 7, 8, 9]"
      ]
     },
     "execution_count": 6,
     "metadata": {},
     "output_type": "execute_result"
    }
   ],
   "source": [
    "list(range(10)) #cria uma lista com 10 itens de tamanho"
   ]
  },
  {
   "cell_type": "code",
   "execution_count": 7,
   "id": "cf4d8a24-1d3d-4a48-ae3e-91ff656973fa",
   "metadata": {},
   "outputs": [
    {
     "name": "stdout",
     "output_type": "stream",
     "text": [
      "0\n",
      "1\n",
      "4\n",
      "9\n",
      "16\n",
      "25\n",
      "36\n",
      "49\n",
      "64\n",
      "81\n"
     ]
    }
   ],
   "source": [
    "for i in range(10):\n",
    "    print(i **2)"
   ]
  },
  {
   "cell_type": "code",
   "execution_count": 9,
   "id": "87f25774-7d91-4d3d-9606-6e2cc10a86bc",
   "metadata": {},
   "outputs": [
    {
     "data": {
      "text/plain": [
       "[0, 1, 4, 9, 16, 25, 36, 49, 64, 81]"
      ]
     },
     "execution_count": 9,
     "metadata": {},
     "output_type": "execute_result"
    }
   ],
   "source": [
    "quadrado = [] \n",
    "\n",
    "for i in range(10):\n",
    "    quadrado.append(i **2)\n",
    "    \n",
    "quadrado"
   ]
  },
  {
   "cell_type": "markdown",
   "id": "c89fda6c-3335-47e6-93d9-c7bb024aed9b",
   "metadata": {},
   "source": [
    "### Loops Aninhados"
   ]
  },
  {
   "cell_type": "code",
   "execution_count": 10,
   "id": "8f0f0750-8c3a-4c26-a9e0-2ffc9284346b",
   "metadata": {},
   "outputs": [
    {
     "data": {
      "text/plain": [
       "[['Rodas de liga',\n",
       "  'Travas elétricas',\n",
       "  'Piloto automático',\n",
       "  'Bancos de couro',\n",
       "  'Ar condicionado',\n",
       "  'Sensor de estacionamento',\n",
       "  'Sensor crepuscular',\n",
       "  'Sensor de chuva'],\n",
       " ['Central multimídia',\n",
       "  'Teto panorâmico',\n",
       "  'Freios ABS',\n",
       "  '4 X 4',\n",
       "  'Painel digital',\n",
       "  'Piloto automático',\n",
       "  'Bancos de couro',\n",
       "  'Câmera de estacionamento'],\n",
       " ['Piloto automático',\n",
       "  'Controle de estabilidade',\n",
       "  'Sensor crepuscular',\n",
       "  'Freios ABS',\n",
       "  'Câmbio automático',\n",
       "  'Bancos de couro',\n",
       "  'Central multimídia',\n",
       "  'Vidros elétricos']]"
      ]
     },
     "execution_count": 10,
     "metadata": {},
     "output_type": "execute_result"
    }
   ],
   "source": [
    "dados = [ \n",
    "    ['Rodas de liga', 'Travas elétricas', 'Piloto automático', 'Bancos de couro', 'Ar condicionado', 'Sensor de estacionamento', 'Sensor crepuscular', 'Sensor de chuva'],\n",
    "    ['Central multimídia', 'Teto panorâmico', 'Freios ABS', '4 X 4', 'Painel digital', 'Piloto automático', 'Bancos de couro', 'Câmera de estacionamento'],\n",
    "    ['Piloto automático', 'Controle de estabilidade', 'Sensor crepuscular', 'Freios ABS', 'Câmbio automático', 'Bancos de couro', 'Central multimídia', 'Vidros elétricos']\n",
    "]\n",
    "dados"
   ]
  },
  {
   "cell_type": "code",
   "execution_count": 11,
   "id": "0a55e2da-43f8-43c2-931a-022692058b65",
   "metadata": {},
   "outputs": [
    {
     "name": "stdout",
     "output_type": "stream",
     "text": [
      "['Rodas de liga', 'Travas elétricas', 'Piloto automático', 'Bancos de couro', 'Ar condicionado', 'Sensor de estacionamento', 'Sensor crepuscular', 'Sensor de chuva']\n",
      "['Central multimídia', 'Teto panorâmico', 'Freios ABS', '4 X 4', 'Painel digital', 'Piloto automático', 'Bancos de couro', 'Câmera de estacionamento']\n",
      "['Piloto automático', 'Controle de estabilidade', 'Sensor crepuscular', 'Freios ABS', 'Câmbio automático', 'Bancos de couro', 'Central multimídia', 'Vidros elétricos']\n"
     ]
    }
   ],
   "source": [
    "for lista in dados:\n",
    "    print(lista)"
   ]
  },
  {
   "cell_type": "code",
   "execution_count": 12,
   "id": "b3156ded-7c65-4740-a0cb-bcecc2caf628",
   "metadata": {},
   "outputs": [
    {
     "name": "stdout",
     "output_type": "stream",
     "text": [
      "Rodas de liga\n",
      "Travas elétricas\n",
      "Piloto automático\n",
      "Bancos de couro\n",
      "Ar condicionado\n",
      "Sensor de estacionamento\n",
      "Sensor crepuscular\n",
      "Sensor de chuva\n",
      "Central multimídia\n",
      "Teto panorâmico\n",
      "Freios ABS\n",
      "4 X 4\n",
      "Painel digital\n",
      "Piloto automático\n",
      "Bancos de couro\n",
      "Câmera de estacionamento\n",
      "Piloto automático\n",
      "Controle de estabilidade\n",
      "Sensor crepuscular\n",
      "Freios ABS\n",
      "Câmbio automático\n",
      "Bancos de couro\n",
      "Central multimídia\n",
      "Vidros elétricos\n"
     ]
    }
   ],
   "source": [
    "for lista in dados:\n",
    "    for item in lista:\n",
    "        print(item)"
   ]
  },
  {
   "cell_type": "code",
   "execution_count": 14,
   "id": "172e0b80-34de-4234-a154-8a9e67895032",
   "metadata": {},
   "outputs": [
    {
     "data": {
      "text/plain": [
       "['Rodas de liga',\n",
       " 'Travas elétricas',\n",
       " 'Piloto automático',\n",
       " 'Bancos de couro',\n",
       " 'Ar condicionado',\n",
       " 'Sensor de estacionamento',\n",
       " 'Sensor crepuscular',\n",
       " 'Sensor de chuva',\n",
       " 'Central multimídia',\n",
       " 'Teto panorâmico',\n",
       " 'Freios ABS',\n",
       " '4 X 4',\n",
       " 'Painel digital',\n",
       " 'Piloto automático',\n",
       " 'Bancos de couro',\n",
       " 'Câmera de estacionamento',\n",
       " 'Piloto automático',\n",
       " 'Controle de estabilidade',\n",
       " 'Sensor crepuscular',\n",
       " 'Freios ABS',\n",
       " 'Câmbio automático',\n",
       " 'Bancos de couro',\n",
       " 'Central multimídia',\n",
       " 'Vidros elétricos']"
      ]
     },
     "execution_count": 14,
     "metadata": {},
     "output_type": "execute_result"
    }
   ],
   "source": [
    "Acessorios = []\n",
    "for lista in dados:\n",
    "  for item in lista:\n",
    "        Acessorios.append(item)\n",
    "Acessorios"
   ]
  },
  {
   "cell_type": "markdown",
   "id": "e7a94a70-2263-4fee-99a6-a56157601623",
   "metadata": {},
   "source": [
    "#### Set()\n",
    "\n",
    "Remove duplicatas de uma sequência"
   ]
  },
  {
   "cell_type": "code",
   "execution_count": 15,
   "id": "4dfb5685-aa68-435f-adb1-0eaeb0166a02",
   "metadata": {},
   "outputs": [
    {
     "data": {
      "text/plain": [
       "['Central multimídia',\n",
       " 'Sensor crepuscular',\n",
       " 'Sensor de estacionamento',\n",
       " 'Teto panorâmico',\n",
       " 'Piloto automático',\n",
       " 'Bancos de couro',\n",
       " '4 X 4',\n",
       " 'Rodas de liga',\n",
       " 'Câmbio automático',\n",
       " 'Vidros elétricos',\n",
       " 'Painel digital',\n",
       " 'Freios ABS',\n",
       " 'Câmera de estacionamento',\n",
       " 'Travas elétricas',\n",
       " 'Sensor de chuva',\n",
       " 'Ar condicionado',\n",
       " 'Controle de estabilidade']"
      ]
     },
     "execution_count": 15,
     "metadata": {},
     "output_type": "execute_result"
    }
   ],
   "source": [
    "list(set(Acessorios))"
   ]
  },
  {
   "cell_type": "markdown",
   "id": "7ca93d21-4c54-4bdf-bd92-2d055ff8e4d3",
   "metadata": {},
   "source": [
    "#### List Comprehentions"
   ]
  },
  {
   "cell_type": "code",
   "execution_count": 16,
   "id": "8b79976e-92fe-4b81-9014-5fe9d9df0a59",
   "metadata": {},
   "outputs": [
    {
     "data": {
      "text/plain": [
       "['Rodas de liga',\n",
       " 'Travas elétricas',\n",
       " 'Piloto automático',\n",
       " 'Bancos de couro',\n",
       " 'Ar condicionado',\n",
       " 'Sensor de estacionamento',\n",
       " 'Sensor crepuscular',\n",
       " 'Sensor de chuva',\n",
       " 'Central multimídia',\n",
       " 'Teto panorâmico',\n",
       " 'Freios ABS',\n",
       " '4 X 4',\n",
       " 'Painel digital',\n",
       " 'Piloto automático',\n",
       " 'Bancos de couro',\n",
       " 'Câmera de estacionamento',\n",
       " 'Piloto automático',\n",
       " 'Controle de estabilidade',\n",
       " 'Sensor crepuscular',\n",
       " 'Freios ABS',\n",
       " 'Câmbio automático',\n",
       " 'Bancos de couro',\n",
       " 'Central multimídia',\n",
       " 'Vidros elétricos']"
      ]
     },
     "execution_count": 16,
     "metadata": {},
     "output_type": "execute_result"
    }
   ],
   "source": [
    "[item for lista in dados for item in lista]"
   ]
  },
  {
   "cell_type": "code",
   "execution_count": 17,
   "id": "6b9a6dc2-f1a7-469d-b00e-af09d46f7f90",
   "metadata": {},
   "outputs": [
    {
     "data": {
      "text/plain": [
       "['Central multimídia',\n",
       " 'Sensor crepuscular',\n",
       " 'Sensor de estacionamento',\n",
       " 'Teto panorâmico',\n",
       " 'Piloto automático',\n",
       " 'Bancos de couro',\n",
       " '4 X 4',\n",
       " 'Rodas de liga',\n",
       " 'Câmbio automático',\n",
       " 'Vidros elétricos',\n",
       " 'Painel digital',\n",
       " 'Freios ABS',\n",
       " 'Câmera de estacionamento',\n",
       " 'Travas elétricas',\n",
       " 'Sensor de chuva',\n",
       " 'Ar condicionado',\n",
       " 'Controle de estabilidade']"
      ]
     },
     "execution_count": 17,
     "metadata": {},
     "output_type": "execute_result"
    }
   ],
   "source": [
    "list(set([item for lista in dados for item in lista]))"
   ]
  },
  {
   "cell_type": "code",
   "execution_count": null,
   "id": "038c6bfe-5c04-4fa7-bef9-10c62907da21",
   "metadata": {},
   "outputs": [],
   "source": []
  }
 ],
 "metadata": {
  "kernelspec": {
   "display_name": "Python 3 (ipykernel)",
   "language": "python",
   "name": "python3"
  },
  "language_info": {
   "codemirror_mode": {
    "name": "ipython",
    "version": 3
   },
   "file_extension": ".py",
   "mimetype": "text/x-python",
   "name": "python",
   "nbconvert_exporter": "python",
   "pygments_lexer": "ipython3",
   "version": "3.9.7"
  }
 },
 "nbformat": 4,
 "nbformat_minor": 5
}
