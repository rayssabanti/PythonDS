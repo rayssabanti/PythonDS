{
 "cells": [
  {
   "cell_type": "markdown",
   "id": "1fea3430-0645-4da2-856a-13b65f393b3e",
   "metadata": {},
   "source": [
    "## EXERCÍCIOS "
   ]
  },
  {
   "cell_type": "markdown",
   "id": "2af90f68-aa5c-49be-a521-c5c0e8892b1e",
   "metadata": {
    "jp-MarkdownHeadingCollapsed": true,
    "tags": []
   },
   "source": [
    "### 1) Em nosso primeiro treinamento de Python para Data Science, nós aprendemos como fazer seleções de itens em listas e em arrays Numpy. O procedimento para seleções em tuplas funciona da mesma forma.\n",
    "\n",
    "Considere a seguinte tupla:\n",
    "\n"
   ]
  },
  {
   "cell_type": "code",
   "execution_count": 1,
   "id": "9113ffab-f242-4402-a3bc-16ff0a61a56e",
   "metadata": {},
   "outputs": [],
   "source": [
    "carros = (\n",
    "    (\n",
    "        'Jetta Variant',\n",
    "        'Motor 4.0 Turbo',\n",
    "        2003,\n",
    "        False,\n",
    "        ('Rodas de liga', 'Travas elétricas', 'Piloto automático')\n",
    "    ),\n",
    "    (\n",
    "        'Passat',\n",
    "        'Motor Diesel',\n",
    "        1991,\n",
    "        True,\n",
    "        ('Central multimídia', 'Teto panorâmico', 'Freios ABS')\n",
    "    )\n",
    ")"
   ]
  },
  {
   "cell_type": "markdown",
   "id": "c934a830-6441-4f5f-8f10-785cc121e180",
   "metadata": {},
   "source": [
    "Considere também os seguintes códigos de seleção:\n",
    "\n",
    "1) carros[0][3]\n",
    "\n",
    "2) carros[-1][-1][-1]\n",
    "\n",
    "3) carros[0][-1][:2]\n",
    "\n"
   ]
  },
  {
   "cell_type": "markdown",
   "id": "21dd309f-e5f0-40e8-86b8-397a99ee73fc",
   "metadata": {
    "tags": []
   },
   "source": [
    "#### Resposta \n",
    "\n",
    "False, freios, rodas e travas"
   ]
  },
  {
   "cell_type": "markdown",
   "id": "bf5d9555-5409-4413-872e-4dc5f86be639",
   "metadata": {
    "jp-MarkdownHeadingCollapsed": true,
    "tags": []
   },
   "source": [
    "### 2) O procedimento de iteração em tuplas é o mesmo que aprendemos com listas, no treinamento anterior. Utilizamos a tupla como iterador de um laço for simples, ou aninhado, e conseguimos acesso a cada item individualmente.\n",
    "\n",
    "Para responder esta questão, considere a mesma tupla da atividade anterior"
   ]
  },
  {
   "cell_type": "markdown",
   "id": "a5c70578-a060-4d0d-bf99-b46263823433",
   "metadata": {},
   "source": [
    "Observe que se trata de uma tupla (1º nível) com duas tuplas, que representam um conjunto de dados de dois veículos (2º nível), e que uma destas informações (acessórios) vêm também dentro de uma tupla (3º nível). O que precisamos é iterar na tupla carros e imprimir todos os acessórios que aparecem. O resultado desejado é o seguinte:"
   ]
  },
  {
   "cell_type": "markdown",
   "id": "524de4bb-a1eb-43c2-bc4a-d16a66ed4a51",
   "metadata": {},
   "source": [
    "Rodas de liga\n",
    "\n",
    "Travas elétricas\n",
    "\n",
    "Piloto automático\n",
    "\n",
    "Central multimídia\n",
    "\n",
    "Teto panorâmico\n",
    "\n",
    "Freios ABS"
   ]
  },
  {
   "cell_type": "code",
   "execution_count": 5,
   "id": "a72d4cda-316d-4267-91f7-428d5b21cc03",
   "metadata": {},
   "outputs": [],
   "source": [
    "carros = (\n",
    "    (\n",
    "        'Jetta Variant',\n",
    "        'Motor 4.0 Turbo',\n",
    "        2003,\n",
    "        False,\n",
    "        ('Rodas de liga', 'Travas elétricas', 'Piloto automático')\n",
    "    ),\n",
    "    (\n",
    "        'Passat',\n",
    "        'Motor Diesel',\n",
    "        1991,\n",
    "        True,\n",
    "        ('Central multimídia', 'Teto panorâmico', 'Freios ABS')\n",
    "    )\n",
    ")"
   ]
  },
  {
   "cell_type": "code",
   "execution_count": 7,
   "id": "aaec3734-a199-4f07-ba10-63b3759d12e5",
   "metadata": {},
   "outputs": [
    {
     "name": "stdout",
     "output_type": "stream",
     "text": [
      "('Rodas de liga', 'Travas elétricas', 'Piloto automático')\n",
      "('Central multimídia', 'Teto panorâmico', 'Freios ABS')\n"
     ]
    }
   ],
   "source": [
    "for tupla in carros:\n",
    "    print(tupla[-1])"
   ]
  },
  {
   "cell_type": "code",
   "execution_count": 10,
   "id": "8a31cbf4-dd35-437e-af13-7f523db1bc34",
   "metadata": {},
   "outputs": [
    {
     "name": "stdout",
     "output_type": "stream",
     "text": [
      "Rodas de liga\n",
      "Travas elétricas\n",
      "Piloto automático\n",
      "Central multimídia\n",
      "Teto panorâmico\n",
      "Freios ABS\n"
     ]
    }
   ],
   "source": [
    "for tupla in carros:\n",
    "    for item in tupla[-1]:\n",
    "        print(item)"
   ]
  },
  {
   "cell_type": "markdown",
   "id": "131def06-7941-4492-9e60-f57b23f905a9",
   "metadata": {
    "jp-MarkdownHeadingCollapsed": true,
    "tags": []
   },
   "source": [
    "### 3) Duas ferramentas bastante utilizadas quando iteramos com tuplas são o desempacotamento de tuplas e a built-in function zip().\n",
    "\n",
    "Considerando as duas listas abaixo:\n",
    "    \n",
    "nomes = ['Passat', 'Crossfox', 'DS5', 'C4', 'Jetta']\n",
    "\n",
    "kms = [15000, 12000, 32000, 8000, 50000]\n",
    "\n",
    "E utilizando o ferramental apresentado acima, marque a alternativa com o código que possibilita a impressão dos nomes dos veículos com quilometragem abaixo de 20.000 km\n",
    "\n",
    "\n",
    "\n",
    "\n"
   ]
  },
  {
   "cell_type": "code",
   "execution_count": 12,
   "id": "7764eeee-e929-4474-adcb-e951324ebf2f",
   "metadata": {},
   "outputs": [],
   "source": [
    "nomes = ['Passat', 'Crossfox', 'DS5', 'C4', 'Jetta']\n",
    "kms = [15000, 12000, 32000, 8000, 50000]\n"
   ]
  },
  {
   "cell_type": "code",
   "execution_count": 14,
   "id": "7dd84276-698a-411c-a269-e967f535bab4",
   "metadata": {},
   "outputs": [
    {
     "name": "stdout",
     "output_type": "stream",
     "text": [
      "Passat\n",
      "Crossfox\n",
      "C4\n"
     ]
    }
   ],
   "source": [
    "for nome, km in zip(nomes, kms):\n",
    "    if km < 20000:\n",
    "        print(nome)\n",
    "        "
   ]
  },
  {
   "cell_type": "markdown",
   "id": "fd409c73-d113-40a1-92c9-872aa78795e6",
   "metadata": {
    "jp-MarkdownHeadingCollapsed": true,
    "tags": []
   },
   "source": [
    "### 4) Tendo como base as duas listas abaixo:\n",
    "\n",
    "nomes = ['Passat', 'Crossfox', 'DS5', 'C4', 'Jetta']\n",
    "\n",
    "kms = [15000, 12000, 32000, 8000, 50000]\n",
    "\n",
    "\n",
    "Como criarimos o dicionário dessas listas?"
   ]
  },
  {
   "cell_type": "code",
   "execution_count": 16,
   "id": "5f6a5a2d-957b-486c-94a6-7e8e90c6f765",
   "metadata": {},
   "outputs": [
    {
     "data": {
      "text/plain": [
       "{'Passat': 15000, 'Crossfox': 12000, 'DS5': 32000, 'C4': 8000, 'Jetta': 50000}"
      ]
     },
     "execution_count": 16,
     "metadata": {},
     "output_type": "execute_result"
    }
   ],
   "source": [
    "# Primeira forma \n",
    "\n",
    "dados= dict(zip(nomes,kms))\n",
    "dados"
   ]
  },
  {
   "cell_type": "markdown",
   "id": "da38fa6f-46b2-474f-aa9f-6e6fd8f129b1",
   "metadata": {
    "tags": []
   },
   "source": [
    "### 5) Operações básicas com dicionários\n",
    "\n",
    "dados = {\n",
    "    'Passat': {\n",
    "        'ano': 2012,\n",
    "        'km': 50000,\n",
    "        'valor': 75000,\n",
    "        'acessorios': ['Airbag', 'ABS']\n",
    "    }, \n",
    "    'Crossfox': {\n",
    "        'ano': 2015,\n",
    "        'km': 35000,\n",
    "        'valor': 25000\n",
    "    }\n",
    "}\n",
    "\n",
    "Note que dados tem dois itens, onde a chave (key) é o nome do veículo e o valor (value) é um dicionário com informações sobre este veículo (ano, quilometragem, valor e acessórios). Nossa tarefa nesta atividade é aprender como acessar as informações de um dicionário dentro de outro dicionário.\n",
    "\n",
    "Queremos o seguinte:\n",
    "\n",
    "1) Testar se a chave acessorios existe no dicionário de informações do carro Crossfox (Resposta: False)\n",
    "\n",
    "2) Testar se a chave acessorios existe no dicionário de informações do carro Passat (Resposta: True)\n",
    "\n",
    "3) Obter o valor do carro Crossfox (Resposta: 25000)\n",
    "\n",
    "4) Acessar o último acessório do carro Passat (Resposta: 'ABS')\n",
    "\n",
    "\n"
   ]
  },
  {
   "cell_type": "code",
   "execution_count": 18,
   "id": "3061ae08-78d2-4959-9ccb-b3d846337275",
   "metadata": {},
   "outputs": [],
   "source": [
    "dados = {\n",
    "    'Passat': {\n",
    "        'ano': 2012,\n",
    "        'km': 50000,\n",
    "        'valor': 75000,\n",
    "        'acessorios': ['Airbag', 'ABS']\n",
    "    }, \n",
    "    'Crossfox': {\n",
    "        'ano': 2015,\n",
    "        'km': 35000,\n",
    "        'valor': 25000\n",
    "    }\n",
    "}"
   ]
  },
  {
   "cell_type": "code",
   "execution_count": 30,
   "id": "1fe8402b-0acb-494d-bb2e-de1cbe2f09a2",
   "metadata": {},
   "outputs": [
    {
     "data": {
      "text/plain": [
       "False"
      ]
     },
     "execution_count": 30,
     "metadata": {},
     "output_type": "execute_result"
    }
   ],
   "source": [
    "'acessorios' in dados['Crossfox']"
   ]
  },
  {
   "cell_type": "code",
   "execution_count": 21,
   "id": "7e74177e-aab6-4119-92e1-aaa0c29f389f",
   "metadata": {},
   "outputs": [
    {
     "data": {
      "text/plain": [
       "True"
      ]
     },
     "execution_count": 21,
     "metadata": {},
     "output_type": "execute_result"
    }
   ],
   "source": [
    "'acessorios' in dados['Passat']"
   ]
  },
  {
   "cell_type": "code",
   "execution_count": 27,
   "id": "48952619-3ffd-466d-b13a-9d05b1ad13a7",
   "metadata": {},
   "outputs": [
    {
     "data": {
      "text/plain": [
       "25000"
      ]
     },
     "execution_count": 27,
     "metadata": {},
     "output_type": "execute_result"
    }
   ],
   "source": [
    "dados['Crossfox']['valor']"
   ]
  },
  {
   "cell_type": "code",
   "execution_count": 29,
   "id": "b39e4eb5-efab-452a-9c47-49420d1a3ad1",
   "metadata": {},
   "outputs": [
    {
     "data": {
      "text/plain": [
       "'ABS'"
      ]
     },
     "execution_count": 29,
     "metadata": {},
     "output_type": "execute_result"
    }
   ],
   "source": [
    "dados['Passat']['acessorios'][-1]"
   ]
  },
  {
   "cell_type": "markdown",
   "id": "48ccc821-1521-449b-8d56-0620f1366963",
   "metadata": {
    "jp-MarkdownHeadingCollapsed": true,
    "tags": []
   },
   "source": [
    "### 6) Utilize o dicionário abaixo para responder esta atividade.\n",
    "\n",
    "Imprima somente os nomes dos veículos com ano de fabricação maior ou igual a 2000."
   ]
  },
  {
   "cell_type": "code",
   "execution_count": 32,
   "id": "05865dcd-b82b-4e75-979c-6349bafe9a7a",
   "metadata": {},
   "outputs": [],
   "source": [
    "dados = {\n",
    "    'Crossfox': {'valor': 72000, 'ano': 2005}, \n",
    "    'DS5': {'valor': 125000, 'ano': 2015}, \n",
    "    'Fusca': {'valor': 150000, 'ano': 1976}, \n",
    "    'Jetta': {'valor': 88000, 'ano': 2010}, \n",
    "    'Passat': {'valor': 106000, 'ano': 1998}\n",
    "}"
   ]
  },
  {
   "cell_type": "code",
   "execution_count": 33,
   "id": "343752d1-1798-42ae-941e-b707ab12b01a",
   "metadata": {},
   "outputs": [
    {
     "data": {
      "text/plain": [
       "dict_items([('Crossfox', {'valor': 72000, 'ano': 2005}), ('DS5', {'valor': 125000, 'ano': 2015}), ('Fusca', {'valor': 150000, 'ano': 1976}), ('Jetta', {'valor': 88000, 'ano': 2010}), ('Passat', {'valor': 106000, 'ano': 1998})])"
      ]
     },
     "execution_count": 33,
     "metadata": {},
     "output_type": "execute_result"
    }
   ],
   "source": [
    "dados.items()"
   ]
  },
  {
   "cell_type": "code",
   "execution_count": 44,
   "id": "f8c3d8db-ee5b-4766-8430-2ffbf016a168",
   "metadata": {},
   "outputs": [
    {
     "name": "stdout",
     "output_type": "stream",
     "text": [
      "Crossfox\n",
      "DS5\n",
      "Jetta\n"
     ]
    }
   ],
   "source": [
    "for carro in dados.items():\n",
    "    if (carro[1]['ano'] >= 2000):\n",
    "        print(carro[0])"
   ]
  },
  {
   "cell_type": "code",
   "execution_count": 41,
   "id": "26e12e58-9338-406a-9e6d-7c2e598e59f4",
   "metadata": {
    "tags": []
   },
   "outputs": [
    {
     "name": "stdout",
     "output_type": "stream",
     "text": [
      "Crossfox\n",
      "DS5\n",
      "Jetta\n"
     ]
    }
   ],
   "source": [
    "for item in dados.items():\n",
    "    if(item[1]['ano'] >= 2000):\n",
    "        print(item[0])"
   ]
  },
  {
   "cell_type": "markdown",
   "id": "ccb2baa8-ad65-49f9-8f3c-d9d096439852",
   "metadata": {
    "jp-MarkdownHeadingCollapsed": true,
    "tags": []
   },
   "source": [
    "### 7) Quilometragem média de um veículo "
   ]
  },
  {
   "cell_type": "code",
   "execution_count": 3,
   "id": "8e8f1f61-1579-42c6-81ea-f8b47ae98c16",
   "metadata": {},
   "outputs": [],
   "source": [
    "dados = {\n",
    "    'Crossfox': {'km': 35000, 'ano': 2005}, \n",
    "    'DS5': {'km': 17000, 'ano': 2015}, \n",
    "    'Fusca': {'km': 130000, 'ano': 1979}, \n",
    "    'Jetta': {'km': 56000, 'ano': 2011}, \n",
    "    'Passat': {'km': 62000, 'ano': 1999}\n",
    "}"
   ]
  },
  {
   "cell_type": "code",
   "execution_count": 59,
   "id": "49c2c902-e971-4016-81a8-5ba70b1f176b",
   "metadata": {},
   "outputs": [],
   "source": [
    "def km_media(dataset, ano_atual):\n",
    "    for item in dataset.items():\n",
    "        result = item[1]['km'] / (ano_atual - item[1]['ano'])\n",
    "        print(result)"
   ]
  },
  {
   "cell_type": "code",
   "execution_count": 60,
   "id": "5b50e1ae-c984-4253-8102-b15144f1c085",
   "metadata": {},
   "outputs": [
    {
     "name": "stdout",
     "output_type": "stream",
     "text": [
      "2500.0\n",
      "4250.0\n",
      "3250.0\n",
      "7000.0\n",
      "3100.0\n"
     ]
    }
   ],
   "source": [
    "km_media(dados, 2019)"
   ]
  },
  {
   "cell_type": "code",
   "execution_count": null,
   "id": "e398de9e-774a-4df7-b925-6074fd59c759",
   "metadata": {},
   "outputs": [],
   "source": []
  },
  {
   "cell_type": "markdown",
   "id": "7e271b67-3d0b-45bb-9e02-e977ba1c75fe",
   "metadata": {
    "jp-MarkdownHeadingCollapsed": true,
    "tags": []
   },
   "source": [
    "### 8) Melhorando a função anterior"
   ]
  },
  {
   "cell_type": "code",
   "execution_count": 10,
   "id": "52ebe82c-9792-4b8e-81ac-ce65de0d1e42",
   "metadata": {},
   "outputs": [],
   "source": [
    "def km_media(dataset, ano_atual):\n",
    "    result = {}\n",
    "    for item in dataset.items():\n",
    "        media = item[1]['km'] / (ano_atual - item[1]['ano'])\n",
    "        result.update({ item[0]: media })\n",
    "    return result"
   ]
  },
  {
   "cell_type": "code",
   "execution_count": 11,
   "id": "5e3a611a-3011-4466-a088-bdebbf51a60e",
   "metadata": {},
   "outputs": [
    {
     "data": {
      "text/plain": [
       "{'Crossfox': 2500.0,\n",
       " 'DS5': 4250.0,\n",
       " 'Fusca': 3250.0,\n",
       " 'Jetta': 7000.0,\n",
       " 'Passat': 3100.0}"
      ]
     },
     "execution_count": 11,
     "metadata": {},
     "output_type": "execute_result"
    }
   ],
   "source": [
    "km_media(dados, 2019)"
   ]
  },
  {
   "cell_type": "markdown",
   "id": "17d31a82-5462-4880-b929-44aff0c4b02b",
   "metadata": {
    "jp-MarkdownHeadingCollapsed": true,
    "tags": []
   },
   "source": [
    "### 9) Elaborando um pouco mais a nossa função\n",
    "\n",
    "calcula as quilometragens médias anuais de cada veículo, atualiza o dicionário de entrada e retorna este dicionário:"
   ]
  },
  {
   "cell_type": "code",
   "execution_count": 13,
   "id": "000db51d-4151-4dfd-9c7c-01681bdbb446",
   "metadata": {},
   "outputs": [],
   "source": [
    "dados = {\n",
    "    'Crossfox': {'km': 35000, 'ano': 2005}, \n",
    "    'DS5': {'km': 17000, 'ano': 2015}, \n",
    "    'Fusca': {'km': 130000, 'ano': 1979}, \n",
    "    'Jetta': {'km': 56000, 'ano': 2011}, \n",
    "    'Passat': {'km': 62000, 'ano': 1999}\n",
    "}"
   ]
  },
  {
   "cell_type": "code",
   "execution_count": 15,
   "id": "e444ec8f-9a5a-4905-b710-32290cb8dfa0",
   "metadata": {},
   "outputs": [],
   "source": [
    "def km_media(dataset, ano_atual):\n",
    "    result = {}\n",
    "    for item in dataset.items():\n",
    "        media = item[1]['km'] / (ano_atual - item[1]['ano'])\n",
    "        \n",
    "\n",
    "    return result"
   ]
  },
  {
   "cell_type": "code",
   "execution_count": 22,
   "id": "c22dac38-7791-4b75-a8b7-23f581a18ada",
   "metadata": {},
   "outputs": [],
   "source": [
    "def km_media(dataset, ano_atual):\n",
    "    result = {}\n",
    "    for item in dataset.items():\n",
    "        media = item[1]['km'] / (ano_atual - item[1]['ano'])\n",
    "        item[1].update({ 'km_media': media })\n",
    "        result.update({ item[0]: item[1] })\n",
    "    return result"
   ]
  },
  {
   "cell_type": "code",
   "execution_count": 23,
   "id": "6a1a60f7-dfba-4945-8131-7dccf8090c89",
   "metadata": {},
   "outputs": [
    {
     "data": {
      "text/plain": [
       "{'Crossfox': {'km': 35000, 'ano': 2005, 'km_media': 2500.0},\n",
       " 'DS5': {'km': 17000, 'ano': 2015, 'km_media': 4250.0},\n",
       " 'Fusca': {'km': 130000, 'ano': 1979, 'km_media': 3250.0},\n",
       " 'Jetta': {'km': 56000, 'ano': 2011, 'km_media': 7000.0},\n",
       " 'Passat': {'km': 62000, 'ano': 1999, 'km_media': 3100.0}}"
      ]
     },
     "execution_count": 23,
     "metadata": {},
     "output_type": "execute_result"
    }
   ],
   "source": [
    "km_media(dados, 2019)"
   ]
  },
  {
   "cell_type": "markdown",
   "id": "f9cb55dc-41f6-4c03-989e-10049da9847f",
   "metadata": {
    "jp-MarkdownHeadingCollapsed": true,
    "tags": []
   },
   "source": [
    "### 10) Criando DataFrames\n",
    "Criar um DataFrame com o resultado obtido pela função acima. \n"
   ]
  },
  {
   "cell_type": "code",
   "execution_count": 31,
   "id": "99fddf4e-480f-4d2e-9c6d-d5a3ff095863",
   "metadata": {},
   "outputs": [],
   "source": [
    "import pandas as pd\n",
    "\n",
    "carros = pd.DataFrame(km_media(dados, 2019)).T"
   ]
  },
  {
   "cell_type": "code",
   "execution_count": 32,
   "id": "4041f81e-42a8-4554-8653-b65ee67765bf",
   "metadata": {},
   "outputs": [
    {
     "data": {
      "text/html": [
       "<div>\n",
       "<style scoped>\n",
       "    .dataframe tbody tr th:only-of-type {\n",
       "        vertical-align: middle;\n",
       "    }\n",
       "\n",
       "    .dataframe tbody tr th {\n",
       "        vertical-align: top;\n",
       "    }\n",
       "\n",
       "    .dataframe thead th {\n",
       "        text-align: right;\n",
       "    }\n",
       "</style>\n",
       "<table border=\"1\" class=\"dataframe\">\n",
       "  <thead>\n",
       "    <tr style=\"text-align: right;\">\n",
       "      <th></th>\n",
       "      <th>km</th>\n",
       "      <th>ano</th>\n",
       "      <th>km_media</th>\n",
       "    </tr>\n",
       "  </thead>\n",
       "  <tbody>\n",
       "    <tr>\n",
       "      <th>Crossfox</th>\n",
       "      <td>35000.0</td>\n",
       "      <td>2005.0</td>\n",
       "      <td>2500.0</td>\n",
       "    </tr>\n",
       "    <tr>\n",
       "      <th>DS5</th>\n",
       "      <td>17000.0</td>\n",
       "      <td>2015.0</td>\n",
       "      <td>4250.0</td>\n",
       "    </tr>\n",
       "    <tr>\n",
       "      <th>Fusca</th>\n",
       "      <td>130000.0</td>\n",
       "      <td>1979.0</td>\n",
       "      <td>3250.0</td>\n",
       "    </tr>\n",
       "    <tr>\n",
       "      <th>Jetta</th>\n",
       "      <td>56000.0</td>\n",
       "      <td>2011.0</td>\n",
       "      <td>7000.0</td>\n",
       "    </tr>\n",
       "    <tr>\n",
       "      <th>Passat</th>\n",
       "      <td>62000.0</td>\n",
       "      <td>1999.0</td>\n",
       "      <td>3100.0</td>\n",
       "    </tr>\n",
       "  </tbody>\n",
       "</table>\n",
       "</div>"
      ],
      "text/plain": [
       "                km     ano  km_media\n",
       "Crossfox   35000.0  2005.0    2500.0\n",
       "DS5        17000.0  2015.0    4250.0\n",
       "Fusca     130000.0  1979.0    3250.0\n",
       "Jetta      56000.0  2011.0    7000.0\n",
       "Passat     62000.0  1999.0    3100.0"
      ]
     },
     "execution_count": 32,
     "metadata": {},
     "output_type": "execute_result"
    }
   ],
   "source": [
    "carros"
   ]
  },
  {
   "cell_type": "markdown",
   "id": "c4b2ed34-872f-4cc1-9b86-bff661f24de6",
   "metadata": {
    "jp-MarkdownHeadingCollapsed": true,
    "tags": []
   },
   "source": [
    "### 11) Fatiamentos com DataFrames"
   ]
  },
  {
   "cell_type": "markdown",
   "id": "5e517448-8446-4cff-bc22-3db339707ed8",
   "metadata": {},
   "source": [
    "Selecione as informações de Nome, ano, km, e valor dos carros Passat e CrossFox"
   ]
  },
  {
   "cell_type": "code",
   "execution_count": 2,
   "id": "ef72eb0f-3915-40d7-81f7-053a0a007834",
   "metadata": {},
   "outputs": [],
   "source": [
    "import pandas as pd\n",
    "\n",
    "dados = {\n",
    "    'Nome': ['Jetta', 'Passat', 'Crossfox', 'DS5', 'Fusca'], \n",
    "    'Motor': ['Motor 4.0 Turbo', 'Motor Diesel', 'Motor Diesel V8', 'Motor 2.0', 'Motor 1.6'],\n",
    "    'Ano': [2019, 2003, 1991, 2019, 1990],\n",
    "    'Quilometragem': [0.0, 5712.0, 37123.0, 0.0, 120000.0],\n",
    "    'Zero_km': [True, False, False, True, False],\n",
    "    'Valor': [88000.0, 106000.0, 72000.0, 89000.0, 32000.0]\n",
    "}\n",
    "\n",
    "dataset = pd.DataFrame(dados)"
   ]
  },
  {
   "cell_type": "code",
   "execution_count": 3,
   "id": "3115c3a1-c175-46f4-824b-555dccaec3c2",
   "metadata": {},
   "outputs": [
    {
     "data": {
      "text/html": [
       "<div>\n",
       "<style scoped>\n",
       "    .dataframe tbody tr th:only-of-type {\n",
       "        vertical-align: middle;\n",
       "    }\n",
       "\n",
       "    .dataframe tbody tr th {\n",
       "        vertical-align: top;\n",
       "    }\n",
       "\n",
       "    .dataframe thead th {\n",
       "        text-align: right;\n",
       "    }\n",
       "</style>\n",
       "<table border=\"1\" class=\"dataframe\">\n",
       "  <thead>\n",
       "    <tr style=\"text-align: right;\">\n",
       "      <th></th>\n",
       "      <th>Nome</th>\n",
       "      <th>Motor</th>\n",
       "      <th>Ano</th>\n",
       "      <th>Quilometragem</th>\n",
       "      <th>Zero_km</th>\n",
       "      <th>Valor</th>\n",
       "    </tr>\n",
       "  </thead>\n",
       "  <tbody>\n",
       "    <tr>\n",
       "      <th>0</th>\n",
       "      <td>Jetta</td>\n",
       "      <td>Motor 4.0 Turbo</td>\n",
       "      <td>2019</td>\n",
       "      <td>0.0</td>\n",
       "      <td>True</td>\n",
       "      <td>88000.0</td>\n",
       "    </tr>\n",
       "    <tr>\n",
       "      <th>1</th>\n",
       "      <td>Passat</td>\n",
       "      <td>Motor Diesel</td>\n",
       "      <td>2003</td>\n",
       "      <td>5712.0</td>\n",
       "      <td>False</td>\n",
       "      <td>106000.0</td>\n",
       "    </tr>\n",
       "    <tr>\n",
       "      <th>2</th>\n",
       "      <td>Crossfox</td>\n",
       "      <td>Motor Diesel V8</td>\n",
       "      <td>1991</td>\n",
       "      <td>37123.0</td>\n",
       "      <td>False</td>\n",
       "      <td>72000.0</td>\n",
       "    </tr>\n",
       "    <tr>\n",
       "      <th>3</th>\n",
       "      <td>DS5</td>\n",
       "      <td>Motor 2.0</td>\n",
       "      <td>2019</td>\n",
       "      <td>0.0</td>\n",
       "      <td>True</td>\n",
       "      <td>89000.0</td>\n",
       "    </tr>\n",
       "    <tr>\n",
       "      <th>4</th>\n",
       "      <td>Fusca</td>\n",
       "      <td>Motor 1.6</td>\n",
       "      <td>1990</td>\n",
       "      <td>120000.0</td>\n",
       "      <td>False</td>\n",
       "      <td>32000.0</td>\n",
       "    </tr>\n",
       "  </tbody>\n",
       "</table>\n",
       "</div>"
      ],
      "text/plain": [
       "       Nome            Motor   Ano  Quilometragem  Zero_km     Valor\n",
       "0     Jetta  Motor 4.0 Turbo  2019            0.0     True   88000.0\n",
       "1    Passat     Motor Diesel  2003         5712.0    False  106000.0\n",
       "2  Crossfox  Motor Diesel V8  1991        37123.0    False   72000.0\n",
       "3       DS5        Motor 2.0  2019            0.0     True   89000.0\n",
       "4     Fusca        Motor 1.6  1990       120000.0    False   32000.0"
      ]
     },
     "execution_count": 3,
     "metadata": {},
     "output_type": "execute_result"
    }
   ],
   "source": [
    "dataset"
   ]
  },
  {
   "cell_type": "code",
   "execution_count": 4,
   "id": "cd3fcb90-f321-46fc-929e-bb2f0736907e",
   "metadata": {},
   "outputs": [
    {
     "data": {
      "text/html": [
       "<div>\n",
       "<style scoped>\n",
       "    .dataframe tbody tr th:only-of-type {\n",
       "        vertical-align: middle;\n",
       "    }\n",
       "\n",
       "    .dataframe tbody tr th {\n",
       "        vertical-align: top;\n",
       "    }\n",
       "\n",
       "    .dataframe thead th {\n",
       "        text-align: right;\n",
       "    }\n",
       "</style>\n",
       "<table border=\"1\" class=\"dataframe\">\n",
       "  <thead>\n",
       "    <tr style=\"text-align: right;\">\n",
       "      <th></th>\n",
       "      <th>Nome</th>\n",
       "      <th>Ano</th>\n",
       "      <th>Quilometragem</th>\n",
       "      <th>Valor</th>\n",
       "    </tr>\n",
       "  </thead>\n",
       "  <tbody>\n",
       "    <tr>\n",
       "      <th>1</th>\n",
       "      <td>Passat</td>\n",
       "      <td>2003</td>\n",
       "      <td>5712.0</td>\n",
       "      <td>106000.0</td>\n",
       "    </tr>\n",
       "    <tr>\n",
       "      <th>2</th>\n",
       "      <td>Crossfox</td>\n",
       "      <td>1991</td>\n",
       "      <td>37123.0</td>\n",
       "      <td>72000.0</td>\n",
       "    </tr>\n",
       "  </tbody>\n",
       "</table>\n",
       "</div>"
      ],
      "text/plain": [
       "       Nome   Ano  Quilometragem     Valor\n",
       "1    Passat  2003         5712.0  106000.0\n",
       "2  Crossfox  1991        37123.0   72000.0"
      ]
     },
     "execution_count": 4,
     "metadata": {},
     "output_type": "execute_result"
    }
   ],
   "source": [
    "dataset[1:3][['Nome', 'Ano', 'Quilometragem', 'Valor']]"
   ]
  },
  {
   "cell_type": "markdown",
   "id": "28bb8cdd-cfba-4497-b88a-75da6198da27",
   "metadata": {
    "jp-MarkdownHeadingCollapsed": true,
    "tags": []
   },
   "source": [
    "### 11) Utilizando .loc e .iloc para seleções"
   ]
  },
  {
   "cell_type": "code",
   "execution_count": 6,
   "id": "f0df298c-a40b-409d-bb59-d1408c8a0a10",
   "metadata": {},
   "outputs": [],
   "source": [
    "import pandas as pd\n",
    "\n",
    "dados = {\n",
    "    'Motor': ['Motor 4.0 Turbo', 'Motor Diesel', 'Motor Diesel V8', 'Motor 2.0', 'Motor 1.6'],\n",
    "    'Ano': [2019, 2003, 1991, 2019, 1990],\n",
    "    'Quilometragem': [0.0, 5712.0, 37123.0, 0.0, 120000.0],\n",
    "    'Zero_km': [True, False, False, True, False],\n",
    "    'Valor': [88000.0, 106000.0, 72000.0, 89000.0, 32000.0]\n",
    "}\n",
    "\n",
    "dataset = pd.DataFrame(dados, index = ['Jetta', 'Passat', 'Crossfox', 'DS5', 'Fusca'])"
   ]
  },
  {
   "cell_type": "markdown",
   "id": "457e37c1-d883-4de7-955c-8ec0b9f81d5d",
   "metadata": {},
   "source": [
    "Seleciona os carros passat e DS5, a coluna motor e valor"
   ]
  },
  {
   "cell_type": "markdown",
   "id": "cb07808d-541d-4042-ab17-0245ed9ada63",
   "metadata": {
    "jp-MarkdownHeadingCollapsed": true,
    "tags": []
   },
   "source": [
    "#### Com loc "
   ]
  },
  {
   "cell_type": "code",
   "execution_count": 8,
   "id": "ae1acee4-0d34-4290-8204-5568d570e649",
   "metadata": {},
   "outputs": [
    {
     "data": {
      "text/html": [
       "<div>\n",
       "<style scoped>\n",
       "    .dataframe tbody tr th:only-of-type {\n",
       "        vertical-align: middle;\n",
       "    }\n",
       "\n",
       "    .dataframe tbody tr th {\n",
       "        vertical-align: top;\n",
       "    }\n",
       "\n",
       "    .dataframe thead th {\n",
       "        text-align: right;\n",
       "    }\n",
       "</style>\n",
       "<table border=\"1\" class=\"dataframe\">\n",
       "  <thead>\n",
       "    <tr style=\"text-align: right;\">\n",
       "      <th></th>\n",
       "      <th>Motor</th>\n",
       "      <th>Valor</th>\n",
       "    </tr>\n",
       "  </thead>\n",
       "  <tbody>\n",
       "    <tr>\n",
       "      <th>Passat</th>\n",
       "      <td>Motor Diesel</td>\n",
       "      <td>106000.0</td>\n",
       "    </tr>\n",
       "    <tr>\n",
       "      <th>DS5</th>\n",
       "      <td>Motor 2.0</td>\n",
       "      <td>89000.0</td>\n",
       "    </tr>\n",
       "  </tbody>\n",
       "</table>\n",
       "</div>"
      ],
      "text/plain": [
       "               Motor     Valor\n",
       "Passat  Motor Diesel  106000.0\n",
       "DS5        Motor 2.0   89000.0"
      ]
     },
     "execution_count": 8,
     "metadata": {},
     "output_type": "execute_result"
    }
   ],
   "source": [
    "dataset.loc[['Passat','DS5'], ['Motor','Valor']]"
   ]
  },
  {
   "cell_type": "markdown",
   "id": "86dd515d-faf9-4054-9c54-c9202515972c",
   "metadata": {
    "jp-MarkdownHeadingCollapsed": true,
    "tags": []
   },
   "source": [
    "#### Com iloc"
   ]
  },
  {
   "cell_type": "code",
   "execution_count": 12,
   "id": "50e6ab20-9790-4b86-b7c0-a62e33e2b021",
   "metadata": {},
   "outputs": [
    {
     "data": {
      "text/html": [
       "<div>\n",
       "<style scoped>\n",
       "    .dataframe tbody tr th:only-of-type {\n",
       "        vertical-align: middle;\n",
       "    }\n",
       "\n",
       "    .dataframe tbody tr th {\n",
       "        vertical-align: top;\n",
       "    }\n",
       "\n",
       "    .dataframe thead th {\n",
       "        text-align: right;\n",
       "    }\n",
       "</style>\n",
       "<table border=\"1\" class=\"dataframe\">\n",
       "  <thead>\n",
       "    <tr style=\"text-align: right;\">\n",
       "      <th></th>\n",
       "      <th>Motor</th>\n",
       "      <th>Valor</th>\n",
       "    </tr>\n",
       "  </thead>\n",
       "  <tbody>\n",
       "    <tr>\n",
       "      <th>Passat</th>\n",
       "      <td>Motor Diesel</td>\n",
       "      <td>106000.0</td>\n",
       "    </tr>\n",
       "    <tr>\n",
       "      <th>DS5</th>\n",
       "      <td>Motor 2.0</td>\n",
       "      <td>89000.0</td>\n",
       "    </tr>\n",
       "  </tbody>\n",
       "</table>\n",
       "</div>"
      ],
      "text/plain": [
       "               Motor     Valor\n",
       "Passat  Motor Diesel  106000.0\n",
       "DS5        Motor 2.0   89000.0"
      ]
     },
     "execution_count": 12,
     "metadata": {},
     "output_type": "execute_result"
    }
   ],
   "source": [
    "dataset.iloc[[1,3], [0,-1]]"
   ]
  },
  {
   "cell_type": "markdown",
   "id": "b3543bad-bd21-42b3-8a55-df811275c37b",
   "metadata": {
    "jp-MarkdownHeadingCollapsed": true,
    "tags": []
   },
   "source": [
    "### 12) Realizando consultas em um DataFrame"
   ]
  },
  {
   "cell_type": "code",
   "execution_count": 13,
   "id": "aadfc30c-6086-4684-bc40-9406f7aa6dbd",
   "metadata": {},
   "outputs": [],
   "source": [
    "import pandas as pd\n",
    "\n",
    "dados = {\n",
    "    'Motor': ['Motor 4.0 Turbo', 'Motor Diesel', 'Motor Diesel V8', 'Motor Diesel', 'Motor 1.6'],\n",
    "    'Ano': [2019, 2003, 1991, 2019, 1990],\n",
    "    'Quilometragem': [0.0, 5712.0, 37123.0, 0.0, 120000.0],\n",
    "    'Zero_km': [True, False, False, True, False],\n",
    "    'Valor': [88000.0, 106000.0, 72000.0, 89000.0, 32000.0]\n",
    "}\n",
    "\n",
    "dataset = pd.DataFrame(dados, index = ['Jetta', 'Passat', 'Crossfox', 'DS5', 'Fusca'])"
   ]
  },
  {
   "cell_type": "code",
   "execution_count": 14,
   "id": "fab98fc8-c11b-4617-b681-6f89a6ef0345",
   "metadata": {},
   "outputs": [
    {
     "data": {
      "text/html": [
       "<div>\n",
       "<style scoped>\n",
       "    .dataframe tbody tr th:only-of-type {\n",
       "        vertical-align: middle;\n",
       "    }\n",
       "\n",
       "    .dataframe tbody tr th {\n",
       "        vertical-align: top;\n",
       "    }\n",
       "\n",
       "    .dataframe thead th {\n",
       "        text-align: right;\n",
       "    }\n",
       "</style>\n",
       "<table border=\"1\" class=\"dataframe\">\n",
       "  <thead>\n",
       "    <tr style=\"text-align: right;\">\n",
       "      <th></th>\n",
       "      <th>Motor</th>\n",
       "      <th>Ano</th>\n",
       "      <th>Quilometragem</th>\n",
       "      <th>Zero_km</th>\n",
       "      <th>Valor</th>\n",
       "    </tr>\n",
       "  </thead>\n",
       "  <tbody>\n",
       "    <tr>\n",
       "      <th>Jetta</th>\n",
       "      <td>Motor 4.0 Turbo</td>\n",
       "      <td>2019</td>\n",
       "      <td>0.0</td>\n",
       "      <td>True</td>\n",
       "      <td>88000.0</td>\n",
       "    </tr>\n",
       "    <tr>\n",
       "      <th>Passat</th>\n",
       "      <td>Motor Diesel</td>\n",
       "      <td>2003</td>\n",
       "      <td>5712.0</td>\n",
       "      <td>False</td>\n",
       "      <td>106000.0</td>\n",
       "    </tr>\n",
       "    <tr>\n",
       "      <th>Crossfox</th>\n",
       "      <td>Motor Diesel V8</td>\n",
       "      <td>1991</td>\n",
       "      <td>37123.0</td>\n",
       "      <td>False</td>\n",
       "      <td>72000.0</td>\n",
       "    </tr>\n",
       "    <tr>\n",
       "      <th>DS5</th>\n",
       "      <td>Motor Diesel</td>\n",
       "      <td>2019</td>\n",
       "      <td>0.0</td>\n",
       "      <td>True</td>\n",
       "      <td>89000.0</td>\n",
       "    </tr>\n",
       "    <tr>\n",
       "      <th>Fusca</th>\n",
       "      <td>Motor 1.6</td>\n",
       "      <td>1990</td>\n",
       "      <td>120000.0</td>\n",
       "      <td>False</td>\n",
       "      <td>32000.0</td>\n",
       "    </tr>\n",
       "  </tbody>\n",
       "</table>\n",
       "</div>"
      ],
      "text/plain": [
       "                    Motor   Ano  Quilometragem  Zero_km     Valor\n",
       "Jetta     Motor 4.0 Turbo  2019            0.0     True   88000.0\n",
       "Passat       Motor Diesel  2003         5712.0    False  106000.0\n",
       "Crossfox  Motor Diesel V8  1991        37123.0    False   72000.0\n",
       "DS5          Motor Diesel  2019            0.0     True   89000.0\n",
       "Fusca           Motor 1.6  1990       120000.0    False   32000.0"
      ]
     },
     "execution_count": 14,
     "metadata": {},
     "output_type": "execute_result"
    }
   ],
   "source": [
    "dataset"
   ]
  },
  {
   "cell_type": "markdown",
   "id": "59292bbc-3a33-489a-a678-8f069319aed4",
   "metadata": {},
   "source": [
    "Monte essa visualização "
   ]
  },
  {
   "cell_type": "markdown",
   "id": "75216a74-4cb3-4b21-ab7d-b558db34384a",
   "metadata": {},
   "source": [
    "carros (jetta,passat, DS5), Motor, Ano, Km, Zero_km, Valor"
   ]
  },
  {
   "cell_type": "code",
   "execution_count": 17,
   "id": "cf9fa22c-1846-49b1-966d-88b198ea3769",
   "metadata": {},
   "outputs": [
    {
     "data": {
      "text/html": [
       "<div>\n",
       "<style scoped>\n",
       "    .dataframe tbody tr th:only-of-type {\n",
       "        vertical-align: middle;\n",
       "    }\n",
       "\n",
       "    .dataframe tbody tr th {\n",
       "        vertical-align: top;\n",
       "    }\n",
       "\n",
       "    .dataframe thead th {\n",
       "        text-align: right;\n",
       "    }\n",
       "</style>\n",
       "<table border=\"1\" class=\"dataframe\">\n",
       "  <thead>\n",
       "    <tr style=\"text-align: right;\">\n",
       "      <th></th>\n",
       "      <th>Motor</th>\n",
       "      <th>Ano</th>\n",
       "      <th>Quilometragem</th>\n",
       "      <th>Zero_km</th>\n",
       "      <th>Valor</th>\n",
       "    </tr>\n",
       "  </thead>\n",
       "  <tbody>\n",
       "    <tr>\n",
       "      <th>Jetta</th>\n",
       "      <td>Motor 4.0 Turbo</td>\n",
       "      <td>2019</td>\n",
       "      <td>0.0</td>\n",
       "      <td>True</td>\n",
       "      <td>88000.0</td>\n",
       "    </tr>\n",
       "    <tr>\n",
       "      <th>Passat</th>\n",
       "      <td>Motor Diesel</td>\n",
       "      <td>2003</td>\n",
       "      <td>5712.0</td>\n",
       "      <td>False</td>\n",
       "      <td>106000.0</td>\n",
       "    </tr>\n",
       "    <tr>\n",
       "      <th>DS5</th>\n",
       "      <td>Motor Diesel</td>\n",
       "      <td>2019</td>\n",
       "      <td>0.0</td>\n",
       "      <td>True</td>\n",
       "      <td>89000.0</td>\n",
       "    </tr>\n",
       "  </tbody>\n",
       "</table>\n",
       "</div>"
      ],
      "text/plain": [
       "                  Motor   Ano  Quilometragem  Zero_km     Valor\n",
       "Jetta   Motor 4.0 Turbo  2019            0.0     True   88000.0\n",
       "Passat     Motor Diesel  2003         5712.0    False  106000.0\n",
       "DS5        Motor Diesel  2019            0.0     True   89000.0"
      ]
     },
     "execution_count": 17,
     "metadata": {},
     "output_type": "execute_result"
    }
   ],
   "source": [
    "dataset.query('Motor == \"Motor Diesel\" or Zero_km == True')"
   ]
  },
  {
   "cell_type": "code",
   "execution_count": null,
   "id": "fbaeca2d-9996-4231-9872-e92a63b178a9",
   "metadata": {},
   "outputs": [],
   "source": []
  }
 ],
 "metadata": {
  "kernelspec": {
   "display_name": "Python 3 (ipykernel)",
   "language": "python",
   "name": "python3"
  },
  "language_info": {
   "codemirror_mode": {
    "name": "ipython",
    "version": 3
   },
   "file_extension": ".py",
   "mimetype": "text/x-python",
   "name": "python",
   "nbconvert_exporter": "python",
   "pygments_lexer": "ipython3",
   "version": "3.9.7"
  }
 },
 "nbformat": 4,
 "nbformat_minor": 5
}
