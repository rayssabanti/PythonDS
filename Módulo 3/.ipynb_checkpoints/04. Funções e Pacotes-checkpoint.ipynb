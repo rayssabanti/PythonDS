{
 "cells": [
  {
   "cell_type": "markdown",
   "id": "328997ac-dd90-49bd-9fe4-738efee64042",
   "metadata": {},
   "source": [
    "## Funções e pacotes\n",
    "\n",
    "As funções são unidades de código reutilizáveis que realizam tarefas específicas. Elas podem receber inputs, que são as entradas (também chamadas de parâmetros), e podem retornar resultados."
   ]
  },
  {
   "cell_type": "markdown",
   "id": "1cd19791-4a4a-4e22-9c84-81e2168fdadd",
   "metadata": {
    "jp-MarkdownHeadingCollapsed": true,
    "tags": []
   },
   "source": [
    "### Built-in Functions\n",
    "\n",
    "Funções integradas da linguagem que estão sempre acessíveis, sem a necessidade de criação ou importação"
   ]
  },
  {
   "cell_type": "code",
   "execution_count": 3,
   "id": "4a20cdb2-39b4-4abc-9a35-876c5dbc9ef1",
   "metadata": {},
   "outputs": [
    {
     "data": {
      "text/plain": [
       "{'Jetta Variant': 88078.64, 'Passat': 106161.94, 'Crossfox': 72832.16}"
      ]
     },
     "execution_count": 3,
     "metadata": {},
     "output_type": "execute_result"
    }
   ],
   "source": [
    "dados = {'Jetta Variant': 88078.64, 'Passat': 106161.94, 'Crossfox': 72832.16}\n",
    "dados"
   ]
  },
  {
   "cell_type": "code",
   "execution_count": 5,
   "id": "1929ffc1-5368-413c-b9a5-96a855dd4797",
   "metadata": {},
   "outputs": [
    {
     "data": {
      "text/plain": [
       "[88078.64, 106161.94, 72832.16]"
      ]
     },
     "execution_count": 5,
     "metadata": {},
     "output_type": "execute_result"
    }
   ],
   "source": [
    "valores = [] \n",
    "for valor in dados.values():\n",
    "    valores.append(valor)\n",
    "valores"
   ]
  },
  {
   "cell_type": "code",
   "execution_count": 6,
   "id": "ee7ad72c-8bfe-4b32-a503-e911bfe0cffe",
   "metadata": {},
   "outputs": [
    {
     "data": {
      "text/plain": [
       "267072.74"
      ]
     },
     "execution_count": 6,
     "metadata": {},
     "output_type": "execute_result"
    }
   ],
   "source": [
    "soma = 0 \n",
    "for valor in dados.values():\n",
    "    soma += valor\n",
    "soma"
   ]
  },
  {
   "cell_type": "code",
   "execution_count": 7,
   "id": "60f922d0-827d-4017-a9ab-63803bf213b5",
   "metadata": {},
   "outputs": [
    {
     "data": {
      "text/plain": [
       "267072.74"
      ]
     },
     "execution_count": 7,
     "metadata": {},
     "output_type": "execute_result"
    }
   ],
   "source": [
    "sum(dados.values())"
   ]
  },
  {
   "cell_type": "code",
   "execution_count": 8,
   "id": "8237188a-cf83-431e-84b2-4fd1d868861f",
   "metadata": {},
   "outputs": [
    {
     "data": {
      "text/plain": [
       "367072.74"
      ]
     },
     "execution_count": 8,
     "metadata": {},
     "output_type": "execute_result"
    }
   ],
   "source": [
    "sum(dados.values(), 100000) # adiciona 100000 a soma "
   ]
  },
  {
   "cell_type": "markdown",
   "id": "3d9a93d7-b223-40b8-a995-b497213e9ebd",
   "metadata": {
    "tags": []
   },
   "source": [
    "### Funções sem e com parâmetro"
   ]
  },
  {
   "cell_type": "markdown",
   "id": "ce59a9ee-b840-4400-8e79-b6291d5b49f2",
   "metadata": {},
   "source": [
    "#### Funções sem parâmetro\n",
    "\n",
    "formato padrão:\n",
    "    \n",
    "    def <nome> :\n",
    "        instruções\n"
   ]
  },
  {
   "cell_type": "code",
   "execution_count": 17,
   "id": "e808340a-0618-4cdc-b5fc-7ec008bf5bd4",
   "metadata": {},
   "outputs": [],
   "source": [
    "def media():\n",
    "    valor = (1 + 2 +3)/3\n",
    "    print(valor)"
   ]
  },
  {
   "cell_type": "code",
   "execution_count": 18,
   "id": "1e4ecbab-64d0-471b-a452-c342aae1eba6",
   "metadata": {},
   "outputs": [
    {
     "name": "stdout",
     "output_type": "stream",
     "text": [
      "2.0\n"
     ]
    }
   ],
   "source": [
    "media()"
   ]
  },
  {
   "cell_type": "markdown",
   "id": "99534641-fedb-49b9-b93b-966bdf344ded",
   "metadata": {},
   "source": [
    "#### Funções com parâmetros\n",
    "\n",
    "formato padrão \n",
    "\n",
    "def <nome>(<param_1>, <param_2>, ..., <param_n>):\n",
    "    <instruções>"
   ]
  },
  {
   "cell_type": "code",
   "execution_count": 21,
   "id": "33844c2a-a75c-4d84-be42-68b762d3efd2",
   "metadata": {},
   "outputs": [],
   "source": [
    "def media(number1, number2, number3):\n",
    "    valor = (number1 + number2 +  number3) / 3\n",
    "    print(valor)"
   ]
  },
  {
   "cell_type": "code",
   "execution_count": 22,
   "id": "58c7202d-95e5-4e36-a1de-919e32198f81",
   "metadata": {},
   "outputs": [
    {
     "name": "stdout",
     "output_type": "stream",
     "text": [
      "2.0\n"
     ]
    }
   ],
   "source": [
    "media(1,2,3)"
   ]
  },
  {
   "cell_type": "code",
   "execution_count": 23,
   "id": "6e3eecac-87f3-4092-bdaf-fe859bc5b1c2",
   "metadata": {},
   "outputs": [],
   "source": [
    "def media(lista):\n",
    "    valor = sum(lista)/ len(lista)\n",
    "    print(valor)"
   ]
  },
  {
   "cell_type": "code",
   "execution_count": 28,
   "id": "01f717de-131c-406c-883e-a0b14afd124d",
   "metadata": {},
   "outputs": [
    {
     "name": "stdout",
     "output_type": "stream",
     "text": [
      "5.0\n"
     ]
    }
   ],
   "source": [
    "media([1,2,3,4,5,6,7,8,9])"
   ]
  },
  {
   "cell_type": "markdown",
   "id": "199c790b-1949-4231-8685-6c0f6da4d622",
   "metadata": {},
   "source": [
    "### Definindo funções que retornam valores"
   ]
  },
  {
   "cell_type": "markdown",
   "id": "e8bfca3f-cfb1-4eba-9431-f39ba98dd571",
   "metadata": {},
   "source": [
    "def <nome>(<param_1>, <param_2>, ..., <param_n>):\n",
    "    \n",
    "    <instruções>\n",
    "        \n",
    "    return <resultado>"
   ]
  },
  {
   "cell_type": "code",
   "execution_count": 29,
   "id": "f7276319-692b-4579-8edb-78d1d0094f56",
   "metadata": {},
   "outputs": [],
   "source": [
    "def media(lista):\n",
    "    valor = sum(lista)/ len(lista)\n",
    "    return valor"
   ]
  },
  {
   "cell_type": "code",
   "execution_count": 30,
   "id": "cae8738c-1ccd-4ac2-a11a-e8f5dcf5ad42",
   "metadata": {},
   "outputs": [
    {
     "data": {
      "text/plain": [
       "5.0"
      ]
     },
     "execution_count": 30,
     "metadata": {},
     "output_type": "execute_result"
    }
   ],
   "source": [
    "media([1,2,3,4,5,6,7,8,9])"
   ]
  },
  {
   "cell_type": "code",
   "execution_count": 31,
   "id": "3161bcb0-f482-4a01-bc4a-d272e0090799",
   "metadata": {},
   "outputs": [],
   "source": [
    "valores = media([1,2,3,4,5,6,7,8,9])"
   ]
  },
  {
   "cell_type": "code",
   "execution_count": 32,
   "id": "fb29b691-29b5-4e71-ab53-9bcddfb5e514",
   "metadata": {},
   "outputs": [
    {
     "data": {
      "text/plain": [
       "5.0"
      ]
     },
     "execution_count": 32,
     "metadata": {},
     "output_type": "execute_result"
    }
   ],
   "source": [
    "valores"
   ]
  },
  {
   "cell_type": "code",
   "execution_count": 34,
   "id": "a9e92ebd-78bb-4951-8748-3abee0b0cb97",
   "metadata": {},
   "outputs": [],
   "source": [
    "def media(lista):\n",
    "    valor = sum(lista)/ len(lista)\n",
    "    return (valor, len(lista))"
   ]
  },
  {
   "cell_type": "code",
   "execution_count": 35,
   "id": "f400c8a3-50b8-46b8-8502-bfac6ab9d61d",
   "metadata": {},
   "outputs": [],
   "source": [
    "valores = media([1,2,3,4,5,6,7,8,9])"
   ]
  },
  {
   "cell_type": "code",
   "execution_count": 36,
   "id": "a0758779-890b-453f-a4c0-0accbffac872",
   "metadata": {},
   "outputs": [
    {
     "data": {
      "text/plain": [
       "(5.0, 9)"
      ]
     },
     "execution_count": 36,
     "metadata": {},
     "output_type": "execute_result"
    }
   ],
   "source": [
    "valores"
   ]
  },
  {
   "cell_type": "code",
   "execution_count": 37,
   "id": "c508fcbb-e672-4086-b950-93bc1fdcbcd1",
   "metadata": {},
   "outputs": [],
   "source": [
    "resultado, n = media([1,2,3,4,5,6,7,8,9])"
   ]
  },
  {
   "cell_type": "code",
   "execution_count": 38,
   "id": "4ebf964e-915a-45ac-936c-6582d2b7b727",
   "metadata": {},
   "outputs": [
    {
     "data": {
      "text/plain": [
       "(5.0, 9)"
      ]
     },
     "execution_count": 38,
     "metadata": {},
     "output_type": "execute_result"
    }
   ],
   "source": [
    "resultado, n"
   ]
  },
  {
   "cell_type": "code",
   "execution_count": null,
   "id": "a733b18e-1fea-4b61-9ee9-36e37b1a161e",
   "metadata": {},
   "outputs": [],
   "source": []
  }
 ],
 "metadata": {
  "kernelspec": {
   "display_name": "Python 3 (ipykernel)",
   "language": "python",
   "name": "python3"
  },
  "language_info": {
   "codemirror_mode": {
    "name": "ipython",
    "version": 3
   },
   "file_extension": ".py",
   "mimetype": "text/x-python",
   "name": "python",
   "nbconvert_exporter": "python",
   "pygments_lexer": "ipython3",
   "version": "3.9.7"
  }
 },
 "nbformat": 4,
 "nbformat_minor": 5
}
