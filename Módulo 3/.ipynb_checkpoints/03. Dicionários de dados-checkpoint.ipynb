{
 "cells": [
  {
   "cell_type": "markdown",
   "id": "2b381e6b-bb41-4fc9-95ec-bba7845a0ef6",
   "metadata": {
    "tags": []
   },
   "source": [
    "## Dicionários \n",
    "Representam mapeamentos, que são coleções de associações entre pares de valores.\n",
    "Onde o primeiro é a chave e o segundo é o valor"
   ]
  },
  {
   "cell_type": "code",
   "execution_count": 1,
   "id": "2e681a34-e912-4c94-92c9-c05636e40fc3",
   "metadata": {},
   "outputs": [
    {
     "data": {
      "text/plain": [
       "['Jetta Variant', 'Passat', 'Crossfox']"
      ]
     },
     "execution_count": 1,
     "metadata": {},
     "output_type": "execute_result"
    }
   ],
   "source": [
    "carros = ['Jetta Variant', 'Passat', 'Crossfox']\n",
    "carros\n"
   ]
  },
  {
   "cell_type": "code",
   "execution_count": 2,
   "id": "ce94289f-06df-407a-857c-06bcbcd41806",
   "metadata": {},
   "outputs": [
    {
     "data": {
      "text/plain": [
       "[88078.64, 106161.94, 72832.16]"
      ]
     },
     "execution_count": 2,
     "metadata": {},
     "output_type": "execute_result"
    }
   ],
   "source": [
    "valores = [88078.64, 106161.94, 72832.16]\n",
    "valores"
   ]
  },
  {
   "cell_type": "markdown",
   "id": "e00ee9c2-59a4-456f-aa61-51f4a32b5bc5",
   "metadata": {
    "jp-MarkdownHeadingCollapsed": true,
    "tags": []
   },
   "source": [
    "#### Maneira sem mapeamento correto"
   ]
  },
  {
   "cell_type": "code",
   "execution_count": 6,
   "id": "f81e367d-28f3-4b6b-9e00-0b9bc6483819",
   "metadata": {},
   "outputs": [
    {
     "data": {
      "text/plain": [
       "1"
      ]
     },
     "execution_count": 6,
     "metadata": {},
     "output_type": "execute_result"
    }
   ],
   "source": [
    "### Mostra o index de uma lista pelo nome\n",
    "carros.index('Passat')"
   ]
  },
  {
   "cell_type": "code",
   "execution_count": 7,
   "id": "b84b4697-be8a-482e-bd5e-7c0f9a3e95c2",
   "metadata": {},
   "outputs": [
    {
     "data": {
      "text/plain": [
       "106161.94"
      ]
     },
     "execution_count": 7,
     "metadata": {},
     "output_type": "execute_result"
    }
   ],
   "source": [
    "valores[carros.index('Passat')]"
   ]
  },
  {
   "cell_type": "markdown",
   "id": "85b4f33b-c2bc-4812-949f-499a0b5a7ae8",
   "metadata": {
    "jp-MarkdownHeadingCollapsed": true,
    "tags": []
   },
   "source": [
    "#### Com o mapeamento correto"
   ]
  },
  {
   "cell_type": "code",
   "execution_count": 8,
   "id": "316f8dfc-bb8a-4eb7-bba4-ae3d84fe531b",
   "metadata": {},
   "outputs": [
    {
     "data": {
      "text/plain": [
       "{'Jetta Variant': 88078.64, 'Passat': 106161.94, 'Crossfox': 72832.16}"
      ]
     },
     "execution_count": 8,
     "metadata": {},
     "output_type": "execute_result"
    }
   ],
   "source": [
    "dados = {'Jetta Variant': 88078.64, 'Passat': 106161.94, 'Crossfox': 72832.16}\n",
    "# a chave desse par é o nome do veiculo e o valor\n",
    "dados"
   ]
  },
  {
   "cell_type": "code",
   "execution_count": 9,
   "id": "8817c6b4-2c93-49a3-be11-ed0566bb592a",
   "metadata": {},
   "outputs": [
    {
     "data": {
      "text/plain": [
       "dict"
      ]
     },
     "execution_count": 9,
     "metadata": {},
     "output_type": "execute_result"
    }
   ],
   "source": [
    "type(dados)"
   ]
  },
  {
   "cell_type": "markdown",
   "id": "b95737db-309e-48e0-933f-7a62f9e5b6d6",
   "metadata": {},
   "source": [
    "##### Dict é o tipo de dicionário"
   ]
  },
  {
   "cell_type": "markdown",
   "id": "94a67d93-11f7-416f-9f3d-c95c05d0c75e",
   "metadata": {
    "jp-MarkdownHeadingCollapsed": true,
    "tags": []
   },
   "source": [
    "### Criando dicionário com o zip()"
   ]
  },
  {
   "cell_type": "code",
   "execution_count": 11,
   "id": "d5663b1c-ce67-47c0-90c6-11b7622c552e",
   "metadata": {},
   "outputs": [
    {
     "data": {
      "text/plain": [
       "[('Jetta Variant', 88078.64), ('Passat', 106161.94), ('Crossfox', 72832.16)]"
      ]
     },
     "execution_count": 11,
     "metadata": {},
     "output_type": "execute_result"
    }
   ],
   "source": [
    "list(zip(carros, valores))"
   ]
  },
  {
   "cell_type": "code",
   "execution_count": 12,
   "id": "4b8262ae-cfdd-4b84-8989-e7b23b921a08",
   "metadata": {},
   "outputs": [],
   "source": [
    "dados = dict(zip(carros, valores))"
   ]
  },
  {
   "cell_type": "code",
   "execution_count": 13,
   "id": "7396fbd0-413a-46b9-b448-ae6ed3bf1d7a",
   "metadata": {},
   "outputs": [
    {
     "data": {
      "text/plain": [
       "{'Jetta Variant': 88078.64, 'Passat': 106161.94, 'Crossfox': 72832.16}"
      ]
     },
     "execution_count": 13,
     "metadata": {},
     "output_type": "execute_result"
    }
   ],
   "source": [
    "dados\n"
   ]
  },
  {
   "cell_type": "markdown",
   "id": "4bc25691-1232-4758-a725-3478560ceecf",
   "metadata": {
    "tags": []
   },
   "source": [
    "### Operações com dicionários"
   ]
  },
  {
   "cell_type": "code",
   "execution_count": 14,
   "id": "4985dae3-8482-40e6-a7cf-dca69b7e2e2f",
   "metadata": {},
   "outputs": [
    {
     "data": {
      "text/plain": [
       "{'Jetta Variant': 88078.64, 'Passat': 106161.94, 'Crossfox': 72832.16}"
      ]
     },
     "execution_count": 14,
     "metadata": {},
     "output_type": "execute_result"
    }
   ],
   "source": [
    "dados = {'Jetta Variant': 88078.64, 'Passat': 106161.94, 'Crossfox': 72832.16}\n",
    "dados"
   ]
  },
  {
   "cell_type": "markdown",
   "id": "fc25cf97-9bba-4ddf-9901-e8f0943043be",
   "metadata": {},
   "source": [
    "#### dict[key]\n",
    "Acessar os valores dentro do dicionário"
   ]
  },
  {
   "cell_type": "code",
   "execution_count": 15,
   "id": "2e9eb655-6eb2-4018-808f-dd3665f62029",
   "metadata": {},
   "outputs": [
    {
     "data": {
      "text/plain": [
       "106161.94"
      ]
     },
     "execution_count": 15,
     "metadata": {},
     "output_type": "execute_result"
    }
   ],
   "source": [
    "dados['Passat']"
   ]
  },
  {
   "cell_type": "markdown",
   "id": "62cc5ec6-9d8a-4adf-b5a0-cec31cc911ca",
   "metadata": {
    "tags": []
   },
   "source": [
    "#### Key in dict\n",
    "\n",
    "Retorna um true se a chave (key) está no dicionário"
   ]
  },
  {
   "cell_type": "code",
   "execution_count": 16,
   "id": "7ef0ae64-30f8-49d5-b062-5fae916e1928",
   "metadata": {},
   "outputs": [
    {
     "data": {
      "text/plain": [
       "True"
      ]
     },
     "execution_count": 16,
     "metadata": {},
     "output_type": "execute_result"
    }
   ],
   "source": [
    "'Passat' in dados"
   ]
  },
  {
   "cell_type": "code",
   "execution_count": 17,
   "id": "b798d4ef-5272-4782-ad24-ea217101509f",
   "metadata": {},
   "outputs": [
    {
     "data": {
      "text/plain": [
       "False"
      ]
     },
     "execution_count": 17,
     "metadata": {},
     "output_type": "execute_result"
    }
   ],
   "source": [
    "'fusca' in dados "
   ]
  },
  {
   "cell_type": "markdown",
   "id": "05fd7dc6-70aa-488c-ad2a-4721af03ca8a",
   "metadata": {},
   "source": [
    "#### len(dict)\n",
    "\n",
    "retorna o numero de pares de chaves e valores"
   ]
  },
  {
   "cell_type": "code",
   "execution_count": 18,
   "id": "98e768d0-e5ff-438f-8d95-f084addb7668",
   "metadata": {},
   "outputs": [
    {
     "data": {
      "text/plain": [
       "3"
      ]
     },
     "execution_count": 18,
     "metadata": {},
     "output_type": "execute_result"
    }
   ],
   "source": [
    "len(dados)"
   ]
  },
  {
   "cell_type": "markdown",
   "id": "382e3e0c-fdf6-420a-b962-5d8837c4aaeb",
   "metadata": {},
   "source": [
    "#### dict[key] = value\n",
    "\n",
    "Adiciona um novo par no dicionário"
   ]
  },
  {
   "cell_type": "code",
   "execution_count": 19,
   "id": "0e46aab3-c081-4d61-9d33-e8567e60b4e5",
   "metadata": {},
   "outputs": [],
   "source": [
    "dados['DS5'] = 124549.07"
   ]
  },
  {
   "cell_type": "code",
   "execution_count": 20,
   "id": "59267c3e-8a0b-4298-963b-9d71d8fd25b6",
   "metadata": {},
   "outputs": [
    {
     "data": {
      "text/plain": [
       "{'Jetta Variant': 88078.64,\n",
       " 'Passat': 106161.94,\n",
       " 'Crossfox': 72832.16,\n",
       " 'DS5': 124549.07}"
      ]
     },
     "execution_count": 20,
     "metadata": {},
     "output_type": "execute_result"
    }
   ],
   "source": [
    "dados"
   ]
  },
  {
   "cell_type": "markdown",
   "id": "c1c097a5-82ab-493f-bfe3-02a02430096e",
   "metadata": {
    "jp-MarkdownHeadingCollapsed": true,
    "tags": []
   },
   "source": [
    "#### del dict[key]"
   ]
  },
  {
   "cell_type": "code",
   "execution_count": 22,
   "id": "c07f7d5b-fb66-4c6f-9c98-0b25b56c9243",
   "metadata": {},
   "outputs": [],
   "source": [
    "del dados['Passat']"
   ]
  },
  {
   "cell_type": "code",
   "execution_count": 23,
   "id": "19da0a54-e9dd-44da-a239-1dda61cea44b",
   "metadata": {},
   "outputs": [
    {
     "data": {
      "text/plain": [
       "{'Jetta Variant': 88078.64, 'Crossfox': 72832.16, 'DS5': 124549.07}"
      ]
     },
     "execution_count": 23,
     "metadata": {},
     "output_type": "execute_result"
    }
   ],
   "source": [
    "dados"
   ]
  },
  {
   "cell_type": "markdown",
   "id": "3cb5552b-d612-49cc-b44e-3e4bc36fbcfa",
   "metadata": {},
   "source": [
    "### Métodos de dicionários"
   ]
  },
  {
   "cell_type": "markdown",
   "id": "ef4481f4-9303-457d-be14-13cecd0e916d",
   "metadata": {
    "jp-MarkdownHeadingCollapsed": true,
    "tags": []
   },
   "source": [
    "#### Dict.update() permite fazer atualizações no dicionário"
   ]
  },
  {
   "cell_type": "code",
   "execution_count": 24,
   "id": "630d38ab-d945-4bf2-898e-6dbebabb87e1",
   "metadata": {},
   "outputs": [
    {
     "data": {
      "text/plain": [
       "{'Jetta Variant': 88078.64, 'Crossfox': 72832.16, 'DS5': 124549.07}"
      ]
     },
     "execution_count": 24,
     "metadata": {},
     "output_type": "execute_result"
    }
   ],
   "source": [
    "dados"
   ]
  },
  {
   "cell_type": "code",
   "execution_count": 25,
   "id": "fda6a3e8-d8f8-4f8a-9e03-b0538b5f8bc6",
   "metadata": {},
   "outputs": [],
   "source": [
    "dados.update({'Passat': 106161.94})"
   ]
  },
  {
   "cell_type": "code",
   "execution_count": 26,
   "id": "7a08320f-006c-4324-b267-8c933524291c",
   "metadata": {},
   "outputs": [
    {
     "data": {
      "text/plain": [
       "{'Jetta Variant': 88078.64,\n",
       " 'Crossfox': 72832.16,\n",
       " 'DS5': 124549.07,\n",
       " 'Passat': 106161.94}"
      ]
     },
     "execution_count": 26,
     "metadata": {},
     "output_type": "execute_result"
    }
   ],
   "source": [
    "dados"
   ]
  },
  {
   "cell_type": "code",
   "execution_count": 28,
   "id": "f35954ae-8f16-4f31-a6ec-fa07fcd3b5a0",
   "metadata": {},
   "outputs": [],
   "source": [
    "dados.update({'Passat': 106161.95, 'Fusca': 156161.95})"
   ]
  },
  {
   "cell_type": "code",
   "execution_count": 29,
   "id": "4165fc0b-df54-44d3-b2e3-bbf5dcd208d7",
   "metadata": {},
   "outputs": [
    {
     "data": {
      "text/plain": [
       "{'Jetta Variant': 88078.64,\n",
       " 'Crossfox': 72832.16,\n",
       " 'DS5': 124549.07,\n",
       " 'Passat': 106161.95,\n",
       " 'Fusca': 156161.95}"
      ]
     },
     "execution_count": 29,
     "metadata": {},
     "output_type": "execute_result"
    }
   ],
   "source": [
    "dados"
   ]
  },
  {
   "cell_type": "markdown",
   "id": "26a202d1-efe9-4016-b597-f9ae3c052a1e",
   "metadata": {
    "jp-MarkdownHeadingCollapsed": true,
    "tags": []
   },
   "source": [
    "#### dict.copy() - Cria uma cópia no dicionário\n",
    "As alterações na cópia não vão ser refletidas no original"
   ]
  },
  {
   "cell_type": "code",
   "execution_count": 30,
   "id": "ed69179a-25b1-4dcd-9155-42b58b92ed10",
   "metadata": {},
   "outputs": [],
   "source": [
    "dadosCopy = dados"
   ]
  },
  {
   "cell_type": "code",
   "execution_count": 32,
   "id": "1b77e878-f799-42f8-b78e-f7183519377d",
   "metadata": {},
   "outputs": [
    {
     "data": {
      "text/plain": [
       "{'Jetta Variant': 88078.64,\n",
       " 'Crossfox': 72832.16,\n",
       " 'DS5': 124549.07,\n",
       " 'Passat': 106161.95,\n",
       " 'Fusca': 156161.95}"
      ]
     },
     "execution_count": 32,
     "metadata": {},
     "output_type": "execute_result"
    }
   ],
   "source": [
    "dadosCopy"
   ]
  },
  {
   "cell_type": "code",
   "execution_count": 33,
   "id": "54516227-9561-40b7-a07f-bd7a2a0a76ed",
   "metadata": {},
   "outputs": [],
   "source": [
    "del dadosCopy['Fusca']"
   ]
  },
  {
   "cell_type": "code",
   "execution_count": 34,
   "id": "b4945eef-b365-4551-9d96-43527417c218",
   "metadata": {},
   "outputs": [
    {
     "data": {
      "text/plain": [
       "{'Jetta Variant': 88078.64,\n",
       " 'Crossfox': 72832.16,\n",
       " 'DS5': 124549.07,\n",
       " 'Passat': 106161.95}"
      ]
     },
     "execution_count": 34,
     "metadata": {},
     "output_type": "execute_result"
    }
   ],
   "source": [
    "dadosCopy"
   ]
  },
  {
   "cell_type": "code",
   "execution_count": 35,
   "id": "59a45a87-41a4-4630-9a00-ed3444c209e0",
   "metadata": {},
   "outputs": [
    {
     "data": {
      "text/plain": [
       "{'Jetta Variant': 88078.64,\n",
       " 'Crossfox': 72832.16,\n",
       " 'DS5': 124549.07,\n",
       " 'Passat': 106161.95}"
      ]
     },
     "execution_count": 35,
     "metadata": {},
     "output_type": "execute_result"
    }
   ],
   "source": [
    "dados"
   ]
  },
  {
   "cell_type": "markdown",
   "id": "ba05ed71-72c9-462e-a908-25bdf8d55911",
   "metadata": {
    "jp-MarkdownHeadingCollapsed": true,
    "tags": []
   },
   "source": [
    "#### dict.pop(key[,default])"
   ]
  },
  {
   "cell_type": "code",
   "execution_count": 37,
   "id": "2a7ddd46-198e-4622-a9c0-ada5fe69e339",
   "metadata": {},
   "outputs": [
    {
     "data": {
      "text/plain": [
       "{'Jetta Variant': 88078.64,\n",
       " 'Crossfox': 72832.16,\n",
       " 'DS5': 124549.07,\n",
       " 'Passat': 106161.95}"
      ]
     },
     "execution_count": 37,
     "metadata": {},
     "output_type": "execute_result"
    }
   ],
   "source": [
    "dadosCopy"
   ]
  },
  {
   "cell_type": "code",
   "execution_count": 38,
   "id": "106ee087-10e7-4b26-80f4-5760404a1adb",
   "metadata": {},
   "outputs": [
    {
     "data": {
      "text/plain": [
       "106161.95"
      ]
     },
     "execution_count": 38,
     "metadata": {},
     "output_type": "execute_result"
    }
   ],
   "source": [
    "dadosCopy.pop('Passat')"
   ]
  },
  {
   "cell_type": "code",
   "execution_count": 39,
   "id": "dee2d56c-9de6-42f2-b61e-ca9ed52b8a65",
   "metadata": {},
   "outputs": [
    {
     "data": {
      "text/plain": [
       "{'Jetta Variant': 88078.64, 'Crossfox': 72832.16, 'DS5': 124549.07}"
      ]
     },
     "execution_count": 39,
     "metadata": {},
     "output_type": "execute_result"
    }
   ],
   "source": [
    "dadosCopy"
   ]
  },
  {
   "cell_type": "code",
   "execution_count": 42,
   "id": "d2fc9941-2037-4d83-a411-9f7ae21492cd",
   "metadata": {},
   "outputs": [
    {
     "data": {
      "text/plain": [
       "'Chave não existe'"
      ]
     },
     "execution_count": 42,
     "metadata": {},
     "output_type": "execute_result"
    }
   ],
   "source": [
    "dadosCopy.pop('Passat', 'Chave não existe')"
   ]
  },
  {
   "cell_type": "code",
   "execution_count": 43,
   "id": "f2445e57-9779-40c8-a1a2-9b012bff6bba",
   "metadata": {},
   "outputs": [
    {
     "data": {
      "text/plain": [
       "124549.07"
      ]
     },
     "execution_count": 43,
     "metadata": {},
     "output_type": "execute_result"
    }
   ],
   "source": [
    "dadosCopy.pop('DS5', 'Chave não existe')"
   ]
  },
  {
   "cell_type": "code",
   "execution_count": 44,
   "id": "12e72594-428a-44dd-8123-b2e0eee42d34",
   "metadata": {},
   "outputs": [
    {
     "data": {
      "text/plain": [
       "{'Jetta Variant': 88078.64, 'Crossfox': 72832.16}"
      ]
     },
     "execution_count": 44,
     "metadata": {},
     "output_type": "execute_result"
    }
   ],
   "source": [
    "dadosCopy"
   ]
  },
  {
   "cell_type": "markdown",
   "id": "f9e59454-4b50-41c9-86e5-9f1262362040",
   "metadata": {
    "tags": []
   },
   "source": [
    "#### dict.clear() - zera o dicionário"
   ]
  },
  {
   "cell_type": "code",
   "execution_count": 45,
   "id": "57f65b7f-c0d7-4da7-abb5-93eb75216e93",
   "metadata": {},
   "outputs": [],
   "source": [
    "dadosCopy.clear()"
   ]
  },
  {
   "cell_type": "code",
   "execution_count": null,
   "id": "7075192f-244c-439b-adaf-b01cdb8a5ca2",
   "metadata": {},
   "outputs": [
    {
     "data": {
      "text/plain": [
       "{}"
      ]
     },
     "execution_count": 46,
     "metadata": {},
     "output_type": "execute_result"
    }
   ],
   "source": [
    "dadosCopy"
   ]
  },
  {
   "cell_type": "markdown",
   "id": "0399cfe7-308c-48e8-aa1d-ec82b8dd1208",
   "metadata": {},
   "source": [
    "### Iterando em dicionários "
   ]
  },
  {
   "cell_type": "markdown",
   "id": "62d39e18-206d-4cb1-b88e-f0aa41331caa",
   "metadata": {
    "jp-MarkdownHeadingCollapsed": true,
    "tags": []
   },
   "source": [
    "#### dict.keys() - retorna as keys do dicionário"
   ]
  },
  {
   "cell_type": "code",
   "execution_count": 50,
   "id": "9b08b587-4f5b-426e-8d74-45b8a6510557",
   "metadata": {},
   "outputs": [
    {
     "data": {
      "text/plain": [
       "{'Crossfox': 72832.16,\n",
       " 'DS5': 124549.07,\n",
       " 'Fusca': 150000,\n",
       " 'Jetta Variant': 88078.64,\n",
       " 'Passat': 106161.95}"
      ]
     },
     "execution_count": 50,
     "metadata": {},
     "output_type": "execute_result"
    }
   ],
   "source": [
    "dados = {'Crossfox': 72832.16, 'DS5': 124549.07,  'Fusca': 150000,  'Jetta Variant': 88078.64,  'Passat': 106161.95}\n",
    "dados"
   ]
  },
  {
   "cell_type": "code",
   "execution_count": 51,
   "id": "d648fbe3-b647-4268-b5c2-616a7713dd64",
   "metadata": {},
   "outputs": [
    {
     "data": {
      "text/plain": [
       "dict_keys(['Crossfox', 'DS5', 'Fusca', 'Jetta Variant', 'Passat'])"
      ]
     },
     "execution_count": 51,
     "metadata": {},
     "output_type": "execute_result"
    }
   ],
   "source": [
    "dados.keys()"
   ]
  },
  {
   "cell_type": "code",
   "execution_count": 52,
   "id": "756107fd-28f5-4d79-b010-7b207c315167",
   "metadata": {},
   "outputs": [
    {
     "name": "stdout",
     "output_type": "stream",
     "text": [
      "72832.16\n",
      "124549.07\n",
      "150000\n",
      "88078.64\n",
      "106161.95\n"
     ]
    }
   ],
   "source": [
    "for key in dados.keys():\n",
    "    print(dados[key])"
   ]
  },
  {
   "cell_type": "markdown",
   "id": "227598f3-4a78-45b6-8592-8be22cec0a0b",
   "metadata": {
    "jp-MarkdownHeadingCollapsed": true,
    "tags": []
   },
   "source": [
    "#### dict.values() - retorna os valores\n",
    "\n"
   ]
  },
  {
   "cell_type": "code",
   "execution_count": 57,
   "id": "4c41411b-c498-4791-821e-b70402bd274f",
   "metadata": {},
   "outputs": [
    {
     "data": {
      "text/plain": [
       "dict_values([72832.16, 124549.07, 150000, 88078.64, 106161.95])"
      ]
     },
     "execution_count": 57,
     "metadata": {},
     "output_type": "execute_result"
    }
   ],
   "source": [
    "dados.values()"
   ]
  },
  {
   "cell_type": "markdown",
   "id": "9b67b957-22d5-4e94-bf73-d28f56788b14",
   "metadata": {
    "jp-MarkdownHeadingCollapsed": true,
    "tags": []
   },
   "source": [
    "#### dict.items() - retorna uma lista contendo uma tupla"
   ]
  },
  {
   "cell_type": "code",
   "execution_count": 61,
   "id": "1f3a42f4-ea87-4b5d-81ed-9db7b09ff7f8",
   "metadata": {},
   "outputs": [
    {
     "data": {
      "text/plain": [
       "dict_items([('Crossfox', 72832.16), ('DS5', 124549.07), ('Fusca', 150000), ('Jetta Variant', 88078.64), ('Passat', 106161.95)])"
      ]
     },
     "execution_count": 61,
     "metadata": {},
     "output_type": "execute_result"
    }
   ],
   "source": [
    "dados.items()"
   ]
  },
  {
   "cell_type": "code",
   "execution_count": 63,
   "id": "281f9bb4-8720-445b-a0b5-6985347a318d",
   "metadata": {},
   "outputs": [
    {
     "name": "stdout",
     "output_type": "stream",
     "text": [
      "('Crossfox', 72832.16)\n",
      "('DS5', 124549.07)\n",
      "('Fusca', 150000)\n",
      "('Jetta Variant', 88078.64)\n",
      "('Passat', 106161.95)\n"
     ]
    }
   ],
   "source": [
    "for item in dados.items():\n",
    "    print(item)"
   ]
  },
  {
   "cell_type": "code",
   "execution_count": 64,
   "id": "54a48c2e-d7bf-4c40-9f2f-351e90d045a3",
   "metadata": {},
   "outputs": [
    {
     "name": "stdout",
     "output_type": "stream",
     "text": [
      "Crossfox 72832.16\n",
      "DS5 124549.07\n",
      "Fusca 150000\n",
      "Jetta Variant 88078.64\n",
      "Passat 106161.95\n"
     ]
    }
   ],
   "source": [
    "for key, value in dados.items():\n",
    "    print(key, value)"
   ]
  },
  {
   "cell_type": "code",
   "execution_count": null,
   "id": "d2f1b304-e8af-48b6-99bd-b797581df661",
   "metadata": {},
   "outputs": [],
   "source": []
  }
 ],
 "metadata": {
  "kernelspec": {
   "display_name": "Python 3 (ipykernel)",
   "language": "python",
   "name": "python3"
  },
  "language_info": {
   "codemirror_mode": {
    "name": "ipython",
    "version": 3
   },
   "file_extension": ".py",
   "mimetype": "text/x-python",
   "name": "python",
   "nbconvert_exporter": "python",
   "pygments_lexer": "ipython3",
   "version": "3.9.7"
  }
 },
 "nbformat": 4,
 "nbformat_minor": 5
}
