{
 "cells": [
  {
   "cell_type": "markdown",
   "id": "03e2270a-49fb-45e9-86d5-6b37b5dfc092",
   "metadata": {},
   "source": [
    "## 01. Função e linguagem de alto nível"
   ]
  },
  {
   "cell_type": "markdown",
   "id": "3692da87-bd01-44e7-ae5c-b7361f4e3cfa",
   "metadata": {},
   "source": [
    "##### Por convenção do Python utilizamos as aspas simples"
   ]
  },
  {
   "cell_type": "code",
   "execution_count": 2,
   "id": "7278363a-5304-4d89-ad12-ed9165395155",
   "metadata": {},
   "outputs": [],
   "source": [
    "nome = \"Guilherme\""
   ]
  },
  {
   "cell_type": "code",
   "execution_count": 3,
   "id": "ca068d0f-d88b-4ed3-af39-97494ebfae9c",
   "metadata": {},
   "outputs": [
    {
     "data": {
      "text/plain": [
       "'Guilherme'"
      ]
     },
     "execution_count": 3,
     "metadata": {},
     "output_type": "execute_result"
    }
   ],
   "source": [
    "nome"
   ]
  },
  {
   "cell_type": "code",
   "execution_count": 4,
   "id": "e82d40ba-382f-4c6c-b0ed-9e2eef5f76e6",
   "metadata": {},
   "outputs": [],
   "source": [
    "idade = 28"
   ]
  },
  {
   "cell_type": "code",
   "execution_count": 5,
   "id": "0d3224e7-4f8c-42c2-a710-1a34437f7a83",
   "metadata": {},
   "outputs": [
    {
     "data": {
      "text/plain": [
       "28"
      ]
     },
     "execution_count": 5,
     "metadata": {},
     "output_type": "execute_result"
    }
   ],
   "source": [
    "idade"
   ]
  },
  {
   "cell_type": "code",
   "execution_count": 10,
   "id": "6f2257e1-ad5a-4c39-807e-483704754d94",
   "metadata": {},
   "outputs": [
    {
     "name": "stdout",
     "output_type": "stream",
     "text": [
      " Seu nome é Guilherme e sua idade é 28\n"
     ]
    }
   ],
   "source": [
    "print(f' Seu nome é {nome} e sua idade é {idade}')"
   ]
  },
  {
   "cell_type": "markdown",
   "id": "f22a8522-12a1-495d-99cc-0e5d02c50afb",
   "metadata": {},
   "source": [
    "### Criando uma função"
   ]
  },
  {
   "cell_type": "code",
   "execution_count": 53,
   "id": "c6d1a176-4922-4e5d-8623-452dadd947b3",
   "metadata": {},
   "outputs": [],
   "source": [
    "def saudacao():\n",
    "    nome = input('Qual é o seu nome?')\n",
    "    print(f'Olá {nome}')"
   ]
  },
  {
   "cell_type": "code",
   "execution_count": 54,
   "id": "5a5dddbf-0eb7-4ef5-8c37-1c2312deab1a",
   "metadata": {},
   "outputs": [
    {
     "name": "stdin",
     "output_type": "stream",
     "text": [
      "Qual é o seu nome? ray\n"
     ]
    },
    {
     "name": "stdout",
     "output_type": "stream",
     "text": [
      "Olá ray\n"
     ]
    }
   ],
   "source": [
    "saudacao()"
   ]
  },
  {
   "cell_type": "markdown",
   "id": "c707e54f-f18e-44a2-91a0-471f516dcf48",
   "metadata": {},
   "source": [
    "### Função com parâmetro"
   ]
  },
  {
   "cell_type": "code",
   "execution_count": 21,
   "id": "8b903361-1c4a-4a42-b788-464af6edfbae",
   "metadata": {},
   "outputs": [],
   "source": [
    "nome = 'João'"
   ]
  },
  {
   "cell_type": "code",
   "execution_count": 19,
   "id": "08c80b41-2d8b-4881-99ee-ec5ccf06deed",
   "metadata": {},
   "outputs": [],
   "source": [
    "def saudacao_2(nome_da_pessoa):\n",
    "    print(f'Olá {nome_da_pessoa}')"
   ]
  },
  {
   "cell_type": "code",
   "execution_count": 22,
   "id": "799fc38e-2541-44af-bbc8-34c86bac2441",
   "metadata": {},
   "outputs": [
    {
     "name": "stdout",
     "output_type": "stream",
     "text": [
      "Olá João\n"
     ]
    }
   ],
   "source": [
    "saudacao_2(nome)"
   ]
  },
  {
   "cell_type": "markdown",
   "id": "2fb1adbe-509a-49a8-8e84-25b0de44f039",
   "metadata": {},
   "source": [
    "##### Condicional"
   ]
  },
  {
   "cell_type": "code",
   "execution_count": 41,
   "id": "a0f45ae7-0035-4563-953e-b37c9e01be03",
   "metadata": {},
   "outputs": [],
   "source": [
    "idade = 122 \n",
    "\n",
    "# função que verifica se pode dirigir ou não \n",
    "\n",
    "def verifica_dirigir(idade):\n",
    "    if idade >= 18:\n",
    "        print('Pode dirigir')\n",
    "    else:\n",
    "        print('Não pode dirigir')\n"
   ]
  },
  {
   "cell_type": "code",
   "execution_count": 42,
   "id": "95d892f3-3671-4cd1-9fe3-72c56d97d75a",
   "metadata": {},
   "outputs": [
    {
     "name": "stdout",
     "output_type": "stream",
     "text": [
      "Pode dirigir\n"
     ]
    }
   ],
   "source": [
    "verifica_dirigir(idade)"
   ]
  },
  {
   "cell_type": "code",
   "execution_count": 48,
   "id": "0ebcf31a-098b-42fc-b9f2-d85ae635a64c",
   "metadata": {},
   "outputs": [],
   "source": [
    "def verifica_dirigir2():\n",
    "    idade = input('Qual sua idade?')\n",
    "    idade = int(idade)\n",
    "    if idade >= 18:\n",
    "        print(f'Pode dirigir, sua idade é {idade}')\n",
    "    else:\n",
    "        print(f'Não pode dirigir, sua idade é {idade}')"
   ]
  },
  {
   "cell_type": "code",
   "execution_count": 50,
   "id": "fb3dd7dc-6288-4df1-a381-ad366b0dd34b",
   "metadata": {},
   "outputs": [
    {
     "name": "stdin",
     "output_type": "stream",
     "text": [
      "Qual sua idade? 1\n"
     ]
    },
    {
     "name": "stdout",
     "output_type": "stream",
     "text": [
      "Não pode dirigir, sua idade é 1\n"
     ]
    }
   ],
   "source": [
    "verifica_dirigir2()"
   ]
  },
  {
   "cell_type": "markdown",
   "id": "94852f7b",
   "metadata": {},
   "source": [
    "## Lista"
   ]
  },
  {
   "cell_type": "code",
   "execution_count": 2,
   "id": "84b39dd5",
   "metadata": {},
   "outputs": [
    {
     "data": {
      "text/plain": [
       "list"
      ]
     },
     "execution_count": 2,
     "metadata": {},
     "output_type": "execute_result"
    }
   ],
   "source": [
    "idades = [18,22,15,50]\n",
    "type(idades)"
   ]
  },
  {
   "cell_type": "code",
   "execution_count": 4,
   "id": "efb7b34b",
   "metadata": {},
   "outputs": [
    {
     "data": {
      "text/plain": [
       "22"
      ]
     },
     "execution_count": 4,
     "metadata": {},
     "output_type": "execute_result"
    }
   ],
   "source": [
    "# como pegar o segundo elemento?\n",
    "\n",
    "idades[1]\n",
    "# lista começa com 0 "
   ]
  },
  {
   "cell_type": "code",
   "execution_count": 6,
   "id": "f0db4b5e",
   "metadata": {
    "scrolled": true
   },
   "outputs": [
    {
     "data": {
      "text/plain": [
       "[18, 22, 15]"
      ]
     },
     "execution_count": 6,
     "metadata": {},
     "output_type": "execute_result"
    }
   ],
   "source": [
    "# como pegar só os 3 elementos? \n",
    "idades[0:3] "
   ]
  },
  {
   "cell_type": "code",
   "execution_count": 8,
   "id": "d4eb0682",
   "metadata": {},
   "outputs": [
    {
     "data": {
      "text/plain": [
       "[22, 15, 50]"
      ]
     },
     "execution_count": 8,
     "metadata": {},
     "output_type": "execute_result"
    }
   ],
   "source": [
    "#pegar a partir do segundo indice \n",
    "idades[1:]"
   ]
  },
  {
   "cell_type": "code",
   "execution_count": 9,
   "id": "c3fec3a1",
   "metadata": {},
   "outputs": [
    {
     "data": {
      "text/plain": [
       "50"
      ]
     },
     "execution_count": 9,
     "metadata": {},
     "output_type": "execute_result"
    }
   ],
   "source": [
    "#pegar apenas o último \n",
    "idades[-1]"
   ]
  },
  {
   "cell_type": "markdown",
   "id": "5e5f7a30",
   "metadata": {},
   "source": [
    "## Laços e Loops"
   ]
  },
  {
   "cell_type": "code",
   "execution_count": 12,
   "id": "10b39941",
   "metadata": {},
   "outputs": [
    {
     "name": "stdout",
     "output_type": "stream",
     "text": [
      "18 anos de idade, TEM permissão para dirigir\n",
      "22 anos de idade, TEM permissão para dirigir\n",
      "15 anos de idade, NÃO TEM permissão para dirigir\n",
      "50 anos de idade, TEM permissão para dirigir\n"
     ]
    }
   ],
   "source": [
    "def verifica_dirigir(idade):\n",
    "    if idade >= 18:\n",
    "        print(f'{idade} anos de idade, TEM permissão para dirigir')\n",
    "    else:\n",
    "        print(f'{idade} anos de idade, NÃO TEM permissão para dirigir')\n",
    "        \n",
    "#for fora da função        \n",
    "for idade in idades:\n",
    "    verifica_dirigir(idade)"
   ]
  },
  {
   "cell_type": "code",
   "execution_count": 13,
   "id": "4822a6d5",
   "metadata": {},
   "outputs": [
    {
     "name": "stdout",
     "output_type": "stream",
     "text": [
      "18 anos de idade, TEM permissão para dirigir\n",
      "22 anos de idade, TEM permissão para dirigir\n",
      "15 anos de idade, NÃO TEM permissão para dirigir\n",
      "50 anos de idade, TEM permissão para dirigir\n"
     ]
    }
   ],
   "source": [
    "def verifica_se_pode_dirigir(idades):\n",
    "    for idade in idades:\n",
    "        if idade >= 18:\n",
    "            print(f'{idade} anos de idade, TEM permissão para dirigir')\n",
    "        else:\n",
    "            print(f'{idade} anos de idade, NÃO TEM permissão para dirigir')\n",
    "        \n",
    "verifica_se_pode_dirigir(idades)"
   ]
  },
  {
   "cell_type": "markdown",
   "id": "63e755ed",
   "metadata": {},
   "source": [
    "## Boolean"
   ]
  },
  {
   "cell_type": "code",
   "execution_count": 17,
   "id": "0c3a8052",
   "metadata": {
    "scrolled": true
   },
   "outputs": [
    {
     "data": {
      "text/plain": [
       "[True, False, True]"
      ]
     },
     "execution_count": 17,
     "metadata": {},
     "output_type": "execute_result"
    }
   ],
   "source": [
    "permissoes = [] \n",
    "idades = [20, 14, 40]\n",
    "\n",
    "def verica_dirigir3(idades, permissoes):\n",
    "    for idade in idades:\n",
    "        if idade >= 18:\n",
    "            permissoes.append(True)\n",
    "        else:\n",
    "            permissoes.append(False)\n",
    "            \n",
    "verica_dirigir3(idades, permissoes)\n",
    "\n",
    "permissoes"
   ]
  },
  {
   "cell_type": "code",
   "execution_count": 19,
   "id": "4afbc41c",
   "metadata": {},
   "outputs": [
    {
     "name": "stdout",
     "output_type": "stream",
     "text": [
      "Tem permissão para dirigir\n",
      "Não tem permissão para dirigir\n",
      "Tem permissão para dirigir\n"
     ]
    }
   ],
   "source": [
    "for permissao in permissoes:\n",
    "    if permissao == True:\n",
    "        print(f'Tem permissão para dirigir')\n",
    "    else:\n",
    "        print(f'Não tem permissão para dirigir')"
   ]
  },
  {
   "cell_type": "markdown",
   "id": "6d21d795-35c1-47ee-bc11-abd93000e51b",
   "metadata": {},
   "source": [
    "## Exercícios"
   ]
  },
  {
   "cell_type": "markdown",
   "id": "91046437-72ea-4db8-908d-841b18279cca",
   "metadata": {},
   "source": [
    "### 1 - Nome completo"
   ]
  },
  {
   "cell_type": "code",
   "execution_count": 51,
   "id": "9fba7781-c420-45b5-8934-a27f94e5ac68",
   "metadata": {},
   "outputs": [],
   "source": [
    "def nome_completo():\n",
    "    primeiro_nome = input('Qual o seu primeiro nome? ')\n",
    "    sobrenome = input('Qual o seu sobrenome?')\n",
    "    nome_inteiro = primeiro_nome + ' ' + sobrenome\n",
    "    print(nome_inteiro)"
   ]
  },
  {
   "cell_type": "code",
   "execution_count": 17,
   "id": "afa50da1-2058-4157-92d5-88afe1d4297c",
   "metadata": {},
   "outputs": [
    {
     "name": "stdin",
     "output_type": "stream",
     "text": [
      "Qual o seu primeiro nome?  Rayssa\n",
      "Qual o seu sobrenome? Banti\n"
     ]
    },
    {
     "name": "stdout",
     "output_type": "stream",
     "text": [
      "Rayssa Banti\n"
     ]
    }
   ],
   "source": [
    "nome_completo()"
   ]
  },
  {
   "cell_type": "markdown",
   "id": "5c6109e5-23a7-4858-805d-d76cead30cde",
   "metadata": {},
   "source": [
    "### 2 - Indo a padaria"
   ]
  },
  {
   "cell_type": "code",
   "execution_count": 55,
   "id": "21021aa6-c5c5-4e4f-93b7-dbecc465a717",
   "metadata": {},
   "outputs": [
    {
     "name": "stdout",
     "output_type": "stream",
     "text": [
      "Velocidade: 5.0 m/s\n"
     ]
    }
   ],
   "source": [
    "def velocidade(espaco, tempo):\n",
    " v = espaco / tempo\n",
    " print(f'Velocidade: {v} m/s')\n",
    "\n",
    "velocidade(100, 20)"
   ]
  },
  {
   "cell_type": "markdown",
   "id": "8f20443e-db96-4414-adec-4ce4882910f0",
   "metadata": {},
   "source": [
    "### 3 - Habilitação"
   ]
  },
  {
   "cell_type": "code",
   "execution_count": 59,
   "id": "fe2c8f95-ad92-48e2-abc2-cfeeeeb1151d",
   "metadata": {},
   "outputs": [
    {
     "name": "stdin",
     "output_type": "stream",
     "text": [
      "Qual sua idade?  2\n"
     ]
    },
    {
     "name": "stdout",
     "output_type": "stream",
     "text": [
      "Calma... espere 16 ano(s) para tirar habilitação\n"
     ]
    }
   ],
   "source": [
    "def habilitacao():\n",
    " idade = input('Qual sua idade? ')\n",
    " idade = int(idade)\n",
    " if idade >= 18:\n",
    "   print('Pode tirar habilitação')\n",
    " else:\n",
    "   tempo = 18 - idade\n",
    "   print(f'Calma... espere {tempo} ano(s) para tirar habilitação')\n",
    "\n",
    "habilitacao()"
   ]
  },
  {
   "cell_type": "code",
   "execution_count": null,
   "id": "c0acfc20-7e74-4d2f-8b88-c5ae1f6fb600",
   "metadata": {},
   "outputs": [],
   "source": []
  }
 ],
 "metadata": {
  "kernelspec": {
   "display_name": "Python 3",
   "language": "python",
   "name": "python3"
  },
  "language_info": {
   "codemirror_mode": {
    "name": "ipython",
    "version": 3
   },
   "file_extension": ".py",
   "mimetype": "text/x-python",
   "name": "python",
   "nbconvert_exporter": "python",
   "pygments_lexer": "ipython3",
   "version": "3.8.8"
  }
 },
 "nbformat": 4,
 "nbformat_minor": 5
}
