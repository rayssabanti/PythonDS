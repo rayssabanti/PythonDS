{
 "cells": [
  {
   "cell_type": "markdown",
   "id": "03e2270a-49fb-45e9-86d5-6b37b5dfc092",
   "metadata": {},
   "source": [
    "## 01. Função e linguagem de alto nível"
   ]
  },
  {
   "cell_type": "markdown",
   "id": "3692da87-bd01-44e7-ae5c-b7361f4e3cfa",
   "metadata": {},
   "source": [
    "##### Por convenção do Python utilizamos as aspas simples"
   ]
  },
  {
   "cell_type": "code",
   "execution_count": 1,
   "id": "7278363a-5304-4d89-ad12-ed9165395155",
   "metadata": {},
   "outputs": [],
   "source": [
    "nome = \"Guilherme\""
   ]
  },
  {
   "cell_type": "code",
   "execution_count": 2,
   "id": "ca068d0f-d88b-4ed3-af39-97494ebfae9c",
   "metadata": {},
   "outputs": [
    {
     "data": {
      "text/plain": [
       "'Guilherme'"
      ]
     },
     "execution_count": 2,
     "metadata": {},
     "output_type": "execute_result"
    }
   ],
   "source": [
    "nome"
   ]
  },
  {
   "cell_type": "code",
   "execution_count": 3,
   "id": "e82d40ba-382f-4c6c-b0ed-9e2eef5f76e6",
   "metadata": {},
   "outputs": [],
   "source": [
    "idade = 28"
   ]
  },
  {
   "cell_type": "code",
   "execution_count": 4,
   "id": "0d3224e7-4f8c-42c2-a710-1a34437f7a83",
   "metadata": {},
   "outputs": [
    {
     "data": {
      "text/plain": [
       "28"
      ]
     },
     "execution_count": 4,
     "metadata": {},
     "output_type": "execute_result"
    }
   ],
   "source": [
    "idade"
   ]
  },
  {
   "cell_type": "code",
   "execution_count": 5,
   "id": "6f2257e1-ad5a-4c39-807e-483704754d94",
   "metadata": {},
   "outputs": [
    {
     "name": "stdout",
     "output_type": "stream",
     "text": [
      " Seu nome é Guilherme e sua idade é 28\n"
     ]
    }
   ],
   "source": [
    "print(f' Seu nome é {nome} e sua idade é {idade}')"
   ]
  },
  {
   "cell_type": "markdown",
   "id": "f22a8522-12a1-495d-99cc-0e5d02c50afb",
   "metadata": {},
   "source": [
    "### Criando uma função"
   ]
  },
  {
   "cell_type": "code",
   "execution_count": 6,
   "id": "c6d1a176-4922-4e5d-8623-452dadd947b3",
   "metadata": {},
   "outputs": [],
   "source": [
    "def saudacao():\n",
    "    nome = input('Qual é o seu nome?')\n",
    "    print(f'Olá {nome}')"
   ]
  },
  {
   "cell_type": "code",
   "execution_count": 7,
   "id": "5a5dddbf-0eb7-4ef5-8c37-1c2312deab1a",
   "metadata": {},
   "outputs": [
    {
     "name": "stdout",
     "output_type": "stream",
     "text": [
      "Qual é o seu nome?Rayssa\n",
      "Olá Rayssa\n"
     ]
    }
   ],
   "source": [
    "saudacao()"
   ]
  },
  {
   "cell_type": "markdown",
   "id": "c707e54f-f18e-44a2-91a0-471f516dcf48",
   "metadata": {},
   "source": [
    "### Função com parâmetro"
   ]
  },
  {
   "cell_type": "code",
   "execution_count": 8,
   "id": "8b903361-1c4a-4a42-b788-464af6edfbae",
   "metadata": {},
   "outputs": [],
   "source": [
    "nome = 'João'"
   ]
  },
  {
   "cell_type": "code",
   "execution_count": 9,
   "id": "08c80b41-2d8b-4881-99ee-ec5ccf06deed",
   "metadata": {},
   "outputs": [],
   "source": [
    "def saudacao_2(nome_da_pessoa):\n",
    "    print(f'Olá {nome_da_pessoa}')"
   ]
  },
  {
   "cell_type": "code",
   "execution_count": 10,
   "id": "799fc38e-2541-44af-bbc8-34c86bac2441",
   "metadata": {},
   "outputs": [
    {
     "name": "stdout",
     "output_type": "stream",
     "text": [
      "Olá João\n"
     ]
    }
   ],
   "source": [
    "saudacao_2(nome)"
   ]
  },
  {
   "cell_type": "markdown",
   "id": "2fb1adbe-509a-49a8-8e84-25b0de44f039",
   "metadata": {},
   "source": [
    "##### Condicional"
   ]
  },
  {
   "cell_type": "code",
   "execution_count": 11,
   "id": "a0f45ae7-0035-4563-953e-b37c9e01be03",
   "metadata": {},
   "outputs": [],
   "source": [
    "idade = 122 \n",
    "\n",
    "# função que verifica se pode dirigir ou não \n",
    "\n",
    "def verifica_dirigir(idade):\n",
    "    if idade >= 18:\n",
    "        print('Pode dirigir')\n",
    "    else:\n",
    "        print('Não pode dirigir')\n"
   ]
  },
  {
   "cell_type": "code",
   "execution_count": 12,
   "id": "95d892f3-3671-4cd1-9fe3-72c56d97d75a",
   "metadata": {},
   "outputs": [
    {
     "name": "stdout",
     "output_type": "stream",
     "text": [
      "Pode dirigir\n"
     ]
    }
   ],
   "source": [
    "verifica_dirigir(idade)"
   ]
  },
  {
   "cell_type": "code",
   "execution_count": 13,
   "id": "0ebcf31a-098b-42fc-b9f2-d85ae635a64c",
   "metadata": {},
   "outputs": [],
   "source": [
    "def verifica_dirigir2():\n",
    "    idade = input('Qual sua idade?')\n",
    "    idade = int(idade)\n",
    "    if idade >= 18:\n",
    "        print(f'Pode dirigir, sua idade é {idade}')\n",
    "    else:\n",
    "        print(f'Não pode dirigir, sua idade é {idade}')"
   ]
  },
  {
   "cell_type": "code",
   "execution_count": 14,
   "id": "fb3dd7dc-6288-4df1-a381-ad366b0dd34b",
   "metadata": {},
   "outputs": [
    {
     "name": "stdout",
     "output_type": "stream",
     "text": [
      "Qual sua idade?32\n",
      "Pode dirigir, sua idade é 32\n"
     ]
    }
   ],
   "source": [
    "verifica_dirigir2()"
   ]
  },
  {
   "cell_type": "markdown",
   "id": "94852f7b",
   "metadata": {},
   "source": [
    "## Lista"
   ]
  },
  {
   "cell_type": "code",
   "execution_count": 15,
   "id": "84b39dd5",
   "metadata": {},
   "outputs": [
    {
     "data": {
      "text/plain": [
       "list"
      ]
     },
     "execution_count": 15,
     "metadata": {},
     "output_type": "execute_result"
    }
   ],
   "source": [
    "idades = [18,22,15,50]\n",
    "type(idades)"
   ]
  },
  {
   "cell_type": "code",
   "execution_count": 16,
   "id": "efb7b34b",
   "metadata": {},
   "outputs": [
    {
     "data": {
      "text/plain": [
       "22"
      ]
     },
     "execution_count": 16,
     "metadata": {},
     "output_type": "execute_result"
    }
   ],
   "source": [
    "# como pegar o segundo elemento?\n",
    "\n",
    "idades[1]\n",
    "# lista começa com 0 "
   ]
  },
  {
   "cell_type": "code",
   "execution_count": 17,
   "id": "f0db4b5e",
   "metadata": {
    "scrolled": true
   },
   "outputs": [
    {
     "data": {
      "text/plain": [
       "[18, 22, 15]"
      ]
     },
     "execution_count": 17,
     "metadata": {},
     "output_type": "execute_result"
    }
   ],
   "source": [
    "# como pegar só os 3 elementos? \n",
    "idades[0:3] "
   ]
  },
  {
   "cell_type": "code",
   "execution_count": 18,
   "id": "d4eb0682",
   "metadata": {},
   "outputs": [
    {
     "data": {
      "text/plain": [
       "[22, 15, 50]"
      ]
     },
     "execution_count": 18,
     "metadata": {},
     "output_type": "execute_result"
    }
   ],
   "source": [
    "#pegar a partir do segundo indice \n",
    "idades[1:]"
   ]
  },
  {
   "cell_type": "code",
   "execution_count": 19,
   "id": "c3fec3a1",
   "metadata": {},
   "outputs": [
    {
     "data": {
      "text/plain": [
       "50"
      ]
     },
     "execution_count": 19,
     "metadata": {},
     "output_type": "execute_result"
    }
   ],
   "source": [
    "#pegar apenas o último \n",
    "idades[-1]"
   ]
  },
  {
   "cell_type": "markdown",
   "id": "5e5f7a30",
   "metadata": {},
   "source": [
    "## Laços e Loops"
   ]
  },
  {
   "cell_type": "code",
   "execution_count": 20,
   "id": "10b39941",
   "metadata": {},
   "outputs": [
    {
     "name": "stdout",
     "output_type": "stream",
     "text": [
      "18 anos de idade, TEM permissão para dirigir\n",
      "22 anos de idade, TEM permissão para dirigir\n",
      "15 anos de idade, NÃO TEM permissão para dirigir\n",
      "50 anos de idade, TEM permissão para dirigir\n"
     ]
    }
   ],
   "source": [
    "def verifica_dirigir(idade):\n",
    "    if idade >= 18:\n",
    "        print(f'{idade} anos de idade, TEM permissão para dirigir')\n",
    "    else:\n",
    "        print(f'{idade} anos de idade, NÃO TEM permissão para dirigir')\n",
    "        \n",
    "#for fora da função        \n",
    "for idade in idades:\n",
    "    verifica_dirigir(idade)"
   ]
  },
  {
   "cell_type": "code",
   "execution_count": 21,
   "id": "4822a6d5",
   "metadata": {},
   "outputs": [
    {
     "name": "stdout",
     "output_type": "stream",
     "text": [
      "18 anos de idade, TEM permissão para dirigir\n",
      "22 anos de idade, TEM permissão para dirigir\n",
      "15 anos de idade, NÃO TEM permissão para dirigir\n",
      "50 anos de idade, TEM permissão para dirigir\n"
     ]
    }
   ],
   "source": [
    "def verifica_se_pode_dirigir(idades):\n",
    "    for idade in idades:\n",
    "        if idade >= 18:\n",
    "            print(f'{idade} anos de idade, TEM permissão para dirigir')\n",
    "        else:\n",
    "            print(f'{idade} anos de idade, NÃO TEM permissão para dirigir')\n",
    "        \n",
    "verifica_se_pode_dirigir(idades)"
   ]
  },
  {
   "cell_type": "markdown",
   "id": "63e755ed",
   "metadata": {},
   "source": [
    "## Boolean"
   ]
  },
  {
   "cell_type": "code",
   "execution_count": 22,
   "id": "0c3a8052",
   "metadata": {
    "scrolled": true
   },
   "outputs": [
    {
     "data": {
      "text/plain": [
       "[True, False, True]"
      ]
     },
     "execution_count": 22,
     "metadata": {},
     "output_type": "execute_result"
    }
   ],
   "source": [
    "permissoes = [] \n",
    "idades = [20, 14, 40]\n",
    "\n",
    "def verica_dirigir3(idades, permissoes):\n",
    "    for idade in idades:\n",
    "        if idade >= 18:\n",
    "            permissoes.append(True)\n",
    "        else:\n",
    "            permissoes.append(False)\n",
    "            \n",
    "verica_dirigir3(idades, permissoes)\n",
    "\n",
    "permissoes"
   ]
  },
  {
   "cell_type": "code",
   "execution_count": 23,
   "id": "4afbc41c",
   "metadata": {},
   "outputs": [
    {
     "name": "stdout",
     "output_type": "stream",
     "text": [
      "Tem permissão para dirigir\n",
      "Não tem permissão para dirigir\n",
      "Tem permissão para dirigir\n"
     ]
    }
   ],
   "source": [
    "for permissao in permissoes:\n",
    "    if permissao == True:\n",
    "        print(f'Tem permissão para dirigir')\n",
    "    else:\n",
    "        print(f'Não tem permissão para dirigir')"
   ]
  },
  {
   "cell_type": "markdown",
   "id": "1c0ccd7b",
   "metadata": {},
   "source": [
    "## Tipos em uma lista "
   ]
  },
  {
   "cell_type": "code",
   "execution_count": 28,
   "id": "759f5e04",
   "metadata": {},
   "outputs": [],
   "source": [
    "lista = ['Guilherme', 28, True, '18']"
   ]
  },
  {
   "cell_type": "code",
   "execution_count": 30,
   "id": "59da0c52",
   "metadata": {
    "collapsed": true
   },
   "outputs": [
    {
     "name": "stdout",
     "output_type": "stream",
     "text": [
      "O elemento Guilherme é do tipo:  <class 'str'>\n",
      "O elemento 28 é do tipo:  <class 'int'>\n",
      "O elemento True é do tipo:  <class 'bool'>\n",
      "O elemento 18 é do tipo:  <class 'str'>\n"
     ]
    }
   ],
   "source": [
    "for elemento in lista:\n",
    "    print(f'O elemento {elemento} é do tipo: ', type(elemento))"
   ]
  },
  {
   "cell_type": "markdown",
   "id": "68f35b81",
   "metadata": {},
   "source": [
    "##### Em uma mesma lista eu posso ter diversos tipos e valores "
   ]
  },
  {
   "cell_type": "markdown",
   "id": "a9415ec7",
   "metadata": {},
   "source": [
    "## Imports"
   ]
  },
  {
   "cell_type": "code",
   "execution_count": 4,
   "id": "11bbe951",
   "metadata": {},
   "outputs": [],
   "source": [
    "from random import randrange, seed"
   ]
  },
  {
   "cell_type": "code",
   "execution_count": 5,
   "id": "c14369b9",
   "metadata": {},
   "outputs": [],
   "source": [
    "seed(11)"
   ]
  },
  {
   "cell_type": "code",
   "execution_count": 6,
   "id": "0a3bd02c",
   "metadata": {
    "scrolled": true
   },
   "outputs": [
    {
     "data": {
      "text/plain": [
       "7"
      ]
     },
     "execution_count": 6,
     "metadata": {},
     "output_type": "execute_result"
    }
   ],
   "source": [
    "randrange(0,11) #gera um valor aleatório de 0 até 10 "
   ]
  },
  {
   "cell_type": "code",
   "execution_count": 7,
   "id": "ee914ece",
   "metadata": {},
   "outputs": [
    {
     "data": {
      "text/plain": [
       "[8, 7, 7, 8, 9, 3, 2, 8]"
      ]
     },
     "execution_count": 7,
     "metadata": {},
     "output_type": "execute_result"
    }
   ],
   "source": [
    "notas_matematica= []\n",
    "for notas in range(8):\n",
    "    notas_matematica.append(randrange(0,11))\n",
    "notas_matematica"
   ]
  },
  {
   "cell_type": "markdown",
   "id": "d1943a3a",
   "metadata": {},
   "source": [
    "## Criando um gráfico (matplotlib)"
   ]
  },
  {
   "cell_type": "code",
   "execution_count": 10,
   "id": "0c69dfe1",
   "metadata": {},
   "outputs": [],
   "source": [
    "import matplotlib.pyplot as plt"
   ]
  },
  {
   "cell_type": "code",
   "execution_count": 11,
   "id": "f8d2d66f",
   "metadata": {},
   "outputs": [
    {
     "data": {
      "text/plain": [
       "[1, 2, 3, 4, 5, 6, 7, 8]"
      ]
     },
     "execution_count": 11,
     "metadata": {},
     "output_type": "execute_result"
    }
   ],
   "source": [
    "x = list(range(1,9))\n",
    "x"
   ]
  },
  {
   "cell_type": "code",
   "execution_count": 12,
   "id": "23e600a0",
   "metadata": {},
   "outputs": [
    {
     "data": {
      "text/plain": [
       "[8, 7, 7, 8, 9, 3, 2, 8]"
      ]
     },
     "execution_count": 12,
     "metadata": {},
     "output_type": "execute_result"
    }
   ],
   "source": [
    "y = notas_matematica\n",
    "y"
   ]
  },
  {
   "cell_type": "code",
   "execution_count": 17,
   "id": "bdb333a1",
   "metadata": {},
   "outputs": [
    {
     "data": {
      "image/png": "[encoded data removed]",
      "text/plain": [
       "<Figure size 432x288 with 1 Axes>"
      ]
     },
     "metadata": {
      "needs_background": "light"
     },
     "output_type": "display_data"
    }
   ],
   "source": [
    "plt.plot(x, y, marker='o')\n",
    "plt.title('Notas de matemática')\n",
    "plt.xlabel('Provas')\n",
    "plt.ylabel('Notas')\n",
    "plt.show()"
   ]
  },
  {
   "cell_type": "code",
   "execution_count": null,
   "id": "4a0fe26a",
   "metadata": {},
   "outputs": [],
   "source": []
  },
  {
   "cell_type": "markdown",
   "id": "6d21d795-35c1-47ee-bc11-abd93000e51b",
   "metadata": {},
   "source": [
    "## Exercícios"
   ]
  },
  {
   "cell_type": "markdown",
   "id": "91046437-72ea-4db8-908d-841b18279cca",
   "metadata": {},
   "source": [
    "### 1 - Nome completo"
   ]
  },
  {
   "cell_type": "code",
   "execution_count": 24,
   "id": "9fba7781-c420-45b5-8934-a27f94e5ac68",
   "metadata": {},
   "outputs": [],
   "source": [
    "def nome_completo():\n",
    "    primeiro_nome = input('Qual o seu primeiro nome? ')\n",
    "    sobrenome = input('Qual o seu sobrenome?')\n",
    "    nome_inteiro = primeiro_nome + ' ' + sobrenome\n",
    "    print(nome_inteiro)"
   ]
  },
  {
   "cell_type": "code",
   "execution_count": 25,
   "id": "afa50da1-2058-4157-92d5-88afe1d4297c",
   "metadata": {},
   "outputs": [
    {
     "name": "stdout",
     "output_type": "stream",
     "text": [
      "Qual o seu primeiro nome? Rayssa\n",
      "Qual o seu sobrenome?Banti\n",
      "Rayssa Banti\n"
     ]
    }
   ],
   "source": [
    "nome_completo()"
   ]
  },
  {
   "cell_type": "markdown",
   "id": "5c6109e5-23a7-4858-805d-d76cead30cde",
   "metadata": {},
   "source": [
    "### 2 - Indo a padaria"
   ]
  },
  {
   "cell_type": "code",
   "execution_count": 26,
   "id": "21021aa6-c5c5-4e4f-93b7-dbecc465a717",
   "metadata": {},
   "outputs": [
    {
     "name": "stdout",
     "output_type": "stream",
     "text": [
      "Velocidade: 5.0 m/s\n"
     ]
    }
   ],
   "source": [
    "def velocidade(espaco, tempo):\n",
    " v = espaco / tempo\n",
    " print(f'Velocidade: {v} m/s')\n",
    "\n",
    "velocidade(100, 20)"
   ]
  },
  {
   "cell_type": "markdown",
   "id": "8f20443e-db96-4414-adec-4ce4882910f0",
   "metadata": {},
   "source": [
    "### 3 - Habilitação"
   ]
  },
  {
   "cell_type": "code",
   "execution_count": 27,
   "id": "fe2c8f95-ad92-48e2-abc2-cfeeeeb1151d",
   "metadata": {},
   "outputs": [
    {
     "name": "stdout",
     "output_type": "stream",
     "text": [
      "Qual sua idade? 32\n",
      "Pode tirar habilitação\n"
     ]
    }
   ],
   "source": [
    "def habilitacao():\n",
    " idade = input('Qual sua idade? ')\n",
    " idade = int(idade)\n",
    " if idade >= 18:\n",
    "   print('Pode tirar habilitação')\n",
    " else:\n",
    "   tempo = 18 - idade\n",
    "   print(f'Calma... espere {tempo} ano(s) para tirar habilitação')\n",
    "\n",
    "habilitacao()"
   ]
  },
  {
   "cell_type": "markdown",
   "id": "80e9f9af",
   "metadata": {},
   "source": [
    "### 4 - Listas no Python"
   ]
  },
  {
   "cell_type": "code",
   "execution_count": 83,
   "id": "6192c0c5",
   "metadata": {},
   "outputs": [
    {
     "name": "stdout",
     "output_type": "stream",
     "text": [
      "<class 'str'>\n",
      "<class 'bool'>\n",
      "<class 'bool'>\n",
      "<class 'str'>\n",
      "<class 'int'>\n"
     ]
    }
   ],
   "source": [
    "lista = ['int', False, True, '18', 2020]\n",
    "for elemento in lista:\n",
    " print(type(elemento))"
   ]
  },
  {
   "cell_type": "markdown",
   "id": "e00299d6",
   "metadata": {},
   "source": [
    "### 5- Lógica e valor final"
   ]
  },
  {
   "cell_type": "code",
   "execution_count": 19,
   "id": "1ee10204",
   "metadata": {},
   "outputs": [],
   "source": [
    "import matplotlib.pyplot as plt\n",
    "\n",
    "notas_matematica = ['Matemática',8,7,6,6,7,7,8,10]\n",
    "notas_portugues = ['Português',9,9,9,8,5,6,8,5]\n",
    "notas_geografia = ['Geografia',10,10,6,7,7,7,8,7]\n",
    "\n",
    "notas = [notas_matematica, notas_portugues, notas_geografia]"
   ]
  },
  {
   "cell_type": "code",
   "execution_count": 20,
   "id": "09fe9436",
   "metadata": {},
   "outputs": [
    {
     "data": {
      "image/png": "[encoded data removed]",
      "text/plain": [
       "<Figure size 432x288 with 1 Axes>"
      ]
     },
     "metadata": {
      "needs_background": "light"
     },
     "output_type": "display_data"
    },
    {
     "data": {
      "image/png": "[encoded data removed]",
      "text/plain": [
       "<Figure size 432x288 with 1 Axes>"
      ]
     },
     "metadata": {
      "needs_background": "light"
     },
     "output_type": "display_data"
    },
    {
     "data": {
      "image/png": "[encoded data removed]",
      "text/plain": [
       "<Figure size 432x288 with 1 Axes>"
      ]
     },
     "metadata": {
      "needs_background": "light"
     },
     "output_type": "display_data"
    }
   ],
   "source": [
    "for nota in notas:\n",
    " x = list(range(1, 9))\n",
    " y = nota[1:]\n",
    " plt.plot(x, y, marker='o')\n",
    " plt.xlabel('Provas')\n",
    " plt.ylabel('Notas')\n",
    " plt.title(nota[0])\n",
    " plt.show()"
   ]
  },
  {
   "cell_type": "code",
   "execution_count": null,
   "id": "1dcca463",
   "metadata": {},
   "outputs": [],
   "source": []
  }
 ],
 "metadata": {
  "kernelspec": {
   "display_name": "Python 3 (ipykernel)",
   "language": "python",
   "name": "python3"
  },
  "language_info": {
   "codemirror_mode": {
    "name": "ipython",
    "version": 3
   },
   "file_extension": ".py",
   "mimetype": "text/x-python",
   "name": "python",
   "nbconvert_exporter": "python",
   "pygments_lexer": "ipython3",
   "version": "3.9.7"
  }
 },
 "nbformat": 4,
 "nbformat_minor": 5
}
