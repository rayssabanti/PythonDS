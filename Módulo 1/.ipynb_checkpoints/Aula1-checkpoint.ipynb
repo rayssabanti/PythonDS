{
 "cells": [
  {
   "cell_type": "markdown",
   "id": "03e2270a-49fb-45e9-86d5-6b37b5dfc092",
   "metadata": {},
   "source": [
    "## 01. Função e linguagem de alto nível"
   ]
  },
  {
   "cell_type": "markdown",
   "id": "3692da87-bd01-44e7-ae5c-b7361f4e3cfa",
   "metadata": {},
   "source": [
    "##### Por convenção do Python utilizamos as aspas simples"
   ]
  },
  {
   "cell_type": "code",
   "execution_count": 2,
   "id": "7278363a-5304-4d89-ad12-ed9165395155",
   "metadata": {},
   "outputs": [],
   "source": [
    "nome = \"Guilherme\""
   ]
  },
  {
   "cell_type": "code",
   "execution_count": 3,
   "id": "ca068d0f-d88b-4ed3-af39-97494ebfae9c",
   "metadata": {},
   "outputs": [
    {
     "data": {
      "text/plain": [
       "'Guilherme'"
      ]
     },
     "execution_count": 3,
     "metadata": {},
     "output_type": "execute_result"
    }
   ],
   "source": [
    "nome"
   ]
  },
  {
   "cell_type": "code",
   "execution_count": 4,
   "id": "e82d40ba-382f-4c6c-b0ed-9e2eef5f76e6",
   "metadata": {},
   "outputs": [],
   "source": [
    "idade = 28"
   ]
  },
  {
   "cell_type": "code",
   "execution_count": 5,
   "id": "0d3224e7-4f8c-42c2-a710-1a34437f7a83",
   "metadata": {},
   "outputs": [
    {
     "data": {
      "text/plain": [
       "28"
      ]
     },
     "execution_count": 5,
     "metadata": {},
     "output_type": "execute_result"
    }
   ],
   "source": [
    "idade"
   ]
  },
  {
   "cell_type": "code",
   "execution_count": 10,
   "id": "6f2257e1-ad5a-4c39-807e-483704754d94",
   "metadata": {},
   "outputs": [
    {
     "name": "stdout",
     "output_type": "stream",
     "text": [
      " Seu nome é Guilherme e sua idade é 28\n"
     ]
    }
   ],
   "source": [
    "print(f' Seu nome é {nome} e sua idade é {idade}')"
   ]
  },
  {
   "cell_type": "markdown",
   "id": "f22a8522-12a1-495d-99cc-0e5d02c50afb",
   "metadata": {},
   "source": [
    "### Criando uma função"
   ]
  },
  {
   "cell_type": "code",
   "execution_count": 13,
   "id": "c6d1a176-4922-4e5d-8623-452dadd947b3",
   "metadata": {},
   "outputs": [],
   "source": [
    "def saudacao():\n",
    "    nome = input('Qual é o seu nome?')\n",
    "    print(f'Olá {nome}!')"
   ]
  },
  {
   "cell_type": "code",
   "execution_count": 14,
   "id": "5a5dddbf-0eb7-4ef5-8c37-1c2312deab1a",
   "metadata": {},
   "outputs": [
    {
     "name": "stdin",
     "output_type": "stream",
     "text": [
      "Qual é o seu nome? Rayssa\n"
     ]
    },
    {
     "name": "stdout",
     "output_type": "stream",
     "text": [
      "Olá Rayssa!\n"
     ]
    }
   ],
   "source": [
    "saudacao()"
   ]
  },
  {
   "cell_type": "code",
   "execution_count": 15,
   "id": "9fba7781-c420-45b5-8934-a27f94e5ac68",
   "metadata": {},
   "outputs": [],
   "source": [
    "def nome_completo():\n",
    "    primeiro_nome = input('Qual o seu primeiro nome? ')\n",
    "    sobrenome = input('Qual o seu sobrenome?')\n",
    "    nome_inteiro = primeiro_nome + ' ' + sobrenome\n",
    "    print(nome_inteiro)"
   ]
  },
  {
   "cell_type": "code",
   "execution_count": 17,
   "id": "afa50da1-2058-4157-92d5-88afe1d4297c",
   "metadata": {},
   "outputs": [
    {
     "name": "stdin",
     "output_type": "stream",
     "text": [
      "Qual o seu primeiro nome?  Rayssa\n",
      "Qual o seu sobrenome? Banti\n"
     ]
    },
    {
     "name": "stdout",
     "output_type": "stream",
     "text": [
      "Rayssa Banti\n"
     ]
    }
   ],
   "source": [
    "nome_completo()"
   ]
  },
  {
   "cell_type": "markdown",
   "id": "c707e54f-f18e-44a2-91a0-471f516dcf48",
   "metadata": {},
   "source": [
    "### Função com parâmetro"
   ]
  },
  {
   "cell_type": "code",
   "execution_count": 21,
   "id": "8b903361-1c4a-4a42-b788-464af6edfbae",
   "metadata": {},
   "outputs": [],
   "source": [
    "nome = 'João'"
   ]
  },
  {
   "cell_type": "code",
   "execution_count": 19,
   "id": "08c80b41-2d8b-4881-99ee-ec5ccf06deed",
   "metadata": {},
   "outputs": [],
   "source": [
    "def saudacao_2(nome_da_pessoa):\n",
    "    print(f'Olá {nome_da_pessoa}')"
   ]
  },
  {
   "cell_type": "code",
   "execution_count": 22,
   "id": "799fc38e-2541-44af-bbc8-34c86bac2441",
   "metadata": {},
   "outputs": [
    {
     "name": "stdout",
     "output_type": "stream",
     "text": [
      "Olá João\n"
     ]
    }
   ],
   "source": [
    "saudacao_2(nome)"
   ]
  },
  {
   "cell_type": "markdown",
   "id": "2fb1adbe-509a-49a8-8e84-25b0de44f039",
   "metadata": {},
   "source": [
    "##### Condicional"
   ]
  },
  {
   "cell_type": "code",
   "execution_count": 38,
   "id": "a0f45ae7-0035-4563-953e-b37c9e01be03",
   "metadata": {},
   "outputs": [
    {
     "ename": "SyntaxError",
     "evalue": "invalid syntax (<ipython-input-38-fb0a6d0084e2>, line 8)",
     "output_type": "error",
     "traceback": [
      "\u001b[1;36m  File \u001b[1;32m\"<ipython-input-38-fb0a6d0084e2>\"\u001b[1;36m, line \u001b[1;32m8\u001b[0m\n\u001b[1;33m    else\u001b[0m\n\u001b[1;37m        ^\u001b[0m\n\u001b[1;31mSyntaxError\u001b[0m\u001b[1;31m:\u001b[0m invalid syntax\n"
     ]
    }
   ],
   "source": [
    "idade = 12 \n",
    "\n",
    "# função que verifica se pode dirigir ou não \n",
    "\n",
    "def verifica_dirigir(idade):\n",
    "    if idade >= 18:\n",
    "        print('Pode dirigir')\n",
    "    else\n",
    "        ('Não pode dirigir')\n"
   ]
  },
  {
   "cell_type": "code",
   "execution_count": 37,
   "id": "95d892f3-3671-4cd1-9fe3-72c56d97d75a",
   "metadata": {},
   "outputs": [],
   "source": [
    "verifica_dirigir(idade)"
   ]
  },
  {
   "cell_type": "code",
   "execution_count": null,
   "id": "4ee551db-b98f-4239-aec6-7aa4783e0491",
   "metadata": {},
   "outputs": [],
   "source": []
  },
  {
   "cell_type": "code",
   "execution_count": null,
   "id": "0ebcf31a-098b-42fc-b9f2-d85ae635a64c",
   "metadata": {},
   "outputs": [],
   "source": []
  }
 ],
 "metadata": {
  "kernelspec": {
   "display_name": "Python 3",
   "language": "python",
   "name": "python3"
  },
  "language_info": {
   "codemirror_mode": {
    "name": "ipython",
    "version": 3
   },
   "file_extension": ".py",
   "mimetype": "text/x-python",
   "name": "python",
   "nbconvert_exporter": "python",
   "pygments_lexer": "ipython3",
   "version": "3.8.8"
  }
 },
 "nbformat": 4,
 "nbformat_minor": 5
}
