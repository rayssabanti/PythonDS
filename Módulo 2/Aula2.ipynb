{
 "cells": [
  {
   "cell_type": "markdown",
   "id": "50954ced-074a-4d56-a1c9-379e1e630399",
   "metadata": {},
   "source": [
    "# Estruturas de repetição e condicionais\n",
    "\n",
    "### Formato padrão \n",
    "\n",
    "for <variavel> in <coleção>:\n",
    "    <instruções>"
   ]
  },
  {
   "cell_type": "markdown",
   "id": "d31d0ea3-118a-423d-8bd1-a7de52f6158c",
   "metadata": {},
   "source": [
    "### Loop com listas"
   ]
  },
  {
   "cell_type": "code",
   "execution_count": 1,
   "id": "1e48ae9f-16ac-4395-a993-9e5003eef3a1",
   "metadata": {},
   "outputs": [
    {
     "data": {
      "text/plain": [
       "['Rodas de liga',\n",
       " 'Travas elétricas',\n",
       " 'Piloto automático',\n",
       " 'Bancos de couro',\n",
       " 'Ar condicionado',\n",
       " 'Sensor de estacionamento',\n",
       " 'Sensor crepuscular',\n",
       " 'Sensor de chuva']"
      ]
     },
     "execution_count": 1,
     "metadata": {},
     "output_type": "execute_result"
    }
   ],
   "source": [
    "Acessorios = ['Rodas de liga', 'Travas elétricas', 'Piloto automático', 'Bancos de couro', 'Ar condicionado', 'Sensor de estacionamento', 'Sensor crepuscular', 'Sensor de chuva']\n",
    "Acessorios"
   ]
  },
  {
   "cell_type": "code",
   "execution_count": 2,
   "id": "5e892ae9-b810-47fb-a4c8-e4bd43218b70",
   "metadata": {},
   "outputs": [
    {
     "name": "stdout",
     "output_type": "stream",
     "text": [
      "Rodas de liga\n",
      "Travas elétricas\n",
      "Piloto automático\n",
      "Bancos de couro\n",
      "Ar condicionado\n",
      "Sensor de estacionamento\n",
      "Sensor crepuscular\n",
      "Sensor de chuva\n"
     ]
    }
   ],
   "source": [
    "for item  in Acessorios:\n",
    "    print(item)"
   ]
  },
  {
   "cell_type": "markdown",
   "id": "37c7f337-fdd2-4512-82f1-d74ede84cea7",
   "metadata": {},
   "source": [
    "### List Comprehensions"
   ]
  },
  {
   "cell_type": "code",
   "execution_count": 3,
   "id": "7f958a7c-05b6-4246-95de-a0f3ec31b06b",
   "metadata": {},
   "outputs": [
    {
     "data": {
      "text/plain": [
       "range(0, 10)"
      ]
     },
     "execution_count": 3,
     "metadata": {},
     "output_type": "execute_result"
    }
   ],
   "source": [
    "range(10) #de tamanho 10 "
   ]
  },
  {
   "cell_type": "code",
   "execution_count": 4,
   "id": "90a3adcd-f6e3-4be0-8ddb-e38d3e9273a3",
   "metadata": {},
   "outputs": [
    {
     "data": {
      "text/plain": [
       "[0, 1, 2, 3, 4, 5, 6, 7, 8, 9]"
      ]
     },
     "execution_count": 4,
     "metadata": {},
     "output_type": "execute_result"
    }
   ],
   "source": [
    "list(range(10)) #cria uma lista com 10 itens de tamanho"
   ]
  },
  {
   "cell_type": "code",
   "execution_count": 5,
   "id": "cf4d8a24-1d3d-4a48-ae3e-91ff656973fa",
   "metadata": {},
   "outputs": [
    {
     "name": "stdout",
     "output_type": "stream",
     "text": [
      "0\n",
      "1\n",
      "4\n",
      "9\n",
      "16\n",
      "25\n",
      "36\n",
      "49\n",
      "64\n",
      "81\n"
     ]
    }
   ],
   "source": [
    "for i in range(10):\n",
    "    print(i **2)"
   ]
  },
  {
   "cell_type": "code",
   "execution_count": 6,
   "id": "87f25774-7d91-4d3d-9606-6e2cc10a86bc",
   "metadata": {},
   "outputs": [
    {
     "data": {
      "text/plain": [
       "[0, 1, 4, 9, 16, 25, 36, 49, 64, 81]"
      ]
     },
     "execution_count": 6,
     "metadata": {},
     "output_type": "execute_result"
    }
   ],
   "source": [
    "quadrado = [] \n",
    "\n",
    "for i in range(10):\n",
    "    quadrado.append(i **2)\n",
    "    \n",
    "quadrado"
   ]
  },
  {
   "cell_type": "markdown",
   "id": "c89fda6c-3335-47e6-93d9-c7bb024aed9b",
   "metadata": {
    "tags": []
   },
   "source": [
    "### Loops Aninhados"
   ]
  },
  {
   "cell_type": "code",
   "execution_count": 7,
   "id": "8f0f0750-8c3a-4c26-a9e0-2ffc9284346b",
   "metadata": {},
   "outputs": [
    {
     "data": {
      "text/plain": [
       "[['Rodas de liga',\n",
       "  'Travas elétricas',\n",
       "  'Piloto automático',\n",
       "  'Bancos de couro',\n",
       "  'Ar condicionado',\n",
       "  'Sensor de estacionamento',\n",
       "  'Sensor crepuscular',\n",
       "  'Sensor de chuva'],\n",
       " ['Central multimídia',\n",
       "  'Teto panorâmico',\n",
       "  'Freios ABS',\n",
       "  '4 X 4',\n",
       "  'Painel digital',\n",
       "  'Piloto automático',\n",
       "  'Bancos de couro',\n",
       "  'Câmera de estacionamento'],\n",
       " ['Piloto automático',\n",
       "  'Controle de estabilidade',\n",
       "  'Sensor crepuscular',\n",
       "  'Freios ABS',\n",
       "  'Câmbio automático',\n",
       "  'Bancos de couro',\n",
       "  'Central multimídia',\n",
       "  'Vidros elétricos']]"
      ]
     },
     "execution_count": 7,
     "metadata": {},
     "output_type": "execute_result"
    }
   ],
   "source": [
    "dados = [ \n",
    "    ['Rodas de liga', 'Travas elétricas', 'Piloto automático', 'Bancos de couro', 'Ar condicionado', 'Sensor de estacionamento', 'Sensor crepuscular', 'Sensor de chuva'],\n",
    "    ['Central multimídia', 'Teto panorâmico', 'Freios ABS', '4 X 4', 'Painel digital', 'Piloto automático', 'Bancos de couro', 'Câmera de estacionamento'],\n",
    "    ['Piloto automático', 'Controle de estabilidade', 'Sensor crepuscular', 'Freios ABS', 'Câmbio automático', 'Bancos de couro', 'Central multimídia', 'Vidros elétricos']\n",
    "]\n",
    "dados"
   ]
  },
  {
   "cell_type": "code",
   "execution_count": 8,
   "id": "0a55e2da-43f8-43c2-931a-022692058b65",
   "metadata": {},
   "outputs": [
    {
     "name": "stdout",
     "output_type": "stream",
     "text": [
      "['Rodas de liga', 'Travas elétricas', 'Piloto automático', 'Bancos de couro', 'Ar condicionado', 'Sensor de estacionamento', 'Sensor crepuscular', 'Sensor de chuva']\n",
      "['Central multimídia', 'Teto panorâmico', 'Freios ABS', '4 X 4', 'Painel digital', 'Piloto automático', 'Bancos de couro', 'Câmera de estacionamento']\n",
      "['Piloto automático', 'Controle de estabilidade', 'Sensor crepuscular', 'Freios ABS', 'Câmbio automático', 'Bancos de couro', 'Central multimídia', 'Vidros elétricos']\n"
     ]
    }
   ],
   "source": [
    "for lista in dados:\n",
    "    print(lista)"
   ]
  },
  {
   "cell_type": "code",
   "execution_count": 9,
   "id": "b3156ded-7c65-4740-a0cb-bcecc2caf628",
   "metadata": {},
   "outputs": [
    {
     "name": "stdout",
     "output_type": "stream",
     "text": [
      "Rodas de liga\n",
      "Travas elétricas\n",
      "Piloto automático\n",
      "Bancos de couro\n",
      "Ar condicionado\n",
      "Sensor de estacionamento\n",
      "Sensor crepuscular\n",
      "Sensor de chuva\n",
      "Central multimídia\n",
      "Teto panorâmico\n",
      "Freios ABS\n",
      "4 X 4\n",
      "Painel digital\n",
      "Piloto automático\n",
      "Bancos de couro\n",
      "Câmera de estacionamento\n",
      "Piloto automático\n",
      "Controle de estabilidade\n",
      "Sensor crepuscular\n",
      "Freios ABS\n",
      "Câmbio automático\n",
      "Bancos de couro\n",
      "Central multimídia\n",
      "Vidros elétricos\n"
     ]
    }
   ],
   "source": [
    "for lista in dados:\n",
    "    for item in lista:\n",
    "        print(item)"
   ]
  },
  {
   "cell_type": "code",
   "execution_count": 10,
   "id": "172e0b80-34de-4234-a154-8a9e67895032",
   "metadata": {},
   "outputs": [
    {
     "data": {
      "text/plain": [
       "['Rodas de liga',\n",
       " 'Travas elétricas',\n",
       " 'Piloto automático',\n",
       " 'Bancos de couro',\n",
       " 'Ar condicionado',\n",
       " 'Sensor de estacionamento',\n",
       " 'Sensor crepuscular',\n",
       " 'Sensor de chuva',\n",
       " 'Central multimídia',\n",
       " 'Teto panorâmico',\n",
       " 'Freios ABS',\n",
       " '4 X 4',\n",
       " 'Painel digital',\n",
       " 'Piloto automático',\n",
       " 'Bancos de couro',\n",
       " 'Câmera de estacionamento',\n",
       " 'Piloto automático',\n",
       " 'Controle de estabilidade',\n",
       " 'Sensor crepuscular',\n",
       " 'Freios ABS',\n",
       " 'Câmbio automático',\n",
       " 'Bancos de couro',\n",
       " 'Central multimídia',\n",
       " 'Vidros elétricos']"
      ]
     },
     "execution_count": 10,
     "metadata": {},
     "output_type": "execute_result"
    }
   ],
   "source": [
    "Acessorios = []\n",
    "for lista in dados:\n",
    "  for item in lista:\n",
    "        Acessorios.append(item)\n",
    "Acessorios"
   ]
  },
  {
   "cell_type": "markdown",
   "id": "e7a94a70-2263-4fee-99a6-a56157601623",
   "metadata": {},
   "source": [
    "#### Set()\n",
    "\n",
    "Remove duplicatas de uma sequência"
   ]
  },
  {
   "cell_type": "code",
   "execution_count": 11,
   "id": "4dfb5685-aa68-435f-adb1-0eaeb0166a02",
   "metadata": {},
   "outputs": [
    {
     "data": {
      "text/plain": [
       "['Sensor de chuva',\n",
       " 'Bancos de couro',\n",
       " 'Ar condicionado',\n",
       " 'Central multimídia',\n",
       " 'Câmera de estacionamento',\n",
       " 'Teto panorâmico',\n",
       " 'Câmbio automático',\n",
       " 'Freios ABS',\n",
       " 'Vidros elétricos',\n",
       " '4 X 4',\n",
       " 'Sensor de estacionamento',\n",
       " 'Sensor crepuscular',\n",
       " 'Controle de estabilidade',\n",
       " 'Piloto automático',\n",
       " 'Painel digital',\n",
       " 'Travas elétricas',\n",
       " 'Rodas de liga']"
      ]
     },
     "execution_count": 11,
     "metadata": {},
     "output_type": "execute_result"
    }
   ],
   "source": [
    "list(set(Acessorios))"
   ]
  },
  {
   "cell_type": "markdown",
   "id": "7ca93d21-4c54-4bdf-bd92-2d055ff8e4d3",
   "metadata": {},
   "source": [
    "#### List Comprehentions"
   ]
  },
  {
   "cell_type": "code",
   "execution_count": 12,
   "id": "8b79976e-92fe-4b81-9014-5fe9d9df0a59",
   "metadata": {},
   "outputs": [
    {
     "data": {
      "text/plain": [
       "['Rodas de liga',\n",
       " 'Travas elétricas',\n",
       " 'Piloto automático',\n",
       " 'Bancos de couro',\n",
       " 'Ar condicionado',\n",
       " 'Sensor de estacionamento',\n",
       " 'Sensor crepuscular',\n",
       " 'Sensor de chuva',\n",
       " 'Central multimídia',\n",
       " 'Teto panorâmico',\n",
       " 'Freios ABS',\n",
       " '4 X 4',\n",
       " 'Painel digital',\n",
       " 'Piloto automático',\n",
       " 'Bancos de couro',\n",
       " 'Câmera de estacionamento',\n",
       " 'Piloto automático',\n",
       " 'Controle de estabilidade',\n",
       " 'Sensor crepuscular',\n",
       " 'Freios ABS',\n",
       " 'Câmbio automático',\n",
       " 'Bancos de couro',\n",
       " 'Central multimídia',\n",
       " 'Vidros elétricos']"
      ]
     },
     "execution_count": 12,
     "metadata": {},
     "output_type": "execute_result"
    }
   ],
   "source": [
    "[item for lista in dados for item in lista]"
   ]
  },
  {
   "cell_type": "code",
   "execution_count": 13,
   "id": "6b9a6dc2-f1a7-469d-b00e-af09d46f7f90",
   "metadata": {},
   "outputs": [
    {
     "data": {
      "text/plain": [
       "['Sensor de chuva',\n",
       " 'Bancos de couro',\n",
       " 'Ar condicionado',\n",
       " 'Central multimídia',\n",
       " 'Câmera de estacionamento',\n",
       " 'Teto panorâmico',\n",
       " 'Câmbio automático',\n",
       " 'Freios ABS',\n",
       " 'Vidros elétricos',\n",
       " '4 X 4',\n",
       " 'Sensor de estacionamento',\n",
       " 'Sensor crepuscular',\n",
       " 'Controle de estabilidade',\n",
       " 'Piloto automático',\n",
       " 'Painel digital',\n",
       " 'Travas elétricas',\n",
       " 'Rodas de liga']"
      ]
     },
     "execution_count": 13,
     "metadata": {},
     "output_type": "execute_result"
    }
   ],
   "source": [
    "list(set([item for lista in dados for item in lista]))"
   ]
  },
  {
   "cell_type": "markdown",
   "id": "6af6d7ab-a97f-4976-944c-ca62d3d58bec",
   "metadata": {
    "tags": []
   },
   "source": [
    "### Instrução IF\n",
    "if <condição>: \n",
    "    <instrução> \n",
    "== igual a\n",
    "!= diferente de\n",
    "> maior que\n",
    "< menor que\n",
    ">= maior igual a \n",
    "<= menor igual a "
   ]
  },
  {
   "cell_type": "code",
   "execution_count": 15,
   "id": "623b3fce-9f7a-411a-90e2-76bd74e4e354",
   "metadata": {},
   "outputs": [
    {
     "data": {
      "text/plain": [
       "[['Jetta Variant', 2003, False],\n",
       " ['Passat', 1991, False],\n",
       " ['Crossfox', 1990, False],\n",
       " ['DS5', 2019, True],\n",
       " ['Aston Martin DB4', 2006, False],\n",
       " ['Palio Weekend', 2012, False],\n",
       " ['A5', 2019, True],\n",
       " ['Série 3 Cabrio', 2009, False],\n",
       " ['Dodge Jorney', 2019, False],\n",
       " ['Carens', 2011, False]]"
      ]
     },
     "execution_count": 15,
     "metadata": {},
     "output_type": "execute_result"
    }
   ],
   "source": [
    "# 1º item da lista - Nome do veículo\n",
    "# 2º item da lista - Ano de fabricação\n",
    "# 3º item da lista - Veículo é zero km?\n",
    "\n",
    "dados = [\n",
    "    ['Jetta Variant', 2003, False],\n",
    "    ['Passat', 1991, False],\n",
    "    ['Crossfox', 1990, False],\n",
    "    ['DS5', 2019, True],\n",
    "    ['Aston Martin DB4', 2006, False],\n",
    "    ['Palio Weekend', 2012, False],\n",
    "    ['A5', 2019, True],\n",
    "    ['Série 3 Cabrio', 2009, False],\n",
    "    ['Dodge Jorney', 2019, False],\n",
    "    ['Carens', 2011, False]\n",
    "]\n",
    "dados"
   ]
  },
  {
   "cell_type": "code",
   "execution_count": 20,
   "id": "9c0dd7cf-5b59-45e8-be9d-e60b0edf8cf3",
   "metadata": {},
   "outputs": [],
   "source": [
    "zero_km_y = []\n",
    "for lista in dados:\n",
    "    if (lista [2] == True):\n",
    "       zero_km_y.append(lista)"
   ]
  },
  {
   "cell_type": "code",
   "execution_count": 21,
   "id": "14e0130b-08c0-4734-85bd-5cace5419e16",
   "metadata": {},
   "outputs": [
    {
     "data": {
      "text/plain": [
       "[['DS5', 2019, True], ['A5', 2019, True]]"
      ]
     },
     "execution_count": 21,
     "metadata": {},
     "output_type": "execute_result"
    }
   ],
   "source": [
    "zero_km_y"
   ]
  },
  {
   "cell_type": "markdown",
   "id": "4936f08c-703b-4b0b-bc4a-abd9c2599c91",
   "metadata": {},
   "source": [
    "#### List Comprehensions"
   ]
  },
  {
   "cell_type": "code",
   "execution_count": 22,
   "id": "59d24093-a1c2-45db-82ed-2719991d67b1",
   "metadata": {},
   "outputs": [
    {
     "data": {
      "text/plain": [
       "[['DS5', 2019, True], ['A5', 2019, True]]"
      ]
     },
     "execution_count": 22,
     "metadata": {},
     "output_type": "execute_result"
    }
   ],
   "source": [
    "[lista for lista in dados if lista [2] == True]"
   ]
  },
  {
   "cell_type": "markdown",
   "id": "29e14a37-3ab7-41b4-a0a7-7b4f673ebf05",
   "metadata": {},
   "source": [
    "### Instruções if e else\n",
    "if <condição>:\n",
    "    <instruções caso a condição seja verdadeira>\n",
    "    \n",
    "else:\n",
    "    <instruções caso a condição não seja verdadeira>"
   ]
  },
  {
   "cell_type": "code",
   "execution_count": 23,
   "id": "8d338c7d-0920-49a2-95e8-fc36150ddd34",
   "metadata": {},
   "outputs": [],
   "source": [
    "zero_km_y = []\n",
    "zero_km_n = []\n",
    "for lista in dados:\n",
    "    if (lista [2] == True):\n",
    "       zero_km_y.append(lista)\n",
    "    else:\n",
    "         zero_km_n.append(lista)"
   ]
  },
  {
   "cell_type": "code",
   "execution_count": 25,
   "id": "6cc0beb3-f6de-4745-b5ed-66c8b4aa1f9f",
   "metadata": {},
   "outputs": [
    {
     "data": {
      "text/plain": [
       "[['DS5', 2019, True], ['A5', 2019, True]]"
      ]
     },
     "execution_count": 25,
     "metadata": {},
     "output_type": "execute_result"
    }
   ],
   "source": [
    "zero_km_y \n"
   ]
  },
  {
   "cell_type": "code",
   "execution_count": 26,
   "id": "2821d8f4-103d-4cf3-b5df-b3679843f25f",
   "metadata": {},
   "outputs": [
    {
     "data": {
      "text/plain": [
       "[['Jetta Variant', 2003, False],\n",
       " ['Passat', 1991, False],\n",
       " ['Crossfox', 1990, False],\n",
       " ['Aston Martin DB4', 2006, False],\n",
       " ['Palio Weekend', 2012, False],\n",
       " ['Série 3 Cabrio', 2009, False],\n",
       " ['Dodge Jorney', 2019, False],\n",
       " ['Carens', 2011, False]]"
      ]
     },
     "execution_count": 26,
     "metadata": {},
     "output_type": "execute_result"
    }
   ],
   "source": [
    "zero_km_n"
   ]
  },
  {
   "cell_type": "markdown",
   "id": "d8151a4e-8a8e-454e-8cf7-042a7d946ef0",
   "metadata": {},
   "source": [
    "#### Elif\n",
    "\n",
    "if <condição 1>:\n",
    "    <instruções caso a condição 1 seja verdadeira>\n",
    "    \n",
    "    \n",
    "elif <condição 2>:\n",
    "    <instruções caso a condição 2 seja verdadeira>\n",
    "    \n",
    "    \n",
    "elif <condição 3>:\n",
    "    <instruções caso a condição 3 seja verdadeira>\n",
    "                        .\n",
    "                        .\n",
    "                        .\n",
    "else:\n",
    "    <instruções caso as condições anteriores não sejam verdadeiras>"
   ]
  },
  {
   "cell_type": "code",
   "execution_count": 27,
   "id": "a8458148-0e6b-4774-8730-ca1644aa66ad",
   "metadata": {},
   "outputs": [],
   "source": [
    "A, B ,C = [],[],[]\n",
    "\n",
    "for lista in dados:\n",
    "    if lista[1] <=2000:\n",
    "        A.append(lista)\n",
    "    elif(lista[1] > 2000 and lista[1] <= 2010):\n",
    "        B.append(lista)\n",
    "    else:\n",
    "        C.append(lista)"
   ]
  },
  {
   "cell_type": "code",
   "execution_count": 28,
   "id": "22a8d71a-5d44-4229-87e5-39139d6ff084",
   "metadata": {},
   "outputs": [
    {
     "data": {
      "text/plain": [
       "[['Passat', 1991, False], ['Crossfox', 1990, False]]"
      ]
     },
     "execution_count": 28,
     "metadata": {},
     "output_type": "execute_result"
    }
   ],
   "source": [
    "A"
   ]
  },
  {
   "cell_type": "code",
   "execution_count": 29,
   "id": "93266c8a-1dd0-4f3b-bd40-eb4246e0a8dc",
   "metadata": {},
   "outputs": [
    {
     "data": {
      "text/plain": [
       "[['Jetta Variant', 2003, False],\n",
       " ['Aston Martin DB4', 2006, False],\n",
       " ['Série 3 Cabrio', 2009, False]]"
      ]
     },
     "execution_count": 29,
     "metadata": {},
     "output_type": "execute_result"
    }
   ],
   "source": [
    "B"
   ]
  },
  {
   "cell_type": "code",
   "execution_count": 30,
   "id": "c0ee0ea8-29c8-44b6-9ee2-8739c0bb12dc",
   "metadata": {},
   "outputs": [
    {
     "data": {
      "text/plain": [
       "[['DS5', 2019, True],\n",
       " ['Palio Weekend', 2012, False],\n",
       " ['A5', 2019, True],\n",
       " ['Dodge Jorney', 2019, False],\n",
       " ['Carens', 2011, False]]"
      ]
     },
     "execution_count": 30,
     "metadata": {},
     "output_type": "execute_result"
    }
   ],
   "source": [
    "C"
   ]
  },
  {
   "cell_type": "code",
   "execution_count": null,
   "id": "b8b142d2-c4e6-46b6-8f58-e2b7c2fa3b98",
   "metadata": {},
   "outputs": [],
   "source": []
  }
 ],
 "metadata": {
  "kernelspec": {
   "display_name": "Python 3 (ipykernel)",
   "language": "python",
   "name": "python3"
  },
  "language_info": {
   "codemirror_mode": {
    "name": "ipython",
    "version": 3
   },
   "file_extension": ".py",
   "mimetype": "text/x-python",
   "name": "python",
   "nbconvert_exporter": "python",
   "pygments_lexer": "ipython3",
   "version": "3.9.7"
  }
 },
 "nbformat": 4,
 "nbformat_minor": 5
}
