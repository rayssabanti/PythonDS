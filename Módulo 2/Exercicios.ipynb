{
 "cells": [
  {
   "cell_type": "markdown",
   "id": "3ba1ae0b-6457-42c4-9133-04e829575707",
   "metadata": {},
   "source": [
    "## Exercícios"
   ]
  },
  {
   "cell_type": "markdown",
   "id": "99fce38e-e233-4735-819e-179e33304a5d",
   "metadata": {
    "jp-MarkdownHeadingCollapsed": true,
    "tags": []
   },
   "source": [
    "### 1)Desmistificando expressões\n"
   ]
  },
  {
   "cell_type": "code",
   "execution_count": 1,
   "id": "343f261f-51d5-4fea-8ca3-4d94549fb061",
   "metadata": {},
   "outputs": [
    {
     "data": {
      "text/plain": [
       "0"
      ]
     },
     "execution_count": 1,
     "metadata": {},
     "output_type": "execute_result"
    }
   ],
   "source": [
    "10 % 2 + 3 // 10"
   ]
  },
  {
   "cell_type": "code",
   "execution_count": 2,
   "id": "d73858bd-dcef-48ee-8979-bfd5709465dc",
   "metadata": {},
   "outputs": [
    {
     "data": {
      "text/plain": [
       "12.5"
      ]
     },
     "execution_count": 2,
     "metadata": {},
     "output_type": "execute_result"
    }
   ],
   "source": [
    "5 * (2 + 3) / 2"
   ]
  },
  {
   "cell_type": "markdown",
   "id": "1e762269-9666-401f-ac26-7d91f03c141b",
   "metadata": {
    "jp-MarkdownHeadingCollapsed": true,
    "tags": []
   },
   "source": [
    "### 2) Trabalhando com Listas "
   ]
  },
  {
   "cell_type": "markdown",
   "id": "84c1321d-b293-471c-b5a7-3587ada8ab89",
   "metadata": {
    "jp-MarkdownHeadingCollapsed": true,
    "tags": []
   },
   "source": [
    "##### Considere a lista abaixo:"
   ]
  },
  {
   "cell_type": "code",
   "execution_count": 3,
   "id": "6630972c-f38d-4a4a-adf4-2f8765de9b8e",
   "metadata": {},
   "outputs": [],
   "source": [
    "carro = [\n",
    "    'Jetta Variant', \n",
    "    'Motor 4.0 Turbo', \n",
    "    2003, \n",
    "    44410.0, \n",
    "    False, \n",
    "    ['Rodas de liga', 'Travas elétricas', 'Piloto automático'], \n",
    "    88078.64\n",
    "]"
   ]
  },
  {
   "cell_type": "code",
   "execution_count": 4,
   "id": "855be16f-2302-4af7-8582-425fe9e045a4",
   "metadata": {},
   "outputs": [
    {
     "data": {
      "text/plain": [
       "False"
      ]
     },
     "execution_count": 4,
     "metadata": {},
     "output_type": "execute_result"
    }
   ],
   "source": [
    "'2003' in carro"
   ]
  },
  {
   "cell_type": "code",
   "execution_count": 5,
   "id": "f42d40c8-d213-4f86-a8cb-3d9695cd94ba",
   "metadata": {},
   "outputs": [
    {
     "data": {
      "text/plain": [
       "False"
      ]
     },
     "execution_count": 5,
     "metadata": {},
     "output_type": "execute_result"
    }
   ],
   "source": [
    "'Rodas de liga' in carro"
   ]
  },
  {
   "cell_type": "code",
   "execution_count": 7,
   "id": "cb83ac3f-e266-446b-a04f-082657dd1d60",
   "metadata": {},
   "outputs": [
    {
     "data": {
      "text/plain": [
       "True"
      ]
     },
     "execution_count": 7,
     "metadata": {},
     "output_type": "execute_result"
    }
   ],
   "source": [
    "'False' not in carro\n",
    "\n"
   ]
  },
  {
   "cell_type": "markdown",
   "id": "8459eb52-6f51-4766-acfb-3266b56fe8d7",
   "metadata": {
    "jp-MarkdownHeadingCollapsed": true,
    "tags": []
   },
   "source": [
    "### 3) Seleções e fatiamentos\n",
    "\n",
    "Considere a seguinte lista:\n",
    "\n",
    "letras = ['A', 'B', 'C', 'D', 'E', 'F', 'G', 'H']\n",
    "\n",
    "Considere também as seguintes seleções na lista letras:\n",
    "\n",
    "1) ['A', 'B']\n",
    "\n",
    "2) ['C', 'D', 'E']\n",
    "\n",
    "3) ['F', 'G', 'H']\n",
    "\n",
    "Assinale a alternativa que apresenta os códigos que têm como resultado as seleções acima."
   ]
  },
  {
   "cell_type": "code",
   "execution_count": 8,
   "id": "c50e9a44-6ef0-4dad-813b-b2a93ee30dcd",
   "metadata": {},
   "outputs": [],
   "source": [
    "letras = ['A', 'B', 'C', 'D', 'E', 'F', 'G', 'H']"
   ]
  },
  {
   "cell_type": "markdown",
   "id": "37c7b471-09b7-463d-977d-a08b19c417b2",
   "metadata": {
    "tags": []
   },
   "source": [
    "#### 1. ['A', 'B']"
   ]
  },
  {
   "cell_type": "code",
   "execution_count": 19,
   "id": "9b785921-fdaf-4362-9e77-f34179b1a3de",
   "metadata": {},
   "outputs": [
    {
     "data": {
      "text/plain": [
       "['A', 'B']"
      ]
     },
     "execution_count": 19,
     "metadata": {},
     "output_type": "execute_result"
    }
   ],
   "source": [
    "letras[:2]"
   ]
  },
  {
   "cell_type": "markdown",
   "id": "0d0bced5-0d68-4271-a2f3-03cf40800812",
   "metadata": {},
   "source": [
    "#### 2. ['C', 'D', 'E']"
   ]
  },
  {
   "cell_type": "code",
   "execution_count": 15,
   "id": "8bd97c26-a95d-4cb8-98c0-dd4fa9b8e2c4",
   "metadata": {},
   "outputs": [
    {
     "data": {
      "text/plain": [
       "['C', 'D', 'E']"
      ]
     },
     "execution_count": 15,
     "metadata": {},
     "output_type": "execute_result"
    }
   ],
   "source": [
    "letras[2:5]"
   ]
  },
  {
   "cell_type": "markdown",
   "id": "a8dd7e32-6ad6-488c-8647-917b87ce2d0c",
   "metadata": {},
   "source": [
    "#### 3. ['F', 'G', 'H']"
   ]
  },
  {
   "cell_type": "code",
   "execution_count": 22,
   "id": "46d89d59-fc43-4789-81d6-09b0c052920d",
   "metadata": {},
   "outputs": [
    {
     "data": {
      "text/plain": [
       "['F', 'G', 'H']"
      ]
     },
     "execution_count": 22,
     "metadata": {},
     "output_type": "execute_result"
    }
   ],
   "source": [
    "letras[-3:] "
   ]
  },
  {
   "cell_type": "code",
   "execution_count": 23,
   "id": "a6a6849a-0054-4cdf-97ac-8ae8a5ee68c3",
   "metadata": {},
   "outputs": [
    {
     "data": {
      "text/plain": [
       "['F', 'G', 'H']"
      ]
     },
     "execution_count": 23,
     "metadata": {},
     "output_type": "execute_result"
    }
   ],
   "source": [
    "letras[5:]"
   ]
  },
  {
   "cell_type": "markdown",
   "id": "eb778376-3673-46f3-aaef-daa1bb6ce842",
   "metadata": {
    "jp-MarkdownHeadingCollapsed": true,
    "tags": []
   },
   "source": [
    "### 4) Listas dentro de listas\n",
    "\n",
    "Utilize a lista carros abaixo para responder a questão:\n",
    "\n",
    "Considere também os seguintes itens:\n",
    "1) True\n",
    "\n",
    "2) 'Teto panorâmico'\n",
    "\n",
    "3) ['Rodas de liga', 'Travas elétricas', 'Piloto automático']"
   ]
  },
  {
   "cell_type": "code",
   "execution_count": 24,
   "id": "b0435441-dd6e-476d-9e66-44caa42a6a02",
   "metadata": {},
   "outputs": [],
   "source": [
    "carros = [\n",
    "    [\n",
    "        'Jetta Variant',\n",
    "        'Motor 4.0 Turbo',\n",
    "        2003,\n",
    "        False,\n",
    "        ['Rodas de liga', 'Travas elétricas', 'Piloto automático']\n",
    "    ],\n",
    "    [\n",
    "        'Passat',\n",
    "        'Motor Diesel',\n",
    "        1991,\n",
    "        True,\n",
    "        ['Central multimídia', 'Teto panorâmico', 'Freios ABS']\n",
    "    ]\n",
    "]"
   ]
  },
  {
   "cell_type": "markdown",
   "id": "65c80ba7-7cfe-422b-b4a8-d808ae2e53b0",
   "metadata": {},
   "source": [
    "#### 1. True"
   ]
  },
  {
   "cell_type": "code",
   "execution_count": 26,
   "id": "3392e656-aa26-4156-9b94-bf7620a137b7",
   "metadata": {},
   "outputs": [
    {
     "data": {
      "text/plain": [
       "True"
      ]
     },
     "execution_count": 26,
     "metadata": {},
     "output_type": "execute_result"
    }
   ],
   "source": [
    "carros[1][3]"
   ]
  },
  {
   "cell_type": "markdown",
   "id": "87f7a841-2afa-4785-853f-7207ab07754b",
   "metadata": {},
   "source": [
    "#### 2. 'Teto panorâmico'"
   ]
  },
  {
   "cell_type": "code",
   "execution_count": null,
   "id": "62d40a01-864e-42c7-a9ef-3336e2ce0277",
   "metadata": {},
   "outputs": [
    {
     "data": {
      "text/plain": [
       "'Teto panorâmico'"
      ]
     },
     "execution_count": 27,
     "metadata": {},
     "output_type": "execute_result"
    }
   ],
   "source": [
    "carros[1][4][-2]"
   ]
  },
  {
   "cell_type": "markdown",
   "id": "8acc65ab-bd4f-4c9e-a70d-f2045f413d4b",
   "metadata": {},
   "source": [
    "#### 3. ['Rodas de liga', 'Travas elétricas', 'Piloto automático']"
   ]
  },
  {
   "cell_type": "code",
   "execution_count": 28,
   "id": "8ab2860c-2743-4cfd-8690-9f0fec41a50d",
   "metadata": {},
   "outputs": [
    {
     "data": {
      "text/plain": [
       "['Rodas de liga', 'Travas elétricas', 'Piloto automático']"
      ]
     },
     "execution_count": 28,
     "metadata": {},
     "output_type": "execute_result"
    }
   ],
   "source": [
    "carros[0][-1]"
   ]
  },
  {
   "cell_type": "markdown",
   "id": "04c6079e-9dad-4746-a23a-be6070333598",
   "metadata": {},
   "source": [
    "### 5)"
   ]
  },
  {
   "cell_type": "code",
   "execution_count": null,
   "id": "abc87fdb-a709-4d1a-b207-ed73e80d3412",
   "metadata": {},
   "outputs": [],
   "source": []
  }
 ],
 "metadata": {
  "kernelspec": {
   "display_name": "Python 3 (ipykernel)",
   "language": "python",
   "name": "python3"
  },
  "language_info": {
   "codemirror_mode": {
    "name": "ipython",
    "version": 3
   },
   "file_extension": ".py",
   "mimetype": "text/x-python",
   "name": "python",
   "nbconvert_exporter": "python",
   "pygments_lexer": "ipython3",
   "version": "3.9.7"
  }
 },
 "nbformat": 4,
 "nbformat_minor": 5
}
