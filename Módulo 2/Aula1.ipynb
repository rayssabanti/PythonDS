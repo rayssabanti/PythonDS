{
 "cells": [
  {
   "cell_type": "markdown",
   "id": "482a75a6-d642-40e8-85d4-f86e51505513",
   "metadata": {
    "tags": []
   },
   "source": [
    "# Trabalhando com arrays Numpy"
   ]
  },
  {
   "cell_type": "markdown",
   "id": "93d0f300-7e86-41d5-9cf7-770e29d002de",
   "metadata": {
    "jp-MarkdownHeadingCollapsed": true,
    "tags": []
   },
   "source": [
    "## 01. Ambiente do cientista de dados"
   ]
  },
  {
   "cell_type": "code",
   "execution_count": 5,
   "id": "2f41e974-8310-452b-9af4-ed467e414638",
   "metadata": {},
   "outputs": [],
   "source": [
    "import numpy as np"
   ]
  },
  {
   "cell_type": "code",
   "execution_count": 8,
   "id": "f8a83cd4-91fc-4f67-a76d-33482aa724ab",
   "metadata": {},
   "outputs": [],
   "source": [
    "km = np.loadtxt('data\\carros-km.txt')"
   ]
  },
  {
   "cell_type": "code",
   "execution_count": 12,
   "id": "bfbbf012-4d1e-404e-a17f-f8b2a53bbf28",
   "metadata": {},
   "outputs": [],
   "source": [
    "anos = np.loadtxt('data\\carros-anos.txt', dtype =int)"
   ]
  },
  {
   "cell_type": "markdown",
   "id": "9785e07c-1cba-4fc8-906c-e6b57c1d0570",
   "metadata": {
    "jp-MarkdownHeadingCollapsed": true,
    "tags": []
   },
   "source": [
    "### Quilometragem média por ano "
   ]
  },
  {
   "cell_type": "code",
   "execution_count": 14,
   "id": "3f4e353d-cd9d-447c-b86d-44a62be356d8",
   "metadata": {},
   "outputs": [],
   "source": [
    "km_media = km / (2022 - anos)"
   ]
  },
  {
   "cell_type": "code",
   "execution_count": 18,
   "id": "acd77303-2a38-4509-84bc-58d6f8c7c064",
   "metadata": {},
   "outputs": [
    {
     "data": {
      "text/plain": [
       "array([2.33736842e+03, 1.84258065e+02, 1.16009375e+03, 0.00000000e+00,\n",
       "       1.60981250e+03, 1.07280000e+03, 0.00000000e+00, 5.96915385e+03,\n",
       "       8.26641667e+03, 3.45254545e+03, 6.42950000e+02, 5.36800000e+02,\n",
       "       4.27490476e+03, 0.00000000e+00, 3.18900000e+03, 1.92678333e+04,\n",
       "       4.64490000e+03, 0.00000000e+00, 6.18100000e+03, 3.03460000e+03,\n",
       "       5.05965000e+03, 0.00000000e+00, 3.50282143e+03, 3.32125806e+03,\n",
       "       0.00000000e+00, 0.00000000e+00, 9.65833333e+02, 0.00000000e+00,\n",
       "       2.94240000e+03, 3.04454839e+03, 1.20652000e+03, 1.97525926e+03,\n",
       "       4.43000000e+03, 1.09058065e+03, 1.13355000e+04, 1.62870370e+03,\n",
       "       0.00000000e+00, 0.00000000e+00, 4.25076923e+02, 0.00000000e+00,\n",
       "       1.03794444e+04, 2.14536842e+03, 0.00000000e+00, 4.31510000e+03,\n",
       "       0.00000000e+00, 4.87750000e+02, 3.88583333e+03, 1.14047619e+02,\n",
       "       0.00000000e+00, 4.22889474e+03, 6.58107692e+03, 3.15600000e+03,\n",
       "       3.07800000e+03, 5.87168750e+03, 2.94541667e+03, 2.89310714e+03,\n",
       "       7.96753333e+03, 0.00000000e+00, 0.00000000e+00, 0.00000000e+00,\n",
       "       0.00000000e+00, 0.00000000e+00, 2.37790000e+04, 4.40990909e+03,\n",
       "       4.80533333e+03, 3.67880769e+03, 0.00000000e+00, 3.23196429e+03,\n",
       "       0.00000000e+00, 1.94213333e+03, 8.50071429e+02, 5.66613333e+03,\n",
       "       2.17580000e+03, 1.67068750e+03, 4.92544444e+03, 4.22271429e+03,\n",
       "       8.12914286e+03, 4.35714286e+01, 0.00000000e+00, 0.00000000e+00,\n",
       "       5.60304348e+02, 5.30713333e+03, 3.13531034e+03, 1.58270370e+03,\n",
       "       0.00000000e+00, 0.00000000e+00, 1.96190000e+04, 1.03531818e+04,\n",
       "       0.00000000e+00, 1.52555000e+03, 8.31855556e+03, 2.39520000e+04,\n",
       "       1.39266667e+03, 4.58907143e+03, 2.21652500e+04, 2.38894737e+02,\n",
       "       5.79557895e+03, 1.84527778e+03, 7.66675000e+03, 0.00000000e+00,\n",
       "       5.10675000e+03, 3.36385714e+03, 0.00000000e+00, 1.30395714e+04,\n",
       "       6.63600000e+03, 1.05192000e+04, 1.58343333e+03, 4.24076190e+03,\n",
       "       9.94275862e+02, 4.09496296e+03, 2.98094737e+03, 2.16962500e+03,\n",
       "       5.28678571e+03, 1.68844444e+03, 0.00000000e+00, 2.16420000e+03,\n",
       "       0.00000000e+00, 0.00000000e+00, 5.99687500e+02, 1.41502857e+04,\n",
       "       3.49260000e+03, 7.05558824e+03, 1.92010000e+04, 1.31829167e+03,\n",
       "       0.00000000e+00, 3.48639130e+03, 0.00000000e+00, 4.47784615e+03,\n",
       "       3.24589474e+03, 1.14346429e+03, 0.00000000e+00, 2.03371429e+03,\n",
       "       0.00000000e+00, 1.23598571e+04, 1.85423077e+02, 4.04100000e+03,\n",
       "       1.05879310e+03, 0.00000000e+00, 1.08516667e+03, 3.82922222e+03,\n",
       "       0.00000000e+00, 1.72778125e+03, 0.00000000e+00, 0.00000000e+00,\n",
       "       3.73967742e+03, 2.07615625e+03, 9.68000000e+03, 9.49133333e+02,\n",
       "       2.21066667e+03, 5.13840909e+03, 5.74710000e+03, 1.22038462e+02,\n",
       "       3.21580769e+03, 3.62228571e+03, 3.05634483e+03, 2.57111111e+02,\n",
       "       2.91888889e+02, 4.00261538e+03, 0.00000000e+00, 0.00000000e+00,\n",
       "       3.97885000e+03, 4.32804000e+03, 3.18554167e+03, 3.20461111e+03,\n",
       "       3.71576923e+03, 1.55715714e+04, 4.36866667e+03, 2.70417647e+03,\n",
       "       2.13834783e+03, 1.84840741e+03, 1.33172414e+03, 3.38866667e+03,\n",
       "       8.21266667e+03, 4.47466667e+03, 2.28650000e+03, 0.00000000e+00,\n",
       "       4.48100000e+03, 0.00000000e+00, 3.65465625e+03, 1.57507692e+03,\n",
       "       1.65012500e+03, 5.53062500e+02, 4.58620000e+03, 1.03406452e+03,\n",
       "       2.49620000e+03, 0.00000000e+00, 0.00000000e+00, 3.06994118e+03,\n",
       "       6.96325000e+03, 0.00000000e+00, 3.38800000e+03, 0.00000000e+00,\n",
       "       6.29808333e+03, 1.20210714e+03, 4.96861905e+03, 3.18875000e+03,\n",
       "       7.29423077e+02, 3.00555172e+03, 2.29379310e+02, 2.65419048e+03,\n",
       "       0.00000000e+00, 0.00000000e+00, 0.00000000e+00, 4.28800000e+03,\n",
       "       0.00000000e+00, 1.14463333e+04, 8.96212500e+03, 0.00000000e+00,\n",
       "       4.96900000e+03, 4.82457143e+03, 3.27411538e+03, 6.80300000e+02,\n",
       "       2.09688235e+03, 3.52325926e+03, 6.10695652e+02, 2.42317647e+03,\n",
       "       0.00000000e+00, 3.84400000e+03, 3.24687500e+03, 2.08638095e+03,\n",
       "       2.73755556e+03, 0.00000000e+00, 2.21932000e+04, 1.45336364e+03,\n",
       "       3.13935294e+03, 6.71800000e+02, 2.46703448e+03, 3.45161290e+00,\n",
       "       2.70774194e+02, 1.65992000e+03, 5.27281818e+03, 6.72386667e+03,\n",
       "       4.21718750e+03, 1.21385714e+03, 3.15714286e+02, 0.00000000e+00,\n",
       "       2.25142308e+03, 0.00000000e+00, 0.00000000e+00, 1.40020000e+04,\n",
       "       5.10222222e+03, 8.05621429e+03, 0.00000000e+00, 0.00000000e+00,\n",
       "       9.29300000e+02, 0.00000000e+00, 2.11857692e+03, 4.43600000e+03,\n",
       "       0.00000000e+00, 7.47375000e+03, 5.69226667e+03, 3.50385714e+03,\n",
       "       4.75200000e+03, 3.43812500e+03, 9.67129032e+02, 2.63185000e+03,\n",
       "       2.95576923e+02, 1.67293333e+03])"
      ]
     },
     "execution_count": 18,
     "metadata": {},
     "output_type": "execute_result"
    }
   ],
   "source": [
    "km_media"
   ]
  },
  {
   "cell_type": "code",
   "execution_count": 16,
   "id": "037e2bf0-5e0c-44df-93af-6309331c4701",
   "metadata": {},
   "outputs": [
    {
     "data": {
      "text/plain": [
       "numpy.ndarray"
      ]
     },
     "execution_count": 16,
     "metadata": {},
     "output_type": "execute_result"
    }
   ],
   "source": [
    "type(km_media)"
   ]
  },
  {
   "cell_type": "markdown",
   "id": "ec325cca-59b3-47d4-8813-216281b09ca6",
   "metadata": {
    "jp-MarkdownHeadingCollapsed": true,
    "tags": []
   },
   "source": [
    "## 02. Características do Python"
   ]
  },
  {
   "cell_type": "markdown",
   "id": "66081b03-7c50-4cd6-b488-d9cde1279e26",
   "metadata": {
    "jp-MarkdownHeadingCollapsed": true,
    "tags": []
   },
   "source": [
    "### Operações matemáticas"
   ]
  },
  {
   "cell_type": "markdown",
   "id": "97abb5e6-0c84-491b-9c54-08bd0a178b3f",
   "metadata": {},
   "source": [
    "#### Adição"
   ]
  },
  {
   "cell_type": "code",
   "execution_count": 1,
   "id": "967f7c71-f73a-4049-b3c6-c81e237495fe",
   "metadata": {},
   "outputs": [
    {
     "data": {
      "text/plain": [
       "4"
      ]
     },
     "execution_count": 1,
     "metadata": {},
     "output_type": "execute_result"
    }
   ],
   "source": [
    "2 +2 "
   ]
  },
  {
   "cell_type": "markdown",
   "id": "8a4e89d6-a18d-4e6b-a5ce-fc38646e8577",
   "metadata": {},
   "source": [
    "#### Subtração"
   ]
  },
  {
   "cell_type": "code",
   "execution_count": 2,
   "id": "87dfc3bb-3229-4caa-b3f9-8e4eb5df20a9",
   "metadata": {},
   "outputs": [
    {
     "data": {
      "text/plain": [
       "0"
      ]
     },
     "execution_count": 2,
     "metadata": {},
     "output_type": "execute_result"
    }
   ],
   "source": [
    "1-1"
   ]
  },
  {
   "cell_type": "markdown",
   "id": "7d375edd-83da-43d5-8193-6e20aa86f85f",
   "metadata": {},
   "source": [
    "#### Multiplicação"
   ]
  },
  {
   "cell_type": "code",
   "execution_count": 4,
   "id": "dd94d943-204e-4e91-9ba9-f011bc56354b",
   "metadata": {},
   "outputs": [
    {
     "data": {
      "text/plain": [
       "200"
      ]
     },
     "execution_count": 4,
     "metadata": {},
     "output_type": "execute_result"
    }
   ],
   "source": [
    "2 * 100"
   ]
  },
  {
   "cell_type": "markdown",
   "id": "dd4e8b5e-a2e7-443e-92b3-5205b92c511d",
   "metadata": {},
   "source": [
    "#### Divisão"
   ]
  },
  {
   "cell_type": "code",
   "execution_count": 5,
   "id": "c6a7e108-9eff-4d5a-b2ed-49b0516f93dd",
   "metadata": {},
   "outputs": [
    {
     "data": {
      "text/plain": [
       "3.3333333333333335"
      ]
     },
     "execution_count": 5,
     "metadata": {},
     "output_type": "execute_result"
    }
   ],
   "source": [
    "10/3"
   ]
  },
  {
   "cell_type": "code",
   "execution_count": 6,
   "id": "d03d9065-6c6a-4eb0-ac0c-c1c0f566adac",
   "metadata": {},
   "outputs": [
    {
     "data": {
      "text/plain": [
       "3"
      ]
     },
     "execution_count": 6,
     "metadata": {},
     "output_type": "execute_result"
    }
   ],
   "source": [
    "10 // 3 #somente a parte inteira"
   ]
  },
  {
   "cell_type": "markdown",
   "id": "9462d190-ea13-4e92-8ca9-1c6cf9f8a427",
   "metadata": {},
   "source": [
    "#### Exponenciação  (elevado a)"
   ]
  },
  {
   "cell_type": "code",
   "execution_count": 7,
   "id": "4b6bd467-2aec-43d5-bf54-0c4e8d3e29c1",
   "metadata": {},
   "outputs": [
    {
     "data": {
      "text/plain": [
       "8"
      ]
     },
     "execution_count": 7,
     "metadata": {},
     "output_type": "execute_result"
    }
   ],
   "source": [
    "2 **3"
   ]
  },
  {
   "cell_type": "markdown",
   "id": "8ba2256c-74c7-40fb-a1d7-9a55215aad59",
   "metadata": {},
   "source": [
    "#### Resto da divisão"
   ]
  },
  {
   "cell_type": "code",
   "execution_count": 8,
   "id": "63b2a3bf-55f2-4be6-b8fc-9513d7c5ef35",
   "metadata": {},
   "outputs": [
    {
     "data": {
      "text/plain": [
       "1"
      ]
     },
     "execution_count": 8,
     "metadata": {},
     "output_type": "execute_result"
    }
   ],
   "source": [
    "10 % 3"
   ]
  },
  {
   "cell_type": "code",
   "execution_count": 9,
   "id": "20cde0bc-7d57-47ca-8b84-35bd1ef20d2e",
   "metadata": {},
   "outputs": [
    {
     "data": {
      "text/plain": [
       "0"
      ]
     },
     "execution_count": 9,
     "metadata": {},
     "output_type": "execute_result"
    }
   ],
   "source": [
    "10 % 2"
   ]
  },
  {
   "cell_type": "markdown",
   "id": "a3f2dc11-2079-459d-88b7-53c94252bb68",
   "metadata": {},
   "source": [
    "#### Expressões Matemáticas "
   ]
  },
  {
   "cell_type": "code",
   "execution_count": 10,
   "id": "f3aadc9f-61e8-422c-9953-cd50dab0de19",
   "metadata": {},
   "outputs": [
    {
     "data": {
      "text/plain": [
       "16"
      ]
     },
     "execution_count": 10,
     "metadata": {},
     "output_type": "execute_result"
    }
   ],
   "source": [
    "5 * 2 + 3 * 2"
   ]
  },
  {
   "cell_type": "markdown",
   "id": "04c07bc3-83a6-4437-b09b-08d6670e5fa5",
   "metadata": {},
   "source": [
    "#### Variável"
   ]
  },
  {
   "cell_type": "code",
   "execution_count": 11,
   "id": "011f4931-63d9-48f9-ad72-3ac5cc2a2179",
   "metadata": {},
   "outputs": [
    {
     "data": {
      "text/plain": [
       "16"
      ]
     },
     "execution_count": 11,
     "metadata": {},
     "output_type": "execute_result"
    }
   ],
   "source": [
    "_ # é o último resultado  na memória temporária"
   ]
  },
  {
   "cell_type": "code",
   "execution_count": 12,
   "id": "0ba65455-b2f2-4600-87c0-7b872dfebfb6",
   "metadata": {},
   "outputs": [
    {
     "data": {
      "text/plain": [
       "20"
      ]
     },
     "execution_count": 12,
     "metadata": {},
     "output_type": "execute_result"
    }
   ],
   "source": [
    "_ + 4 "
   ]
  },
  {
   "cell_type": "markdown",
   "id": "4bcf0f1c-1128-4cbc-bfe1-02a8d1e4ae6e",
   "metadata": {
    "tags": []
   },
   "source": [
    "### Entendendo variáveis"
   ]
  },
  {
   "cell_type": "markdown",
   "id": "2f409cc6-b24d-4170-8bb1-be6635bc35df",
   "metadata": {
    "jp-MarkdownHeadingCollapsed": true,
    "tags": []
   },
   "source": [
    "#### Declaração de variáveis"
   ]
  },
  {
   "cell_type": "code",
   "execution_count": 15,
   "id": "6c3144e5-70ed-4953-8c1c-0041c8d5e8d1",
   "metadata": {},
   "outputs": [],
   "source": [
    "ano_atual = 2022\n",
    "ano_fabricacao = 2003\n",
    "km_total = 44410.0"
   ]
  },
  {
   "cell_type": "markdown",
   "id": "e2935e32-b8eb-4ffc-9361-ebe44b863c89",
   "metadata": {
    "jp-MarkdownHeadingCollapsed": true,
    "tags": []
   },
   "source": [
    "#### Operações com variáveis"
   ]
  },
  {
   "cell_type": "code",
   "execution_count": 18,
   "id": "53d3597c-4f46-4c38-8168-e2383e34a9b7",
   "metadata": {},
   "outputs": [
    {
     "data": {
      "text/plain": [
       "2337.3684210526317"
      ]
     },
     "execution_count": 18,
     "metadata": {},
     "output_type": "execute_result"
    }
   ],
   "source": [
    "km_media = km_total / (ano_atual - ano_fabricacao)\n",
    "km_media"
   ]
  },
  {
   "cell_type": "code",
   "execution_count": 30,
   "id": "2cdebcb7-05b8-4eca-9cfd-965b5a489306",
   "metadata": {},
   "outputs": [
    {
     "data": {
      "text/plain": [
       "2337.3684210526317"
      ]
     },
     "execution_count": 30,
     "metadata": {},
     "output_type": "execute_result"
    }
   ],
   "source": [
    "ano_atual = 2022\n",
    "ano_fabricacao = 2003\n",
    "km_total = 44410.0\n",
    "km_media = km_total / (ano_atual - ano_fabricacao)\n",
    "km_media"
   ]
  },
  {
   "cell_type": "code",
   "execution_count": 31,
   "id": "b5571d91-8cf3-4008-9758-0bf99bcbc235",
   "metadata": {},
   "outputs": [
    {
     "data": {
      "text/plain": [
       "46747.36842105263"
      ]
     },
     "execution_count": 31,
     "metadata": {},
     "output_type": "execute_result"
    }
   ],
   "source": [
    "km_total += km_media\n",
    "km_total"
   ]
  },
  {
   "cell_type": "code",
   "execution_count": 32,
   "id": "89e8d127-8bb4-4d77-9efb-6cf584a4b7d2",
   "metadata": {},
   "outputs": [
    {
     "data": {
      "text/plain": [
       "2337.3684210526317"
      ]
     },
     "execution_count": 32,
     "metadata": {},
     "output_type": "execute_result"
    }
   ],
   "source": [
    "ano_atual = 2022\n",
    "ano_fabricacao = 2003\n",
    "km_total = 44410.0\n",
    "km_media = km_total / (ano_atual - ano_fabricacao)\n",
    "km_media"
   ]
  },
  {
   "cell_type": "code",
   "execution_count": 33,
   "id": "c09cb530-d904-49ac-8541-02c4525674c8",
   "metadata": {},
   "outputs": [
    {
     "data": {
      "text/plain": [
       "46747.36842105263"
      ]
     },
     "execution_count": 33,
     "metadata": {},
     "output_type": "execute_result"
    }
   ],
   "source": [
    "km_total = km_total  + km_media\n",
    "km_total"
   ]
  },
  {
   "cell_type": "markdown",
   "id": "2e6aac98-36e7-4900-a272-1825099e7de4",
   "metadata": {
    "jp-MarkdownHeadingCollapsed": true,
    "tags": []
   },
   "source": [
    "#### Declaração Múltipla"
   ]
  },
  {
   "cell_type": "code",
   "execution_count": 35,
   "id": "16ff17b5-adcc-4581-be7e-b998d675cd3a",
   "metadata": {},
   "outputs": [
    {
     "data": {
      "text/plain": [
       "2337.3684210526317"
      ]
     },
     "execution_count": 35,
     "metadata": {},
     "output_type": "execute_result"
    }
   ],
   "source": [
    "ano_atual, ano_fabricacao, km_total = 2022, 2003, 44410.0\n",
    "km_media = km_total / (ano_atual - ano_fabricacao)\n",
    "km_media"
   ]
  },
  {
   "cell_type": "markdown",
   "id": "2e018feb-c4f4-4754-a5db-079dddd52c7a",
   "metadata": {
    "jp-MarkdownHeadingCollapsed": true,
    "tags": []
   },
   "source": [
    "### Tipos de dados"
   ]
  },
  {
   "cell_type": "markdown",
   "id": "b4f2cdbc-baab-44d8-a732-4bcfbc24b83e",
   "metadata": {
    "jp-MarkdownHeadingCollapsed": true,
    "tags": []
   },
   "source": [
    "#### Número"
   ]
  },
  {
   "cell_type": "code",
   "execution_count": 36,
   "id": "e9224c75-6ed1-4cf3-bc5b-d256da752341",
   "metadata": {},
   "outputs": [],
   "source": [
    "ano_atual = 2022"
   ]
  },
  {
   "cell_type": "code",
   "execution_count": 37,
   "id": "9335195e-2ed9-41f4-9069-fe48be0a01ba",
   "metadata": {},
   "outputs": [
    {
     "data": {
      "text/plain": [
       "int"
      ]
     },
     "execution_count": 37,
     "metadata": {},
     "output_type": "execute_result"
    }
   ],
   "source": [
    "type(ano_atual)"
   ]
  },
  {
   "cell_type": "code",
   "execution_count": 38,
   "id": "339400a9-1600-4e55-9578-b2129deb2cf9",
   "metadata": {},
   "outputs": [],
   "source": [
    "km_total = 44010.0"
   ]
  },
  {
   "cell_type": "code",
   "execution_count": 39,
   "id": "fc9c646c-22ff-4744-a1af-3543c24f8f0a",
   "metadata": {},
   "outputs": [
    {
     "data": {
      "text/plain": [
       "float"
      ]
     },
     "execution_count": 39,
     "metadata": {},
     "output_type": "execute_result"
    }
   ],
   "source": [
    "type(km_total)"
   ]
  },
  {
   "cell_type": "markdown",
   "id": "46e8d78e-c9f7-490e-91fe-29ab3043167d",
   "metadata": {
    "jp-MarkdownHeadingCollapsed": true,
    "tags": []
   },
   "source": [
    "#### Boolean"
   ]
  },
  {
   "cell_type": "code",
   "execution_count": 40,
   "id": "eae33a61-1d57-4e35-938d-6b6bf67ada77",
   "metadata": {},
   "outputs": [],
   "source": [
    "zero_km = True "
   ]
  },
  {
   "cell_type": "code",
   "execution_count": 41,
   "id": "ff577ec7-bee2-4902-878f-b84b140d2510",
   "metadata": {},
   "outputs": [
    {
     "data": {
      "text/plain": [
       "bool"
      ]
     },
     "execution_count": 41,
     "metadata": {},
     "output_type": "execute_result"
    }
   ],
   "source": [
    "type(zero_km)"
   ]
  },
  {
   "cell_type": "markdown",
   "id": "54edc029-b991-4b9a-8eae-91158acfafaf",
   "metadata": {
    "jp-MarkdownHeadingCollapsed": true,
    "tags": []
   },
   "source": [
    "#### Strings"
   ]
  },
  {
   "cell_type": "code",
   "execution_count": 43,
   "id": "e0d9b85a-c677-4c3b-97b9-687eeef536cc",
   "metadata": {},
   "outputs": [
    {
     "data": {
      "text/plain": [
       "'A5'"
      ]
     },
     "execution_count": 43,
     "metadata": {},
     "output_type": "execute_result"
    }
   ],
   "source": [
    "nome = 'A5'\n",
    "nome "
   ]
  },
  {
   "cell_type": "markdown",
   "id": "f91c31d8-cc84-4b05-be76-093fbe299755",
   "metadata": {},
   "source": [
    "##### Como trabalhar com citação"
   ]
  },
  {
   "cell_type": "code",
   "execution_count": 44,
   "id": "03cd54a1-5cb4-4c42-9ed5-a76fcf6d0e7e",
   "metadata": {},
   "outputs": [
    {
     "data": {
      "text/plain": [
       "\"Jetta 'Variant\""
      ]
     },
     "execution_count": 44,
     "metadata": {},
     "output_type": "execute_result"
    }
   ],
   "source": [
    "nome = \"Jetta 'Variant\" \n",
    "nome"
   ]
  },
  {
   "cell_type": "markdown",
   "id": "fcf070a4-2f31-42fd-8c00-8c3532c53624",
   "metadata": {},
   "source": [
    "##### String com mais de uma linha"
   ]
  },
  {
   "cell_type": "code",
   "execution_count": 46,
   "id": "dde33d17-f0ce-45b6-bea0-94e0ee83823e",
   "metadata": {},
   "outputs": [
    {
     "data": {
      "text/plain": [
       "'\\n Nome\\n Idade\\n Nota\\n'"
      ]
     },
     "execution_count": 46,
     "metadata": {},
     "output_type": "execute_result"
    }
   ],
   "source": [
    "carro = '''\n",
    " Nome\n",
    " Idade\n",
    " Nota\n",
    "'''\n",
    "carro"
   ]
  },
  {
   "cell_type": "code",
   "execution_count": 47,
   "id": "be79eab1-c27e-4127-b602-daa3480626bc",
   "metadata": {},
   "outputs": [
    {
     "data": {
      "text/plain": [
       "str"
      ]
     },
     "execution_count": 47,
     "metadata": {},
     "output_type": "execute_result"
    }
   ],
   "source": [
    "type(carro)"
   ]
  },
  {
   "cell_type": "markdown",
   "id": "891880da-ddb2-4c43-96e0-03225e20327d",
   "metadata": {
    "jp-MarkdownHeadingCollapsed": true,
    "tags": []
   },
   "source": [
    "#### None"
   ]
  },
  {
   "cell_type": "code",
   "execution_count": 50,
   "id": "f1f51e30-2876-4a85-992a-9b89fab6e644",
   "metadata": {},
   "outputs": [],
   "source": [
    "km = None"
   ]
  },
  {
   "cell_type": "code",
   "execution_count": 53,
   "id": "55359dc4-e673-45c7-90c3-92710faf5a0b",
   "metadata": {},
   "outputs": [
    {
     "data": {
      "text/plain": [
       "NoneType"
      ]
     },
     "execution_count": 53,
     "metadata": {},
     "output_type": "execute_result"
    }
   ],
   "source": [
    "type(km)"
   ]
  },
  {
   "cell_type": "markdown",
   "id": "f11eea23-6284-4e2d-9e6d-b104f8a7970e",
   "metadata": {
    "jp-MarkdownHeadingCollapsed": true,
    "tags": []
   },
   "source": [
    "### Conversão de tipos"
   ]
  },
  {
   "cell_type": "code",
   "execution_count": 57,
   "id": "650d93a4-9219-497d-8a31-1c68f325ace8",
   "metadata": {},
   "outputs": [],
   "source": [
    "a = 10\n",
    "b = 20\n",
    "c = 'Python é'\n",
    "d = 'legal'"
   ]
  },
  {
   "cell_type": "code",
   "execution_count": 59,
   "id": "1f7757c5-67fb-405e-8e3a-139b73396744",
   "metadata": {},
   "outputs": [
    {
     "data": {
      "text/plain": [
       "'Python é legal'"
      ]
     },
     "execution_count": 67,
     "metadata": {},
     "output_type": "execute_result"
    }
   ],
   "source": [
    "c + d #concatena"
   ]
  },
  {
   "cell_type": "markdown",
   "id": "7749c1d6-1f6e-4e74-ba36-6a9307670db8",
   "metadata": {},
   "source": [
    "#### Convertendo para str"
   ]
  },
  {
   "cell_type": "code",
   "execution_count": 70,
   "id": "6f881747-0e0e-4ba8-b605-b4ea4830aa55",
   "metadata": {},
   "outputs": [
    {
     "data": {
      "text/plain": [
       "'10'"
      ]
     },
     "execution_count": 70,
     "metadata": {},
     "output_type": "execute_result"
    }
   ],
   "source": [
    "str(a)"
   ]
  },
  {
   "cell_type": "code",
   "execution_count": 71,
   "id": "4d330cc6-7548-408f-bbb7-75e896415307",
   "metadata": {},
   "outputs": [
    {
     "data": {
      "text/plain": [
       "'Python é 10'"
      ]
     },
     "execution_count": 71,
     "metadata": {},
     "output_type": "execute_result"
    }
   ],
   "source": [
    "c + str(a)"
   ]
  },
  {
   "cell_type": "markdown",
   "id": "27d1878a-9c31-48ea-b530-78a3656bb299",
   "metadata": {},
   "source": [
    "#### Convertendo para float"
   ]
  },
  {
   "cell_type": "code",
   "execution_count": 72,
   "id": "bb1fce21-f050-47f4-acc9-d773ba948401",
   "metadata": {},
   "outputs": [
    {
     "data": {
      "text/plain": [
       "10.0"
      ]
     },
     "execution_count": 72,
     "metadata": {},
     "output_type": "execute_result"
    }
   ],
   "source": [
    "float(a)"
   ]
  },
  {
   "cell_type": "markdown",
   "id": "79f94d99-bfbc-4231-ad3c-6cae3f739fe7",
   "metadata": {
    "tags": []
   },
   "source": [
    "#### Convertendo para inteiro"
   ]
  },
  {
   "cell_type": "code",
   "execution_count": 74,
   "id": "a6448f6a-81fd-413e-b4be-393c7fe64ddf",
   "metadata": {},
   "outputs": [],
   "source": [
    "var = 3.141592"
   ]
  },
  {
   "cell_type": "code",
   "execution_count": 75,
   "id": "516260a4-b16d-404b-a9cd-453945e102b7",
   "metadata": {},
   "outputs": [
    {
     "data": {
      "text/plain": [
       "3"
      ]
     },
     "execution_count": 75,
     "metadata": {},
     "output_type": "execute_result"
    }
   ],
   "source": [
    "int(var)"
   ]
  },
  {
   "cell_type": "markdown",
   "id": "a79bda1a-4f14-4dbb-b17f-da181e5d09c2",
   "metadata": {},
   "source": [
    "##### Isso não é um arredondamento~!"
   ]
  },
  {
   "cell_type": "markdown",
   "id": "522e319b-d477-46b9-afb7-d9e8bc9e81aa",
   "metadata": {
    "jp-MarkdownHeadingCollapsed": true,
    "tags": []
   },
   "source": [
    "### Formatação de strings"
   ]
  },
  {
   "cell_type": "code",
   "execution_count": 77,
   "id": "cc9df162-9476-49e9-bc93-2e72c6d28734",
   "metadata": {},
   "outputs": [
    {
     "name": "stdout",
     "output_type": "stream",
     "text": [
      "Olá, Rodrigo!\n"
     ]
    }
   ],
   "source": [
    "print('Olá, {}!'.format('Rodrigo'))"
   ]
  },
  {
   "cell_type": "code",
   "execution_count": 78,
   "id": "06a5c166-4447-4ca3-9736-4c9693152669",
   "metadata": {},
   "outputs": [
    {
     "name": "stdout",
     "output_type": "stream",
     "text": [
      "Olá, Rodrigo!\n"
     ]
    }
   ],
   "source": [
    "nome = 'Rodrigo'\n",
    "acessos = 32\n",
    "print(f'Olá, {nome}!')"
   ]
  },
  {
   "cell_type": "markdown",
   "id": "69b8690e-a1e7-4478-8f40-657a0213e5bf",
   "metadata": {
    "tags": []
   },
   "source": [
    "## 03. Trabalhando com listas"
   ]
  },
  {
   "cell_type": "markdown",
   "id": "aecc55fe-3c19-4bf9-a65e-b470ea6ce122",
   "metadata": {
    "jp-MarkdownHeadingCollapsed": true,
    "tags": []
   },
   "source": [
    "### Criando Listas"
   ]
  },
  {
   "cell_type": "markdown",
   "id": "738a2e2e-7618-4186-8e6d-16aef9e0f005",
   "metadata": {},
   "source": [
    "Listas são sequências mutáveis que são utilizadas para armazenar coleções de itens, geralmente homogêneos. Podem ser construídas de várias formas:\n",
    "\n",
    "     - Utilizando um par de colchetes: [ ], [ 1 ]\n",
    "     - Utilizando um par de colchetes com itens separados por vírgulas: [ 1, 2, 3 ]"
   ]
  },
  {
   "cell_type": "code",
   "execution_count": 79,
   "id": "8500af34-5c12-4556-81bd-9405a3696a8a",
   "metadata": {},
   "outputs": [
    {
     "data": {
      "text/plain": [
       "['Rodas de liga',\n",
       " 'Travas elétricas',\n",
       " 'Piloto automático',\n",
       " 'Bancos de couro',\n",
       " 'Ar condicionado',\n",
       " 'Sensor de estacionamento',\n",
       " 'Sensor crepuscular',\n",
       " 'Sensor de chuva']"
      ]
     },
     "execution_count": 79,
     "metadata": {},
     "output_type": "execute_result"
    }
   ],
   "source": [
    "Acessorios = ['Rodas de liga', 'Travas elétricas', 'Piloto automático', 'Bancos de couro', 'Ar condicionado', 'Sensor de estacionamento', 'Sensor crepuscular', 'Sensor de chuva']\n",
    "Acessorios"
   ]
  },
  {
   "cell_type": "code",
   "execution_count": 80,
   "id": "262913ea-98eb-46fd-85b3-f9c638f3bda9",
   "metadata": {},
   "outputs": [
    {
     "data": {
      "text/plain": [
       "list"
      ]
     },
     "execution_count": 80,
     "metadata": {},
     "output_type": "execute_result"
    }
   ],
   "source": [
    "type(Acessorios)"
   ]
  },
  {
   "cell_type": "markdown",
   "id": "2a0c03b9-3dd3-4aa2-9838-a3f479e0aa58",
   "metadata": {
    "tags": []
   },
   "source": [
    "#### Lista com tipos de dados variados"
   ]
  },
  {
   "cell_type": "code",
   "execution_count": 81,
   "id": "bc90ba6a-ff59-4239-98ea-938bc60fdfee",
   "metadata": {},
   "outputs": [],
   "source": [
    "Carro_1 = ['Jetta Variant', 'Motor 4.0 Turbo', 2003, 44410.0, False, ['Rodas de liga', 'Travas elétricas', 'Piloto automático'], 88078.64]\n",
    "Carro_2 = ['Passat', 'Motor Diesel', 1991, 5712.0, False, ['Central multimídia', 'Teto panorâmico', 'Freios ABS'], 106161.94]"
   ]
  },
  {
   "cell_type": "code",
   "execution_count": 83,
   "id": "f9472a05-5e5c-4bff-af7b-284cb30bb260",
   "metadata": {},
   "outputs": [
    {
     "data": {
      "text/plain": [
       "['Passat',\n",
       " 'Motor Diesel',\n",
       " 1991,\n",
       " 5712.0,\n",
       " False,\n",
       " ['Central multimídia', 'Teto panorâmico', 'Freios ABS'],\n",
       " 106161.94]"
      ]
     },
     "execution_count": 83,
     "metadata": {},
     "output_type": "execute_result"
    }
   ],
   "source": [
    "Carro_2"
   ]
  },
  {
   "cell_type": "code",
   "execution_count": 84,
   "id": "a4ed3f89-80d5-402c-b1c2-065d3dddc53a",
   "metadata": {},
   "outputs": [],
   "source": [
    "Carros = [Carro_1,Carro_2]"
   ]
  },
  {
   "cell_type": "code",
   "execution_count": 85,
   "id": "4721764d-091e-4406-9319-4193b0ca4ec5",
   "metadata": {},
   "outputs": [
    {
     "data": {
      "text/plain": [
       "[['Jetta Variant',\n",
       "  'Motor 4.0 Turbo',\n",
       "  2003,\n",
       "  44410.0,\n",
       "  False,\n",
       "  ['Rodas de liga', 'Travas elétricas', 'Piloto automático'],\n",
       "  88078.64],\n",
       " ['Passat',\n",
       "  'Motor Diesel',\n",
       "  1991,\n",
       "  5712.0,\n",
       "  False,\n",
       "  ['Central multimídia', 'Teto panorâmico', 'Freios ABS'],\n",
       "  106161.94]]"
      ]
     },
     "execution_count": 85,
     "metadata": {},
     "output_type": "execute_result"
    }
   ],
   "source": [
    "Carros"
   ]
  },
  {
   "cell_type": "markdown",
   "id": "0cc9a0a2-5c6b-484d-bcd0-1608fcd20f2d",
   "metadata": {
    "jp-MarkdownHeadingCollapsed": true,
    "tags": []
   },
   "source": [
    "### Operações com Listas"
   ]
  },
  {
   "cell_type": "markdown",
   "id": "21883660-f051-4862-a639-b3de57b4df4b",
   "metadata": {
    "jp-MarkdownHeadingCollapsed": true,
    "tags": []
   },
   "source": [
    "##### Como identificar de um item está dentro da sua lista?"
   ]
  },
  {
   "cell_type": "code",
   "execution_count": 86,
   "id": "bd9fa747-25f6-4273-85b6-d87bc22ce359",
   "metadata": {},
   "outputs": [
    {
     "data": {
      "text/plain": [
       "['Rodas de liga',\n",
       " 'Travas elétricas',\n",
       " 'Piloto automático',\n",
       " 'Bancos de couro',\n",
       " 'Ar condicionado',\n",
       " 'Sensor de estacionamento',\n",
       " 'Sensor crepuscular',\n",
       " 'Sensor de chuva']"
      ]
     },
     "execution_count": 86,
     "metadata": {},
     "output_type": "execute_result"
    }
   ],
   "source": [
    "Acessorios"
   ]
  },
  {
   "cell_type": "markdown",
   "id": "f66993ed-fa30-49f6-8db4-1d5a856c1e4c",
   "metadata": {
    "tags": []
   },
   "source": [
    "###### x in A"
   ]
  },
  {
   "cell_type": "code",
   "execution_count": 87,
   "id": "4ad9034e-85a2-4586-9693-71bcea04b2ff",
   "metadata": {},
   "outputs": [
    {
     "data": {
      "text/plain": [
       "True"
      ]
     },
     "execution_count": 87,
     "metadata": {},
     "output_type": "execute_result"
    }
   ],
   "source": [
    "'Rodas de liga' in Acessorios"
   ]
  },
  {
   "cell_type": "code",
   "execution_count": 88,
   "id": "fe10b38c-59f7-4d3e-ba22-1c69c50b24fd",
   "metadata": {},
   "outputs": [
    {
     "data": {
      "text/plain": [
       "False"
      ]
     },
     "execution_count": 88,
     "metadata": {},
     "output_type": "execute_result"
    }
   ],
   "source": [
    "'Rodas de liga' not in Acessorios"
   ]
  },
  {
   "cell_type": "markdown",
   "id": "f16eb7f2-2884-4853-809b-70ccab69cf1a",
   "metadata": {},
   "source": [
    "###### A + B "
   ]
  },
  {
   "cell_type": "code",
   "execution_count": 89,
   "id": "1850bfed-ed1f-475d-bd66-8202aa3fb9ad",
   "metadata": {},
   "outputs": [],
   "source": [
    "A =['Rodas de liga', 'Travas elétricas', 'Piloto automático', 'Bancos de couro']\n",
    "B = ['dr condicionado', 'Sensor de estacionamento', 'Sensor crepuscular', 'Sensor de chuva']\n"
   ]
  },
  {
   "cell_type": "code",
   "execution_count": 90,
   "id": "6f115acd-f378-4dd4-b28c-d5cfdeb7a612",
   "metadata": {},
   "outputs": [
    {
     "data": {
      "text/plain": [
       "['Rodas de liga',\n",
       " 'Travas elétricas',\n",
       " 'Piloto automático',\n",
       " 'Bancos de couro',\n",
       " 'dr condicionado',\n",
       " 'Sensor de estacionamento',\n",
       " 'Sensor crepuscular',\n",
       " 'Sensor de chuva']"
      ]
     },
     "execution_count": 90,
     "metadata": {},
     "output_type": "execute_result"
    }
   ],
   "source": [
    "A + B #Faz a concatenação das Listas"
   ]
  },
  {
   "cell_type": "markdown",
   "id": "fe296594-77bb-41a0-81ba-74ff516c24b6",
   "metadata": {},
   "source": [
    "###### Len()"
   ]
  },
  {
   "cell_type": "code",
   "execution_count": 95,
   "id": "c72c79a2-821d-4d16-b910-02701b2faf29",
   "metadata": {},
   "outputs": [
    {
     "data": {
      "text/plain": [
       "4"
      ]
     },
     "execution_count": 95,
     "metadata": {},
     "output_type": "execute_result"
    }
   ],
   "source": [
    "len(A)"
   ]
  },
  {
   "cell_type": "markdown",
   "id": "3557b750-ae82-464c-90c2-9417d381c4bb",
   "metadata": {
    "tags": []
   },
   "source": [
    "### Seleções com Listas"
   ]
  },
  {
   "cell_type": "markdown",
   "id": "19ac8e6c-19e1-4457-bc1e-7d86eb349535",
   "metadata": {
    "jp-MarkdownHeadingCollapsed": true,
    "tags": []
   },
   "source": [
    "#### A[i]"
   ]
  },
  {
   "cell_type": "code",
   "execution_count": 96,
   "id": "89c77058-240c-46c6-b2c9-02b6520581d2",
   "metadata": {},
   "outputs": [
    {
     "data": {
      "text/plain": [
       "['Rodas de liga',\n",
       " 'Travas elétricas',\n",
       " 'Piloto automático',\n",
       " 'Bancos de couro',\n",
       " 'Ar condicionado',\n",
       " 'Sensor de estacionamento',\n",
       " 'Sensor crepuscular',\n",
       " 'Sensor de chuva']"
      ]
     },
     "execution_count": 96,
     "metadata": {},
     "output_type": "execute_result"
    }
   ],
   "source": [
    "Acessorios"
   ]
  },
  {
   "cell_type": "code",
   "execution_count": 97,
   "id": "419c3a0f-76ba-46e4-8529-39bedbef30a2",
   "metadata": {},
   "outputs": [
    {
     "data": {
      "text/plain": [
       "'Rodas de liga'"
      ]
     },
     "execution_count": 97,
     "metadata": {},
     "output_type": "execute_result"
    }
   ],
   "source": [
    "Acessorios[0]"
   ]
  },
  {
   "cell_type": "markdown",
   "id": "acf12bb8-3525-4dd0-a6be-d8f0b2551532",
   "metadata": {
    "tags": []
   },
   "source": [
    "##### Pegar o último item da lista "
   ]
  },
  {
   "cell_type": "code",
   "execution_count": 98,
   "id": "f9b6e028-ccc9-4b70-8d7c-b5dad827915a",
   "metadata": {},
   "outputs": [
    {
     "data": {
      "text/plain": [
       "'Sensor de chuva'"
      ]
     },
     "execution_count": 98,
     "metadata": {},
     "output_type": "execute_result"
    }
   ],
   "source": [
    "Acessorios[-1]"
   ]
  },
  {
   "cell_type": "code",
   "execution_count": 100,
   "id": "77d96377-e6b4-48ea-b5eb-7e34cf6b2472",
   "metadata": {},
   "outputs": [
    {
     "data": {
      "text/plain": [
       "[['Jetta Variant',\n",
       "  'Motor 4.0 Turbo',\n",
       "  2003,\n",
       "  44410.0,\n",
       "  False,\n",
       "  ['Rodas de liga', 'Travas elétricas', 'Piloto automático'],\n",
       "  88078.64],\n",
       " ['Passat',\n",
       "  'Motor Diesel',\n",
       "  1991,\n",
       "  5712.0,\n",
       "  False,\n",
       "  ['Central multimídia', 'Teto panorâmico', 'Freios ABS'],\n",
       "  106161.94]]"
      ]
     },
     "execution_count": 100,
     "metadata": {},
     "output_type": "execute_result"
    }
   ],
   "source": [
    "Carros"
   ]
  },
  {
   "cell_type": "markdown",
   "id": "d7e37673-7c64-4705-9098-f5de54b04c6d",
   "metadata": {},
   "source": [
    "##### Acessar a lista dentro da lista"
   ]
  },
  {
   "cell_type": "code",
   "execution_count": 101,
   "id": "d6d0875c-14c3-4f21-823c-0bc0efd7b690",
   "metadata": {},
   "outputs": [
    {
     "data": {
      "text/plain": [
       "['Jetta Variant',\n",
       " 'Motor 4.0 Turbo',\n",
       " 2003,\n",
       " 44410.0,\n",
       " False,\n",
       " ['Rodas de liga', 'Travas elétricas', 'Piloto automático'],\n",
       " 88078.64]"
      ]
     },
     "execution_count": 101,
     "metadata": {},
     "output_type": "execute_result"
    }
   ],
   "source": [
    "Carros[0]"
   ]
  },
  {
   "cell_type": "code",
   "execution_count": 102,
   "id": "68d1ea6b-cdc1-455d-bb94-fd34195935ba",
   "metadata": {},
   "outputs": [
    {
     "data": {
      "text/plain": [
       "'Jetta Variant'"
      ]
     },
     "execution_count": 102,
     "metadata": {},
     "output_type": "execute_result"
    }
   ],
   "source": [
    "Carros[0][0]"
   ]
  },
  {
   "cell_type": "markdown",
   "id": "fbd87fe6-fba1-46bb-b499-331625618d9f",
   "metadata": {
    "tags": []
   },
   "source": [
    "#### A[i:j]\n",
    "Recorta a lista A do índice i até o j. Neste fațiamento o elemento com índice i é incluído e o elemento com índice j não é incluído no resultado.\n"
   ]
  },
  {
   "cell_type": "code",
   "execution_count": 106,
   "id": "0b27a9fb-1542-4c65-b3b0-abfd96829e7a",
   "metadata": {},
   "outputs": [
    {
     "data": {
      "text/plain": [
       "['Piloto automático', 'Bancos de couro', 'Ar condicionado']"
      ]
     },
     "execution_count": 106,
     "metadata": {},
     "output_type": "execute_result"
    }
   ],
   "source": [
    "Acessorios [2:5]"
   ]
  },
  {
   "cell_type": "markdown",
   "id": "36c789ff-d1c0-4b30-9da8-71a4d580db1d",
   "metadata": {},
   "source": [
    "#### Métodos de Listas"
   ]
  },
  {
   "cell_type": "markdown",
   "id": "47bdb513-4ffc-47ae-a947-09888d62fe06",
   "metadata": {
    "jp-MarkdownHeadingCollapsed": true,
    "tags": []
   },
   "source": [
    "##### A.sort()\n",
    "\n",
    "Ordena os valores"
   ]
  },
  {
   "cell_type": "code",
   "execution_count": 107,
   "id": "06f387c0-b13c-4efb-8532-e1ebd9f4cac7",
   "metadata": {},
   "outputs": [
    {
     "data": {
      "text/plain": [
       "['Rodas de liga',\n",
       " 'Travas elétricas',\n",
       " 'Piloto automático',\n",
       " 'Bancos de couro',\n",
       " 'Ar condicionado',\n",
       " 'Sensor de estacionamento',\n",
       " 'Sensor crepuscular',\n",
       " 'Sensor de chuva']"
      ]
     },
     "execution_count": 107,
     "metadata": {},
     "output_type": "execute_result"
    }
   ],
   "source": [
    "Acessorios"
   ]
  },
  {
   "cell_type": "code",
   "execution_count": 109,
   "id": "45dbab4a-5991-4bfd-a566-d16e31c96dab",
   "metadata": {},
   "outputs": [
    {
     "data": {
      "text/plain": [
       "['Ar condicionado',\n",
       " 'Bancos de couro',\n",
       " 'Piloto automático',\n",
       " 'Rodas de liga',\n",
       " 'Sensor crepuscular',\n",
       " 'Sensor de chuva',\n",
       " 'Sensor de estacionamento',\n",
       " 'Travas elétricas']"
      ]
     },
     "execution_count": 109,
     "metadata": {},
     "output_type": "execute_result"
    }
   ],
   "source": [
    "Acessorios.sort()\n",
    "Acessorios"
   ]
  },
  {
   "cell_type": "markdown",
   "id": "f8b72b90-0692-44fd-b292-fe37f7dd8181",
   "metadata": {
    "tags": []
   },
   "source": [
    "##### A.append(x)\n",
    "Adiciona o elemento x no final da lista"
   ]
  },
  {
   "cell_type": "code",
   "execution_count": 111,
   "id": "94e10ec6-a26a-453a-aec7-eac3c8a354ea",
   "metadata": {},
   "outputs": [
    {
     "data": {
      "text/plain": [
       "['Ar condicionado',\n",
       " 'Bancos de couro',\n",
       " 'Piloto automático',\n",
       " 'Rodas de liga',\n",
       " 'Sensor crepuscular',\n",
       " 'Sensor de chuva',\n",
       " 'Sensor de estacionamento',\n",
       " 'Travas elétricas',\n",
       " 'Teste']"
      ]
     },
     "execution_count": 111,
     "metadata": {},
     "output_type": "execute_result"
    }
   ],
   "source": [
    "Acessorios.append('Teste')\n",
    "Acessorios"
   ]
  },
  {
   "cell_type": "markdown",
   "id": "cb7cf15a-7318-4855-8c22-18e9908e51cd",
   "metadata": {
    "tags": []
   },
   "source": [
    "##### A.pop(i)\n",
    "Remove e retorna item no indice  "
   ]
  },
  {
   "cell_type": "code",
   "execution_count": 113,
   "id": "2ba319f1-a4cc-4094-aa20-3e71ae6f874c",
   "metadata": {},
   "outputs": [
    {
     "data": {
      "text/plain": [
       "'Teste'"
      ]
     },
     "execution_count": 113,
     "metadata": {},
     "output_type": "execute_result"
    }
   ],
   "source": [
    "Acessorios.pop()"
   ]
  },
  {
   "cell_type": "code",
   "execution_count": 114,
   "id": "659185f8-458d-4a41-86db-8fb97a8c8df1",
   "metadata": {},
   "outputs": [
    {
     "data": {
      "text/plain": [
       "['Ar condicionado',\n",
       " 'Bancos de couro',\n",
       " 'Piloto automático',\n",
       " 'Rodas de liga',\n",
       " 'Sensor crepuscular',\n",
       " 'Sensor de chuva',\n",
       " 'Sensor de estacionamento',\n",
       " 'Travas elétricas']"
      ]
     },
     "execution_count": 114,
     "metadata": {},
     "output_type": "execute_result"
    }
   ],
   "source": [
    "Acessorios"
   ]
  },
  {
   "cell_type": "code",
   "execution_count": 115,
   "id": "24d94c9f-7447-4ba6-b398-02d589abf6d0",
   "metadata": {},
   "outputs": [
    {
     "data": {
      "text/plain": [
       "'Rodas de liga'"
      ]
     },
     "execution_count": 115,
     "metadata": {},
     "output_type": "execute_result"
    }
   ],
   "source": [
    "Acessorios.pop(3)"
   ]
  },
  {
   "cell_type": "code",
   "execution_count": 116,
   "id": "e1ee402d-e2c2-49fe-91c5-87a8094c79c7",
   "metadata": {},
   "outputs": [
    {
     "data": {
      "text/plain": [
       "['Ar condicionado',\n",
       " 'Bancos de couro',\n",
       " 'Piloto automático',\n",
       " 'Sensor crepuscular',\n",
       " 'Sensor de chuva',\n",
       " 'Sensor de estacionamento',\n",
       " 'Travas elétricas']"
      ]
     },
     "execution_count": 116,
     "metadata": {},
     "output_type": "execute_result"
    }
   ],
   "source": [
    "Acessorios"
   ]
  },
  {
   "cell_type": "markdown",
   "id": "fb5bd431-f554-466a-9963-2f768a63a6bc",
   "metadata": {
    "tags": []
   },
   "source": [
    "##### A.copy ()\n",
    "Cria uma cópia de uma lsita "
   ]
  },
  {
   "cell_type": "code",
   "execution_count": 117,
   "id": "22287cbb-befd-42fa-94b4-5098c9df98fd",
   "metadata": {},
   "outputs": [],
   "source": [
    "Acessorios_2 = Acessorios"
   ]
  },
  {
   "cell_type": "code",
   "execution_count": 118,
   "id": "9eea87f4-9faf-49ca-9f74-5df7705921a4",
   "metadata": {},
   "outputs": [],
   "source": [
    "Acessorios_2.append(\n",
    "'Rodas de liga')"
   ]
  },
  {
   "cell_type": "code",
   "execution_count": 119,
   "id": "8281925d-08a2-43d8-84e8-00145978d800",
   "metadata": {},
   "outputs": [
    {
     "data": {
      "text/plain": [
       "['Ar condicionado',\n",
       " 'Bancos de couro',\n",
       " 'Piloto automático',\n",
       " 'Sensor crepuscular',\n",
       " 'Sensor de chuva',\n",
       " 'Sensor de estacionamento',\n",
       " 'Travas elétricas',\n",
       " 'Rodas de liga']"
      ]
     },
     "execution_count": 119,
     "metadata": {},
     "output_type": "execute_result"
    }
   ],
   "source": [
    "Acessorios_2"
   ]
  },
  {
   "cell_type": "code",
   "execution_count": 120,
   "id": "a1deabe6-705f-4a43-828a-9ccae5cb5aa2",
   "metadata": {},
   "outputs": [
    {
     "data": {
      "text/plain": [
       "['Ar condicionado',\n",
       " 'Bancos de couro',\n",
       " 'Piloto automático',\n",
       " 'Sensor crepuscular',\n",
       " 'Sensor de chuva',\n",
       " 'Sensor de estacionamento',\n",
       " 'Travas elétricas',\n",
       " 'Rodas de liga']"
      ]
     },
     "execution_count": 120,
     "metadata": {},
     "output_type": "execute_result"
    }
   ],
   "source": [
    "Acessorios"
   ]
  },
  {
   "cell_type": "markdown",
   "id": "beee9c7b-5f57-4b5e-9543-e5a46ce2921c",
   "metadata": {},
   "source": [
    "Quando você faz esse Acessorios_2 = Acessorios, eles ficam ligados"
   ]
  },
  {
   "cell_type": "code",
   "execution_count": 124,
   "id": "b5898f39-3d69-4778-a8dc-df03286856da",
   "metadata": {},
   "outputs": [],
   "source": [
    "\n",
    "Acessorios_3 = Acessorios.copy()"
   ]
  },
  {
   "cell_type": "code",
   "execution_count": 125,
   "id": "a08b0aca-d5ad-4097-9fdb-cfc1250facf0",
   "metadata": {},
   "outputs": [],
   "source": [
    "Acessorios_3.append('Teste')"
   ]
  },
  {
   "cell_type": "code",
   "execution_count": 126,
   "id": "318a41fb-4cec-44c2-b059-4f514c8c12a5",
   "metadata": {},
   "outputs": [
    {
     "data": {
      "text/plain": [
       "['Ar condicionado',\n",
       " 'Bancos de couro',\n",
       " 'Piloto automático',\n",
       " 'Sensor crepuscular',\n",
       " 'Sensor de chuva',\n",
       " 'Sensor de estacionamento',\n",
       " 'Travas elétricas',\n",
       " 'Rodas de liga',\n",
       " 'Teste']"
      ]
     },
     "execution_count": 126,
     "metadata": {},
     "output_type": "execute_result"
    }
   ],
   "source": [
    "Acessorios_3"
   ]
  },
  {
   "cell_type": "code",
   "execution_count": 127,
   "id": "0e90b8cc-9329-4274-b170-8fbb95f20e95",
   "metadata": {},
   "outputs": [
    {
     "data": {
      "text/plain": [
       "['Ar condicionado',\n",
       " 'Bancos de couro',\n",
       " 'Piloto automático',\n",
       " 'Sensor crepuscular',\n",
       " 'Sensor de chuva',\n",
       " 'Sensor de estacionamento',\n",
       " 'Travas elétricas',\n",
       " 'Rodas de liga']"
      ]
     },
     "execution_count": 127,
     "metadata": {},
     "output_type": "execute_result"
    }
   ],
   "source": [
    "Acessorios"
   ]
  },
  {
   "cell_type": "code",
   "execution_count": null,
   "id": "fbf1b81a-cd72-49ee-a117-30ec09c94178",
   "metadata": {},
   "outputs": [],
   "source": []
  }
 ],
 "metadata": {
  "kernelspec": {
   "display_name": "Python 3 (ipykernel)",
   "language": "python",
   "name": "python3"
  },
  "language_info": {
   "codemirror_mode": {
    "name": "ipython",
    "version": 3
   },
   "file_extension": ".py",
   "mimetype": "text/x-python",
   "name": "python",
   "nbconvert_exporter": "python",
   "pygments_lexer": "ipython3",
   "version": "3.9.7"
  }
 },
 "nbformat": 4,
 "nbformat_minor": 5
}
