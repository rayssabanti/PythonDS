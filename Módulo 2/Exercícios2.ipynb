{
 "cells": [
  {
   "cell_type": "markdown",
   "id": "3798aa73-1466-402f-bcf7-8d88b6a08671",
   "metadata": {
    "tags": []
   },
   "source": [
    "## Exercícios "
   ]
  },
  {
   "cell_type": "markdown",
   "id": "eb6d6d39-80f1-4add-8aa7-48522532a6ed",
   "metadata": {
    "jp-MarkdownHeadingCollapsed": true,
    "tags": []
   },
   "source": [
    "### 1) Iterando em listas de listas\n",
    "dados = [ \n",
    "    ['A', 'B', 'C'],\n",
    "    ['D', 'E', 'F'],\n",
    "    ['G', 'H', 'I']\n",
    "]\n",
    "\n",
    "Avalie os itens abaixo:\n",
    "\n",
    "1) In [1]:\n",
    "\n",
    "result = []\n",
    "for lista in dados:\n",
    "    for item in lista:\n",
    "        result.append(item)\n",
    "result\n",
    "Out [1]:\n",
    "\n",
    "['A', 'B', 'C', 'D', 'E', 'F', 'G', 'H', 'I']\n",
    "\n",
    "2) In [2]:\n",
    "\n",
    "result_2 = []\n",
    "for lista in dados:\n",
    "    result_2 += lista\n",
    "result_2\n",
    "Out [2]:\n",
    "\n",
    "['A', 'B', 'C', 'D', 'E', 'F', 'G', 'H', 'I']\n",
    "3) In [3]:\n",
    "\n",
    "[item for lista in dados for item in lista]\n",
    "Out [3]:\n",
    "\n",
    "['A', 'B', 'C', 'D', 'E', 'F', 'G', 'H', 'I']\n",
    "\n",
    "Quais estão corretos?"
   ]
  },
  {
   "cell_type": "code",
   "execution_count": 2,
   "id": "4bc6a8b3-62ec-4d30-84b6-28a6d8794450",
   "metadata": {},
   "outputs": [],
   "source": [
    "dados = [ \n",
    "    ['A', 'B', 'C'],\n",
    "    ['D', 'E', 'F'],\n",
    "    ['G', 'H', 'I']\n",
    "]"
   ]
  },
  {
   "cell_type": "code",
   "execution_count": 4,
   "id": "cd35e6cf-0c75-4ffd-b690-2262b34e3825",
   "metadata": {},
   "outputs": [
    {
     "data": {
      "text/plain": [
       "['A', 'B', 'C', 'D', 'E', 'F', 'G', 'H', 'I']"
      ]
     },
     "execution_count": 4,
     "metadata": {},
     "output_type": "execute_result"
    }
   ],
   "source": [
    "result = []\n",
    "for lista in dados:\n",
    "    for item in lista:\n",
    "        result.append(item)\n",
    "result"
   ]
  },
  {
   "cell_type": "markdown",
   "id": "f44e4934-243f-4526-81a5-a4577ee349df",
   "metadata": {
    "tags": []
   },
   "source": [
    " 1) True"
   ]
  },
  {
   "cell_type": "code",
   "execution_count": 6,
   "id": "b6685e6f-4587-452a-98d2-eb3acf7cff8e",
   "metadata": {},
   "outputs": [
    {
     "data": {
      "text/plain": [
       "['A', 'B', 'C', 'D', 'E', 'F', 'G', 'H', 'I']"
      ]
     },
     "execution_count": 6,
     "metadata": {},
     "output_type": "execute_result"
    }
   ],
   "source": [
    "result_2 = []\n",
    "for lista in dados:\n",
    "    result_2 += lista\n",
    "result_2"
   ]
  },
  {
   "cell_type": "markdown",
   "id": "1eaf8e94-b1d8-4097-8e7d-fdc7a1e3fa3c",
   "metadata": {},
   "source": [
    "2. True"
   ]
  },
  {
   "cell_type": "code",
   "execution_count": 7,
   "id": "1fb2b109-dead-4014-b2a4-2ab4cd0b6d1d",
   "metadata": {},
   "outputs": [
    {
     "data": {
      "text/plain": [
       "['A', 'B', 'C', 'D', 'E', 'F', 'G', 'H', 'I']"
      ]
     },
     "execution_count": 7,
     "metadata": {},
     "output_type": "execute_result"
    }
   ],
   "source": [
    "[item for lista in dados for item in lista]"
   ]
  },
  {
   "cell_type": "markdown",
   "id": "631f3fe9-f4ef-49aa-a5b6-edfd7d08cb54",
   "metadata": {},
   "source": [
    "3. True"
   ]
  },
  {
   "cell_type": "markdown",
   "id": "dc9e6a04-36ec-412a-8bd0-4397279c35e3",
   "metadata": {
    "jp-MarkdownHeadingCollapsed": true,
    "tags": []
   },
   "source": [
    "### 2) Estruturas condicionais"
   ]
  },
  {
   "cell_type": "code",
   "execution_count": 9,
   "id": "e59b779d-e513-43e1-8b5e-c98dbef27b54",
   "metadata": {},
   "outputs": [
    {
     "name": "stdout",
     "output_type": "stream",
     "text": [
      "OK\n"
     ]
    }
   ],
   "source": [
    "ano = 2003\n",
    "if (ano == 2003):\n",
    "    print('OK')"
   ]
  },
  {
   "cell_type": "code",
   "execution_count": null,
   "id": "02024636-8ea6-491e-80b5-7c233b7f0160",
   "metadata": {},
   "outputs": [],
   "source": []
  }
 ],
 "metadata": {
  "kernelspec": {
   "display_name": "Python 3 (ipykernel)",
   "language": "python",
   "name": "python3"
  },
  "language_info": {
   "codemirror_mode": {
    "name": "ipython",
    "version": 3
   },
   "file_extension": ".py",
   "mimetype": "text/x-python",
   "name": "python",
   "nbconvert_exporter": "python",
   "pygments_lexer": "ipython3",
   "version": "3.9.7"
  }
 },
 "nbformat": 4,
 "nbformat_minor": 5
}
